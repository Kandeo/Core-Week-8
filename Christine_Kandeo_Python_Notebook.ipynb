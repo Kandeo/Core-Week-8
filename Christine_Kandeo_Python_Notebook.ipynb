{
  "nbformat": 4,
  "nbformat_minor": 0,
  "metadata": {
    "colab": {
      "name": "Christine Kandeo Python Notebook",
      "provenance": [],
      "collapsed_sections": [],
      "toc_visible": true,
      "authorship_tag": "ABX9TyMN+f3XiT5f9wmHe959CQkQ",
      "include_colab_link": true
    },
    "kernelspec": {
      "name": "python3",
      "display_name": "Python 3"
    },
    "language_info": {
      "name": "python"
    }
  },
  "cells": [
    {
      "cell_type": "markdown",
      "metadata": {
        "id": "view-in-github",
        "colab_type": "text"
      },
      "source": [
        "<a href=\"https://colab.research.google.com/github/Kandeo/Thyroid-Diesease-Predictive-Model/blob/main/Christine_Kandeo_Python_Notebook.ipynb\" target=\"_parent\"><img src=\"https://colab.research.google.com/assets/colab-badge.svg\" alt=\"Open In Colab\"/></a>"
      ]
    },
    {
      "cell_type": "markdown",
      "metadata": {
        "id": "RMAnFYdbqeS8"
      },
      "source": [
        "# **Thyroid Disease Predictive Analysis**\n",
        "\n",
        "**Overview** \n",
        "\n",
        "Nairobi Hospital conducted a clinical camp to test for hypothyroidism. The data collected focused on Thyroid patients. The healthcare dataset provided is to be used to accomplish the following:  \n",
        "\n",
        "Build a model that determines whether or not the patient's symptoms indicate that they have hypothyroid.\n",
        "\n",
        "Part 1: Decision trees:\n",
        "- For this section, at least 2 out of the 3 advanced models: Random forests, Ada boosted trees, and gradient boosted trees should be used.\n",
        "- Optimization should be done documenting how the hyperparameters are tuned.\n",
        "- Identify the 2 trusted models and use the model to determine which features are most impactful in influencing the prediction.\n",
        "\n",
        "Part 2: SVM:\n",
        "\n",
        "- In this section, one is required to clean the data so as to make sense of the features.\n",
        "\n",
        "- Document the transformation done on the data.\n",
        "\n",
        "- Polynomial, linear and rbf kernel function to be applied to build the SVM model and then evaluate their performance picking the kernel that performs the best. \n",
        "\n",
        "Dataset: http://bit.ly/hypothyroid_data  "
      ]
    },
    {
      "cell_type": "markdown",
      "metadata": {
        "id": "bnZ9PzoVuqpi"
      },
      "source": [
        "# **Defining the Question**"
      ]
    },
    {
      "cell_type": "markdown",
      "metadata": {
        "id": "v-TgEWuUuxpD"
      },
      "source": [
        "**Specific Data Analytics Question**"
      ]
    },
    {
      "cell_type": "markdown",
      "metadata": {
        "id": "dUhM_b-du4we"
      },
      "source": [
        "Building a model that determines whether or not a patient's symptoms indicate that they have Hypothyroid."
      ]
    },
    {
      "cell_type": "markdown",
      "metadata": {
        "id": "q5xt5fNIvbgO"
      },
      "source": [
        "**Metrics for success**"
      ]
    },
    {
      "cell_type": "markdown",
      "metadata": {
        "id": "OKrAV6O0qPY-"
      },
      "source": [
        "The Model built should have an Accuracy score of more than 70%"
      ]
    },
    {
      "cell_type": "markdown",
      "metadata": {
        "id": "7At8TvEuv92c"
      },
      "source": [
        "**Understanding the Context**"
      ]
    },
    {
      "cell_type": "markdown",
      "metadata": {
        "id": "J3-GOI45rmat"
      },
      "source": [
        "Hypothyroidism happens when the thyroid gland doesn't make enough thyroid hormones to meet the body's needs. Hypothyroidism can affect people of all ages, genders and ethnicities. One is at a higher risk for hypothyroidism if they:\n",
        "\n",
        " - Are a woman\n",
        " - Are older than age 60\n",
        " - Have had a thyroid problem before, such as a goiter\n",
        " - Have had surgery to correct a thyroid problem\n",
        " - Have received radiation treatment to the thyroid, neck, or chest\n",
        " - Have a family history of thyroid disease\n",
        " - Were pregnant or had a baby in the past 6 months\n",
        " - Have Turner syndrome, a genetic disorder that affects females\n",
        " \n",
        "\n",
        "This research aims to use machine learning algorithms to develop a prediction model that can identify whether or not a patient has a hypothyroid condition based on their symptoms."
      ]
    },
    {
      "cell_type": "markdown",
      "metadata": {
        "id": "PUiG-AOzxUUr"
      },
      "source": [
        "**Experimental Design**"
      ]
    },
    {
      "cell_type": "markdown",
      "metadata": {
        "id": "RtSmlkgzxXxf"
      },
      "source": [
        "1. Data Loading\n",
        " - Loading Dependencies\n",
        "2. Data Preprocessing\n",
        " - Data Uniformity\n",
        " - Handling missing/duplicate values\n",
        " - Checking Outliers\n",
        "3. Data Exploration\n",
        " - Univariate analysis\n",
        " - Bivariate analysis\n",
        "4. Modelling\n",
        " - Feature Engineering\n",
        " - Decision Trees\n",
        " - Support Vector Machine\n",
        "5. Performance Analysis\n",
        " -  Conclusions"
      ]
    },
    {
      "cell_type": "markdown",
      "metadata": {
        "id": "M4yZGIHO0qRZ"
      },
      "source": [
        "# **Data Loading**"
      ]
    },
    {
      "cell_type": "markdown",
      "metadata": {
        "id": "pe3DJ9XQJ4z7"
      },
      "source": [
        "Importing Libraries"
      ]
    },
    {
      "cell_type": "code",
      "metadata": {
        "id": "G1lLWPMJ55_t"
      },
      "source": [
        "#Importing dependencies:\n",
        "\n",
        "#For Data manipulation and EDA:\n",
        "import pandas as pd     \n",
        "import seaborn as sb     \n",
        "import seaborn as sns   \n",
        "import numpy as np      \n",
        "import matplotlib.pyplot as plt\n",
        "\n",
        "#For Model training:\n",
        "from sklearn.ensemble import AdaBoostClassifier, RandomForestClassifier, GradientBoostingClassifier\n",
        "from sklearn.model_selection import train_test_split, GridSearchCV\n",
        "from sklearn.preprocessing import StandardScaler, LabelEncoder\n",
        "from sklearn.tree import DecisionTreeClassifier, export_graphviz\n",
        "from IPython.display import Image \n",
        "from sklearn.svm import SVC \n",
        "from six import StringIO\n",
        "import pydotplus\n",
        "\n",
        "#For Performance Evaluation:\n",
        "from sklearn.metrics import classification_report, confusion_matrix, f1_score\n",
        "\n",
        "#For Warnings:\n",
        "import warnings\n",
        "warnings.filterwarnings(\"ignore\")\n"
      ],
      "execution_count": null,
      "outputs": []
    },
    {
      "cell_type": "markdown",
      "metadata": {
        "id": "SESGln3c1LNZ"
      },
      "source": [
        "# **Data Preprocessing**"
      ]
    },
    {
      "cell_type": "markdown",
      "metadata": {
        "id": "25YfqoDtKbBD"
      },
      "source": [
        "Loading the Dataset"
      ]
    },
    {
      "cell_type": "code",
      "metadata": {
        "colab": {
          "base_uri": "https://localhost:8080/",
          "height": 194
        },
        "id": "dRDd5bta3bBR",
        "outputId": "b0c33f58-5569-4a6d-bd80-176bac52b25c"
      },
      "source": [
        "#Previewing the Hypothyroid dataset:\n",
        "Hypothyroid = pd.read_csv('hypothyroid.csv')\n",
        "Hypothyroid.head(4)\n"
      ],
      "execution_count": null,
      "outputs": [
        {
          "output_type": "execute_result",
          "data": {
            "text/html": [
              "<div>\n",
              "<style scoped>\n",
              "    .dataframe tbody tr th:only-of-type {\n",
              "        vertical-align: middle;\n",
              "    }\n",
              "\n",
              "    .dataframe tbody tr th {\n",
              "        vertical-align: top;\n",
              "    }\n",
              "\n",
              "    .dataframe thead th {\n",
              "        text-align: right;\n",
              "    }\n",
              "</style>\n",
              "<table border=\"1\" class=\"dataframe\">\n",
              "  <thead>\n",
              "    <tr style=\"text-align: right;\">\n",
              "      <th></th>\n",
              "      <th>status</th>\n",
              "      <th>age</th>\n",
              "      <th>sex</th>\n",
              "      <th>on_thyroxine</th>\n",
              "      <th>query_on_thyroxine</th>\n",
              "      <th>on_antithyroid_medication</th>\n",
              "      <th>thyroid_surgery</th>\n",
              "      <th>query_hypothyroid</th>\n",
              "      <th>query_hyperthyroid</th>\n",
              "      <th>pregnant</th>\n",
              "      <th>sick</th>\n",
              "      <th>tumor</th>\n",
              "      <th>lithium</th>\n",
              "      <th>goitre</th>\n",
              "      <th>TSH_measured</th>\n",
              "      <th>TSH</th>\n",
              "      <th>T3_measured</th>\n",
              "      <th>T3</th>\n",
              "      <th>TT4_measured</th>\n",
              "      <th>TT4</th>\n",
              "      <th>T4U_measured</th>\n",
              "      <th>T4U</th>\n",
              "      <th>FTI_measured</th>\n",
              "      <th>FTI</th>\n",
              "      <th>TBG_measured</th>\n",
              "      <th>TBG</th>\n",
              "    </tr>\n",
              "  </thead>\n",
              "  <tbody>\n",
              "    <tr>\n",
              "      <th>0</th>\n",
              "      <td>hypothyroid</td>\n",
              "      <td>72</td>\n",
              "      <td>M</td>\n",
              "      <td>f</td>\n",
              "      <td>f</td>\n",
              "      <td>f</td>\n",
              "      <td>f</td>\n",
              "      <td>f</td>\n",
              "      <td>f</td>\n",
              "      <td>f</td>\n",
              "      <td>f</td>\n",
              "      <td>f</td>\n",
              "      <td>f</td>\n",
              "      <td>f</td>\n",
              "      <td>y</td>\n",
              "      <td>30</td>\n",
              "      <td>y</td>\n",
              "      <td>0.60</td>\n",
              "      <td>y</td>\n",
              "      <td>15</td>\n",
              "      <td>y</td>\n",
              "      <td>1.48</td>\n",
              "      <td>y</td>\n",
              "      <td>10</td>\n",
              "      <td>n</td>\n",
              "      <td>?</td>\n",
              "    </tr>\n",
              "    <tr>\n",
              "      <th>1</th>\n",
              "      <td>hypothyroid</td>\n",
              "      <td>15</td>\n",
              "      <td>F</td>\n",
              "      <td>t</td>\n",
              "      <td>f</td>\n",
              "      <td>f</td>\n",
              "      <td>f</td>\n",
              "      <td>f</td>\n",
              "      <td>f</td>\n",
              "      <td>f</td>\n",
              "      <td>f</td>\n",
              "      <td>f</td>\n",
              "      <td>f</td>\n",
              "      <td>f</td>\n",
              "      <td>y</td>\n",
              "      <td>145</td>\n",
              "      <td>y</td>\n",
              "      <td>1.70</td>\n",
              "      <td>y</td>\n",
              "      <td>19</td>\n",
              "      <td>y</td>\n",
              "      <td>1.13</td>\n",
              "      <td>y</td>\n",
              "      <td>17</td>\n",
              "      <td>n</td>\n",
              "      <td>?</td>\n",
              "    </tr>\n",
              "    <tr>\n",
              "      <th>2</th>\n",
              "      <td>hypothyroid</td>\n",
              "      <td>24</td>\n",
              "      <td>M</td>\n",
              "      <td>f</td>\n",
              "      <td>f</td>\n",
              "      <td>f</td>\n",
              "      <td>f</td>\n",
              "      <td>f</td>\n",
              "      <td>f</td>\n",
              "      <td>f</td>\n",
              "      <td>f</td>\n",
              "      <td>f</td>\n",
              "      <td>f</td>\n",
              "      <td>f</td>\n",
              "      <td>y</td>\n",
              "      <td>0</td>\n",
              "      <td>y</td>\n",
              "      <td>0.20</td>\n",
              "      <td>y</td>\n",
              "      <td>4</td>\n",
              "      <td>y</td>\n",
              "      <td>1</td>\n",
              "      <td>y</td>\n",
              "      <td>0</td>\n",
              "      <td>n</td>\n",
              "      <td>?</td>\n",
              "    </tr>\n",
              "    <tr>\n",
              "      <th>3</th>\n",
              "      <td>hypothyroid</td>\n",
              "      <td>24</td>\n",
              "      <td>F</td>\n",
              "      <td>f</td>\n",
              "      <td>f</td>\n",
              "      <td>f</td>\n",
              "      <td>f</td>\n",
              "      <td>f</td>\n",
              "      <td>f</td>\n",
              "      <td>f</td>\n",
              "      <td>f</td>\n",
              "      <td>f</td>\n",
              "      <td>f</td>\n",
              "      <td>f</td>\n",
              "      <td>y</td>\n",
              "      <td>430</td>\n",
              "      <td>y</td>\n",
              "      <td>0.40</td>\n",
              "      <td>y</td>\n",
              "      <td>6</td>\n",
              "      <td>y</td>\n",
              "      <td>1.04</td>\n",
              "      <td>y</td>\n",
              "      <td>6</td>\n",
              "      <td>n</td>\n",
              "      <td>?</td>\n",
              "    </tr>\n",
              "  </tbody>\n",
              "</table>\n",
              "</div>"
            ],
            "text/plain": [
              "        status age sex on_thyroxine  ... FTI_measured FTI TBG_measured TBG\n",
              "0  hypothyroid  72   M            f  ...            y  10            n   ?\n",
              "1  hypothyroid  15   F            t  ...            y  17            n   ?\n",
              "2  hypothyroid  24   M            f  ...            y   0            n   ?\n",
              "3  hypothyroid  24   F            f  ...            y   6            n   ?\n",
              "\n",
              "[4 rows x 26 columns]"
            ]
          },
          "metadata": {},
          "execution_count": 6
        }
      ]
    },
    {
      "cell_type": "code",
      "metadata": {
        "colab": {
          "base_uri": "https://localhost:8080/"
        },
        "id": "soBZv4I_7ZWj",
        "outputId": "5076a1c1-a258-435a-b9f9-2da2254eb4d6"
      },
      "source": [
        "#Checking the shape of the dataset:\n",
        "Hypothyroid.shape\n"
      ],
      "execution_count": null,
      "outputs": [
        {
          "output_type": "execute_result",
          "data": {
            "text/plain": [
              "(3163, 26)"
            ]
          },
          "metadata": {},
          "execution_count": 7
        }
      ]
    },
    {
      "cell_type": "markdown",
      "metadata": {
        "id": "izT3phbk6aPZ"
      },
      "source": [
        "Data Uniformity"
      ]
    },
    {
      "cell_type": "code",
      "metadata": {
        "colab": {
          "base_uri": "https://localhost:8080/"
        },
        "id": "Zuj4NtjA6jcv",
        "outputId": "a507202f-f12a-4ce6-d560-aa47628821c0"
      },
      "source": [
        "#Checking the datatypes:\n",
        "Hypothyroid.dtypes\n"
      ],
      "execution_count": null,
      "outputs": [
        {
          "output_type": "execute_result",
          "data": {
            "text/plain": [
              "status                       object\n",
              "age                          object\n",
              "sex                          object\n",
              "on_thyroxine                 object\n",
              "query_on_thyroxine           object\n",
              "on_antithyroid_medication    object\n",
              "thyroid_surgery              object\n",
              "query_hypothyroid            object\n",
              "query_hyperthyroid           object\n",
              "pregnant                     object\n",
              "sick                         object\n",
              "tumor                        object\n",
              "lithium                      object\n",
              "goitre                       object\n",
              "TSH_measured                 object\n",
              "TSH                          object\n",
              "T3_measured                  object\n",
              "T3                           object\n",
              "TT4_measured                 object\n",
              "TT4                          object\n",
              "T4U_measured                 object\n",
              "T4U                          object\n",
              "FTI_measured                 object\n",
              "FTI                          object\n",
              "TBG_measured                 object\n",
              "TBG                          object\n",
              "dtype: object"
            ]
          },
          "metadata": {},
          "execution_count": 8
        }
      ]
    },
    {
      "cell_type": "markdown",
      "metadata": {
        "id": "u04sR7hj7tLs"
      },
      "source": [
        "From the Dataset, Age, TSH ,T3, TT4, T4U, FTI, TBG are numerical variables. From the summary above, the respective columns have been assigned as Objects due to the attribute '?'.\n",
        "\n"
      ]
    },
    {
      "cell_type": "code",
      "metadata": {
        "id": "NT_f66qv6ize"
      },
      "source": [
        "#Replacing the ? on the numerical columns with none:\n",
        "Hypothyroid.replace('?', np.nan, inplace = True)\n"
      ],
      "execution_count": null,
      "outputs": []
    },
    {
      "cell_type": "code",
      "metadata": {
        "id": "NaH1eBkgDMeC"
      },
      "source": [
        "#Converting the numerical variables from objects to float:\n",
        "Numerics = ['age','TSH', 'T3', 'TT4', 'T4U', 'FTI', 'TBG']\n",
        "for i in Numerics:\n",
        "    Hypothyroid[i] = pd.to_numeric(Hypothyroid[i])\n"
      ],
      "execution_count": null,
      "outputs": []
    },
    {
      "cell_type": "markdown",
      "metadata": {
        "id": "vSZHWjU2GU6p"
      },
      "source": [
        "Missing/duplicate values"
      ]
    },
    {
      "cell_type": "code",
      "metadata": {
        "colab": {
          "base_uri": "https://localhost:8080/"
        },
        "id": "Ob8wm7DvBXpY",
        "outputId": "f28ceed0-16dd-4af1-c34c-108478c8206b"
      },
      "source": [
        "#Checking for null entries:\n",
        "Hypothyroid.isnull().sum()\n"
      ],
      "execution_count": null,
      "outputs": [
        {
          "output_type": "execute_result",
          "data": {
            "text/plain": [
              "status                          0\n",
              "age                           446\n",
              "sex                            73\n",
              "on_thyroxine                    0\n",
              "query_on_thyroxine              0\n",
              "on_antithyroid_medication       0\n",
              "thyroid_surgery                 0\n",
              "query_hypothyroid               0\n",
              "query_hyperthyroid              0\n",
              "pregnant                        0\n",
              "sick                            0\n",
              "tumor                           0\n",
              "lithium                         0\n",
              "goitre                          0\n",
              "TSH_measured                    0\n",
              "TSH                           468\n",
              "T3_measured                     0\n",
              "T3                            695\n",
              "TT4_measured                    0\n",
              "TT4                           249\n",
              "T4U_measured                    0\n",
              "T4U                           248\n",
              "FTI_measured                    0\n",
              "FTI                           247\n",
              "TBG_measured                    0\n",
              "TBG                          2903\n",
              "dtype: int64"
            ]
          },
          "metadata": {},
          "execution_count": 11
        }
      ]
    },
    {
      "cell_type": "code",
      "metadata": {
        "colab": {
          "base_uri": "https://localhost:8080/",
          "height": 300
        },
        "id": "PLr6xxH6HZZI",
        "outputId": "04d11df3-dc51-42db-ae54-594edde323fb"
      },
      "source": [
        "#A descriptive summary of the columns with null values:\n",
        "Missings = Hypothyroid[['age','TSH', 'T3', 'TT4', 'T4U', 'FTI', 'TBG']].copy()\n",
        "Missings.describe() \n"
      ],
      "execution_count": null,
      "outputs": [
        {
          "output_type": "execute_result",
          "data": {
            "text/html": [
              "<div>\n",
              "<style scoped>\n",
              "    .dataframe tbody tr th:only-of-type {\n",
              "        vertical-align: middle;\n",
              "    }\n",
              "\n",
              "    .dataframe tbody tr th {\n",
              "        vertical-align: top;\n",
              "    }\n",
              "\n",
              "    .dataframe thead th {\n",
              "        text-align: right;\n",
              "    }\n",
              "</style>\n",
              "<table border=\"1\" class=\"dataframe\">\n",
              "  <thead>\n",
              "    <tr style=\"text-align: right;\">\n",
              "      <th></th>\n",
              "      <th>age</th>\n",
              "      <th>TSH</th>\n",
              "      <th>T3</th>\n",
              "      <th>TT4</th>\n",
              "      <th>T4U</th>\n",
              "      <th>FTI</th>\n",
              "      <th>TBG</th>\n",
              "    </tr>\n",
              "  </thead>\n",
              "  <tbody>\n",
              "    <tr>\n",
              "      <th>count</th>\n",
              "      <td>2717.000000</td>\n",
              "      <td>2695.000000</td>\n",
              "      <td>2468.000000</td>\n",
              "      <td>2914.000000</td>\n",
              "      <td>2915.000000</td>\n",
              "      <td>2916.000000</td>\n",
              "      <td>260.000000</td>\n",
              "    </tr>\n",
              "    <tr>\n",
              "      <th>mean</th>\n",
              "      <td>51.154214</td>\n",
              "      <td>5.923180</td>\n",
              "      <td>1.939749</td>\n",
              "      <td>108.850000</td>\n",
              "      <td>0.978199</td>\n",
              "      <td>115.397771</td>\n",
              "      <td>31.283077</td>\n",
              "    </tr>\n",
              "    <tr>\n",
              "      <th>std</th>\n",
              "      <td>19.294405</td>\n",
              "      <td>23.899467</td>\n",
              "      <td>0.996773</td>\n",
              "      <td>45.485419</td>\n",
              "      <td>0.226580</td>\n",
              "      <td>60.239572</td>\n",
              "      <td>19.224659</td>\n",
              "    </tr>\n",
              "    <tr>\n",
              "      <th>min</th>\n",
              "      <td>1.000000</td>\n",
              "      <td>0.000000</td>\n",
              "      <td>0.000000</td>\n",
              "      <td>2.000000</td>\n",
              "      <td>0.000000</td>\n",
              "      <td>0.000000</td>\n",
              "      <td>0.000000</td>\n",
              "    </tr>\n",
              "    <tr>\n",
              "      <th>25%</th>\n",
              "      <td>35.000000</td>\n",
              "      <td>0.000000</td>\n",
              "      <td>1.400000</td>\n",
              "      <td>83.000000</td>\n",
              "      <td>0.850000</td>\n",
              "      <td>91.000000</td>\n",
              "      <td>21.000000</td>\n",
              "    </tr>\n",
              "    <tr>\n",
              "      <th>50%</th>\n",
              "      <td>54.000000</td>\n",
              "      <td>0.700000</td>\n",
              "      <td>1.800000</td>\n",
              "      <td>104.000000</td>\n",
              "      <td>0.960000</td>\n",
              "      <td>107.000000</td>\n",
              "      <td>28.000000</td>\n",
              "    </tr>\n",
              "    <tr>\n",
              "      <th>75%</th>\n",
              "      <td>67.000000</td>\n",
              "      <td>2.300000</td>\n",
              "      <td>2.300000</td>\n",
              "      <td>128.000000</td>\n",
              "      <td>1.065000</td>\n",
              "      <td>129.000000</td>\n",
              "      <td>34.000000</td>\n",
              "    </tr>\n",
              "    <tr>\n",
              "      <th>max</th>\n",
              "      <td>98.000000</td>\n",
              "      <td>530.000000</td>\n",
              "      <td>10.200000</td>\n",
              "      <td>450.000000</td>\n",
              "      <td>2.210000</td>\n",
              "      <td>881.000000</td>\n",
              "      <td>122.000000</td>\n",
              "    </tr>\n",
              "  </tbody>\n",
              "</table>\n",
              "</div>"
            ],
            "text/plain": [
              "               age          TSH  ...          FTI         TBG\n",
              "count  2717.000000  2695.000000  ...  2916.000000  260.000000\n",
              "mean     51.154214     5.923180  ...   115.397771   31.283077\n",
              "std      19.294405    23.899467  ...    60.239572   19.224659\n",
              "min       1.000000     0.000000  ...     0.000000    0.000000\n",
              "25%      35.000000     0.000000  ...    91.000000   21.000000\n",
              "50%      54.000000     0.700000  ...   107.000000   28.000000\n",
              "75%      67.000000     2.300000  ...   129.000000   34.000000\n",
              "max      98.000000   530.000000  ...   881.000000  122.000000\n",
              "\n",
              "[8 rows x 7 columns]"
            ]
          },
          "metadata": {},
          "execution_count": 12
        }
      ]
    },
    {
      "cell_type": "code",
      "metadata": {
        "id": "PZYr2VK-JRls"
      },
      "source": [
        "#Filling the null values with the means:\n",
        "for i in Missings:\n",
        "  Hypothyroid[i] = Hypothyroid[i].fillna(Hypothyroid[i].mean())\n",
        "    "
      ],
      "execution_count": null,
      "outputs": []
    },
    {
      "cell_type": "code",
      "metadata": {
        "id": "pCtevhK8K01W"
      },
      "source": [
        "#Dropping the 73 observations missing information on the Sex column:\n",
        "Hypothyroid.dropna(inplace = True)\n"
      ],
      "execution_count": null,
      "outputs": []
    },
    {
      "cell_type": "code",
      "metadata": {
        "colab": {
          "base_uri": "https://localhost:8080/"
        },
        "id": "_IHFW-kUNBWu",
        "outputId": "dc41e684-0692-423d-b9bd-4816867f088c"
      },
      "source": [
        "#Checking for duplicates:\n",
        "Hypothyroid.duplicated().sum()    #77 duplicates identified\n",
        "\n",
        "#Dropping duplicates:\n",
        "Hypothyroid.drop_duplicates(inplace=True)\n",
        "Hypothyroid.duplicated().sum()\n"
      ],
      "execution_count": null,
      "outputs": [
        {
          "output_type": "execute_result",
          "data": {
            "text/plain": [
              "0"
            ]
          },
          "metadata": {},
          "execution_count": 15
        }
      ]
    },
    {
      "cell_type": "code",
      "metadata": {
        "id": "T1qL0GdXPLka"
      },
      "source": [
        "#Converting Age column to integer:\n",
        "Hypothyroid['age'] = Hypothyroid['age'].astype('int')\n"
      ],
      "execution_count": null,
      "outputs": []
    },
    {
      "cell_type": "code",
      "metadata": {
        "colab": {
          "base_uri": "https://localhost:8080/"
        },
        "id": "cwHBLhF9LLgP",
        "outputId": "5a5521e5-55dd-400d-f63a-40512e2fb1cc"
      },
      "source": [
        "#Viewing the final information:\n",
        "Hypothyroid.info()\n"
      ],
      "execution_count": null,
      "outputs": [
        {
          "output_type": "stream",
          "name": "stdout",
          "text": [
            "<class 'pandas.core.frame.DataFrame'>\n",
            "Int64Index: 3013 entries, 0 to 3162\n",
            "Data columns (total 26 columns):\n",
            " #   Column                     Non-Null Count  Dtype  \n",
            "---  ------                     --------------  -----  \n",
            " 0   status                     3013 non-null   object \n",
            " 1   age                        3013 non-null   int64  \n",
            " 2   sex                        3013 non-null   object \n",
            " 3   on_thyroxine               3013 non-null   object \n",
            " 4   query_on_thyroxine         3013 non-null   object \n",
            " 5   on_antithyroid_medication  3013 non-null   object \n",
            " 6   thyroid_surgery            3013 non-null   object \n",
            " 7   query_hypothyroid          3013 non-null   object \n",
            " 8   query_hyperthyroid         3013 non-null   object \n",
            " 9   pregnant                   3013 non-null   object \n",
            " 10  sick                       3013 non-null   object \n",
            " 11  tumor                      3013 non-null   object \n",
            " 12  lithium                    3013 non-null   object \n",
            " 13  goitre                     3013 non-null   object \n",
            " 14  TSH_measured               3013 non-null   object \n",
            " 15  TSH                        3013 non-null   float64\n",
            " 16  T3_measured                3013 non-null   object \n",
            " 17  T3                         3013 non-null   float64\n",
            " 18  TT4_measured               3013 non-null   object \n",
            " 19  TT4                        3013 non-null   float64\n",
            " 20  T4U_measured               3013 non-null   object \n",
            " 21  T4U                        3013 non-null   float64\n",
            " 22  FTI_measured               3013 non-null   object \n",
            " 23  FTI                        3013 non-null   float64\n",
            " 24  TBG_measured               3013 non-null   object \n",
            " 25  TBG                        3013 non-null   float64\n",
            "dtypes: float64(6), int64(1), object(19)\n",
            "memory usage: 635.6+ KB\n"
          ]
        }
      ]
    },
    {
      "cell_type": "markdown",
      "metadata": {
        "id": "GzMxVvoMKkuz"
      },
      "source": [
        "Checking Outliers"
      ]
    },
    {
      "cell_type": "code",
      "metadata": {
        "colab": {
          "base_uri": "https://localhost:8080/",
          "height": 658
        },
        "id": "4RzXtg3dZK8F",
        "outputId": "4439d5fb-c221-4b45-8fa3-0ef27090abbd"
      },
      "source": [
        "# Checking for Outliers on the numerical features:\n",
        "# Creating a dictionary:\n",
        "\n",
        "dictionary = {'age': 1, 'TSH': 2, 'T3': 3,'TT4': 4,'T4U': 5, 'FTI': 6,'TBG': 7}\n",
        "\n",
        "plt.figure(figsize=(20,30))\n",
        "\n",
        "#Visualizing the Information on a boxplot:\n",
        "for variable,i in dictionary.items():\n",
        "  plt.subplot(5,4,i)\n",
        "  plt.boxplot(Hypothyroid[variable])\n",
        "  plt.title(variable)\n",
        "plt.show()\n"
      ],
      "execution_count": null,
      "outputs": [
        {
          "output_type": "display_data",
          "data": {
            "image/png": "[encoded data removed]",
            "text/plain": [
              "<Figure size 1440x2160 with 7 Axes>"
            ]
          },
          "metadata": {
            "needs_background": "light"
          }
        }
      ]
    },
    {
      "cell_type": "markdown",
      "metadata": {
        "id": "VV9GrKxtYUTM"
      },
      "source": [
        "Since there's no basis to assume the entries are not valid observations, no outliers are dropped"
      ]
    },
    {
      "cell_type": "code",
      "metadata": {
        "colab": {
          "base_uri": "https://localhost:8080/"
        },
        "id": "yIHaH8z_ahJo",
        "outputId": "b0c556e5-62de-44b7-9202-4da14818f409"
      },
      "source": [
        "#Finding  Q1 and Q3:\n",
        "Q1 = Hypothyroid.quantile(0.25)\n",
        "Q3 = Hypothyroid.quantile(0.75)\n",
        "Q1, Q3\n",
        "\n",
        "#Finding the Interquartile range:\n",
        "IQR = Q3 - Q1\n",
        "IQR\n"
      ],
      "execution_count": null,
      "outputs": [
        {
          "output_type": "execute_result",
          "data": {
            "text/plain": [
              "age    28.00000\n",
              "TSH     5.92318\n",
              "T3      0.70000\n",
              "TT4    39.00000\n",
              "T4U     0.18000\n",
              "FTI    33.00000\n",
              "TBG     0.00000\n",
              "dtype: float64"
            ]
          },
          "metadata": {},
          "execution_count": 17
        }
      ]
    },
    {
      "cell_type": "markdown",
      "metadata": {
        "id": "PUx4vSj-QjEB"
      },
      "source": [
        "# **Exploratory Data Analysis**"
      ]
    },
    {
      "cell_type": "markdown",
      "metadata": {
        "id": "dDQxWCJxR9vV"
      },
      "source": [
        "1. **Univariate Analysis**"
      ]
    },
    {
      "cell_type": "markdown",
      "metadata": {
        "id": "jk2CtohOR5Ik"
      },
      "source": [
        "This analysis is performed with an aim of describing the data in terms of:"
      ]
    },
    {
      "cell_type": "markdown",
      "metadata": {
        "id": "A-7_3m6mbEIo"
      },
      "source": [
        " - Gender distibution"
      ]
    },
    {
      "cell_type": "code",
      "metadata": {
        "colab": {
          "base_uri": "https://localhost:8080/",
          "height": 320
        },
        "id": "FTlK0GgNN0lG",
        "outputId": "8a94d096-bcbd-45cf-aa48-bf23788d25e0"
      },
      "source": [
        "#Viewing the data in terms of sex:\n",
        "Gender = Hypothyroid['sex'].value_counts()\n",
        "Gender\n",
        "# F: 2,119    M:  894\n",
        "\n",
        "#Visualising the information on a pie chart:\n",
        "labels= ['Females','Males']\n",
        "colors=['rosybrown', 'darksalmon']\n",
        "fontsize = 14\n",
        "plt.figure(figsize= (9, 5))\n",
        "plt.title(\"GENDER DISTRIBUTION\", fontsize = fontsize)\n",
        "plt.pie(Gender,labels=labels, colors=colors, startangle=180, shadow=True,explode=(0, 0.1), autopct='%1.2f%%')\n",
        "plt.axis('equal')\n",
        "plt.show()\n"
      ],
      "execution_count": null,
      "outputs": [
        {
          "output_type": "display_data",
          "data": {
            "image/png": "[encoded data removed]",
            "text/plain": [
              "<Figure size 648x360 with 1 Axes>"
            ]
          },
          "metadata": {}
        }
      ]
    },
    {
      "cell_type": "markdown",
      "metadata": {
        "id": "TaB-WvIdmpt_"
      },
      "source": [
        "70% of the patients were females. Being that they are highly at risk, that makes the data appropriate"
      ]
    },
    {
      "cell_type": "markdown",
      "metadata": {
        "id": "RDVPAMkNbNcq"
      },
      "source": [
        " - Age Distribution"
      ]
    },
    {
      "cell_type": "code",
      "metadata": {
        "colab": {
          "base_uri": "https://localhost:8080/",
          "height": 459
        },
        "id": "D2OaJ5bYM5qS",
        "outputId": "d883c00f-1410-49a5-dc04-690f8097d568"
      },
      "source": [
        "#Viewing the age distribution of patients:\n",
        "plt.figure(figsize= (17, 7))\n",
        "fontsize = 14\n",
        "plt.title('AGE DISTRIBUTION', fontsize = fontsize)\n",
        "plt.xlabel('Age')\n",
        "plt.ylabel('Frequency')\n",
        "plt.hist(Hypothyroid.age, bins= np.arange(10, 100, 2), color='moccasin', edgecolor='white');\n"
      ],
      "execution_count": null,
      "outputs": [
        {
          "output_type": "display_data",
          "data": {
            "image/png": "[encoded data removed]",
            "text/plain": [
              "<Figure size 1224x504 with 1 Axes>"
            ]
          },
          "metadata": {
            "needs_background": "light"
          }
        }
      ]
    },
    {
      "cell_type": "markdown",
      "metadata": {
        "id": "POE7Z99AqYJw"
      },
      "source": [
        "Most individuals were between the ages of 50-52 years"
      ]
    },
    {
      "cell_type": "markdown",
      "metadata": {
        "id": "GZFvX0fcWzB0"
      },
      "source": [
        " -  Distribution of Sick patients"
      ]
    },
    {
      "cell_type": "code",
      "metadata": {
        "colab": {
          "base_uri": "https://localhost:8080/"
        },
        "id": "e8Fe-_x9VFOG",
        "outputId": "756d98cb-9573-4c54-d534-842cc5137a7e"
      },
      "source": [
        "#To find out if majority of the patients were sick:\n",
        "Sickness = Hypothyroid['sick'].value_counts(normalize=True)*100\n",
        "Sickness\n"
      ],
      "execution_count": null,
      "outputs": [
        {
          "output_type": "execute_result",
          "data": {
            "text/plain": [
              "f    96.813807\n",
              "t     3.186193\n",
              "Name: sick, dtype: float64"
            ]
          },
          "metadata": {},
          "execution_count": 59
        }
      ]
    },
    {
      "cell_type": "markdown",
      "metadata": {
        "id": "U9PepL9ks--g"
      },
      "source": [
        "96% of the patients were not Sick"
      ]
    },
    {
      "cell_type": "markdown",
      "metadata": {
        "id": "V2WWkUNUROm5"
      },
      "source": [
        " - Understanding the number of patients who've undergone Thyroid surgery"
      ]
    },
    {
      "cell_type": "code",
      "metadata": {
        "colab": {
          "base_uri": "https://localhost:8080/"
        },
        "id": "Qbi7KwSIIJP_",
        "outputId": "b018fbd5-bf8c-4554-e6f4-df4f5725111a"
      },
      "source": [
        "#To find out if majority of the patients had undergone thyroid surgery:\n",
        "Surgery = Hypothyroid['thyroid_surgery'].value_counts()\n",
        "Surgery\n"
      ],
      "execution_count": null,
      "outputs": [
        {
          "output_type": "execute_result",
          "data": {
            "text/plain": [
              "f    2912\n",
              "t     101\n",
              "Name: thyroid_surgery, dtype: int64"
            ]
          },
          "metadata": {},
          "execution_count": 22
        }
      ]
    },
    {
      "cell_type": "markdown",
      "metadata": {
        "id": "Dk2Y3NkGRiBP"
      },
      "source": [
        "101 Patients out of a total of 3,013 had undergone thyroid surgery. This information can be explored to find out if this was in relation to the postive cases"
      ]
    },
    {
      "cell_type": "markdown",
      "metadata": {
        "id": "Emt2WFptSVl-"
      },
      "source": [
        " - Patients on antithyroid medication"
      ]
    },
    {
      "cell_type": "code",
      "metadata": {
        "colab": {
          "base_uri": "https://localhost:8080/"
        },
        "id": "RLs5nUBkIRkt",
        "outputId": "6c553c80-bf79-4b6c-f38c-67fb700261f2"
      },
      "source": [
        "#To find out the number of patients on antithyroid medication:\n",
        "Meds = Hypothyroid['on_antithyroid_medication'].value_counts(normalize=True)*100\n",
        "Meds\n"
      ],
      "execution_count": null,
      "outputs": [
        {
          "output_type": "execute_result",
          "data": {
            "text/plain": [
              "f    98.60604\n",
              "t     1.39396\n",
              "Name: on_antithyroid_medication, dtype: float64"
            ]
          },
          "metadata": {},
          "execution_count": 28
        }
      ]
    },
    {
      "cell_type": "markdown",
      "metadata": {
        "id": "Gk35ZDhfSvxg"
      },
      "source": [
        "Antithyroid medicines are used to treat an overactive thyroid gland (hyperthyroidism). Only 1% of the total sample were on this medications"
      ]
    },
    {
      "cell_type": "markdown",
      "metadata": {
        "id": "l_qirGJXY4qi"
      },
      "source": [
        " -  Distribution of Hypothyroid Cases"
      ]
    },
    {
      "cell_type": "code",
      "metadata": {
        "colab": {
          "base_uri": "https://localhost:8080/",
          "height": 337
        },
        "id": "rwnZS_NBVIv0",
        "outputId": "0009e4d7-0000-4676-cf8b-fafc43d91a10"
      },
      "source": [
        "#Comparing the number of patients who've tested positive for Hypothyroid :\n",
        "Status = Hypothyroid.status.value_counts()\n",
        "Status\n",
        "# Negative: 2,874       Positive: 139\n",
        "\n",
        "#Plotting observations:\n",
        "plt.figure(figsize= (7,5))\n",
        "fontsize = 14\n",
        "plt.title(\"PATIENT'S HYPOTHYROID STATUS\", fontsize = fontsize)\n",
        "sns.barplot(x=Status.index, y=Status, palette='pastel');\n"
      ],
      "execution_count": null,
      "outputs": [
        {
          "output_type": "display_data",
          "data": {
            "image/png": "[encoded data removed]",
            "text/plain": [
              "<Figure size 504x360 with 1 Axes>"
            ]
          },
          "metadata": {
            "needs_background": "light"
          }
        }
      ]
    },
    {
      "cell_type": "markdown",
      "metadata": {
        "id": "hu1fyhLktE1x"
      },
      "source": [
        "Majority of the patients tested negative for Hypothyroid. This is a case of data imbalance"
      ]
    },
    {
      "cell_type": "markdown",
      "metadata": {
        "id": "9lmBpQm7juKn"
      },
      "source": [
        "Recommendation:\n",
        "- Further analysis to be done to establish if there exists any relationship between the sex of the patient and the hypothyroid status.\n",
        "- The case of data imbalance to be monitored during data modelling to avoid a case of good accuracy scores due to the high number of negatives.\n",
        "- To avoid overfitting, correlations between any 2 variables to be investigated."
      ]
    },
    {
      "cell_type": "markdown",
      "metadata": {
        "id": "mGexxM8uaUx8"
      },
      "source": [
        "2. **Bivariate Analysis**"
      ]
    },
    {
      "cell_type": "markdown",
      "metadata": {
        "id": "AAgqUyXekjwU"
      },
      "source": [
        "This analysis aims to determine whether a statistical association exists between any two given variables."
      ]
    },
    {
      "cell_type": "markdown",
      "metadata": {
        "id": "T72TleMPk92O"
      },
      "source": [
        " - Correlation Test"
      ]
    },
    {
      "cell_type": "code",
      "metadata": {
        "colab": {
          "base_uri": "https://localhost:8080/",
          "height": 499
        },
        "id": "uUDZ51XCksOG",
        "outputId": "57537dca-4628-4a93-b51c-0b6e44564f96"
      },
      "source": [
        "#To check for correlation between the variables:\n",
        "plt.figure(figsize = (16, 8))\n",
        "Corr = Hypothyroid.corr()\n",
        "sns.heatmap(Corr, cmap = 'Greys', annot = True)\n",
        "plt.title('CORRELATION MATRIX', y=1.5)\n",
        "plt.show()\n"
      ],
      "execution_count": null,
      "outputs": [
        {
          "output_type": "display_data",
          "data": {
            "image/png": "[encoded data removed]",
            "text/plain": [
              "<Figure size 1152x576 with 2 Axes>"
            ]
          },
          "metadata": {
            "needs_background": "light"
          }
        }
      ]
    },
    {
      "cell_type": "markdown",
      "metadata": {
        "id": "Oj5tCmMHiCYH"
      },
      "source": [
        " - A strong positive relationship of 0.82 exists between FTI and TT4\n",
        " - A moderate relationship of 0.54 is observed between T3 and TT4\n",
        " \n",
        "Multi-collinearity of features does not affect the accuracy and prediction performance of the ensembles. Features do not need to be removed or otherwise engineered to decrease the correlations and interactions between them."
      ]
    },
    {
      "cell_type": "code",
      "metadata": {
        "colab": {
          "base_uri": "https://localhost:8080/",
          "height": 295
        },
        "id": "CFSV-oE62hAX",
        "outputId": "dd33763e-ccbf-47f0-f4cd-409a0a661f0b"
      },
      "source": [
        "#Plotting the relationship between TT4 and FT1:\n",
        "Hypothyroid.plot(x = 'TT4', y = 'FTI', kind='scatter')\n",
        "plt.title('Relationship Plot of TT4 and FTI')\n",
        "plt.xlabel('TT4')\n",
        "plt.ylabel('FTI')\n",
        "plt.show()\n"
      ],
      "execution_count": null,
      "outputs": [
        {
          "output_type": "display_data",
          "data": {
            "image/png": "[encoded data removed]",
            "text/plain": [
              "<Figure size 432x288 with 1 Axes>"
            ]
          },
          "metadata": {
            "needs_background": "light"
          }
        }
      ]
    },
    {
      "cell_type": "markdown",
      "metadata": {
        "id": "QtGaY6aGkJPt"
      },
      "source": [
        "The Plot indicates a positive correlation. As the value of TT4 changes so does the value of FTI."
      ]
    },
    {
      "cell_type": "markdown",
      "metadata": {
        "id": "RidD78OnmJ2I"
      },
      "source": [
        " - Hypothyroid Status and Sex of the Patient"
      ]
    },
    {
      "cell_type": "code",
      "metadata": {
        "colab": {
          "base_uri": "https://localhost:8080/",
          "height": 351
        },
        "id": "lWSzvh2wkxdR",
        "outputId": "08296677-77b8-4ee1-d6f4-a5d0cef2a948"
      },
      "source": [
        "#To understand the relationship between the sex of the patient and their status:\n",
        "C=pd.crosstab(index=Hypothyroid['sex'],columns=Hypothyroid['status'])\n",
        "C.plot.bar(figsize=(9,5), rot=0)\n"
      ],
      "execution_count": null,
      "outputs": [
        {
          "output_type": "execute_result",
          "data": {
            "text/plain": [
              "<matplotlib.axes._subplots.AxesSubplot at 0x7f1361a23390>"
            ]
          },
          "metadata": {},
          "execution_count": 32
        },
        {
          "output_type": "display_data",
          "data": {
            "image/png": "[encoded data removed]",
            "text/plain": [
              "<Figure size 648x360 with 1 Axes>"
            ]
          },
          "metadata": {
            "needs_background": "light"
          }
        }
      ]
    },
    {
      "cell_type": "markdown",
      "metadata": {
        "id": "-wyeaHktUQKe"
      },
      "source": [
        "Due to data imbalance, its hard to conclude if indeed there exists any relationship between sex and Hypothyroid cases"
      ]
    },
    {
      "cell_type": "markdown",
      "metadata": {
        "id": "pltaiTElnIqI"
      },
      "source": [
        " - Hypothyroid cases and thyroid surgery"
      ]
    },
    {
      "cell_type": "code",
      "metadata": {
        "colab": {
          "base_uri": "https://localhost:8080/",
          "height": 352
        },
        "id": "paIIma1TmtwB",
        "outputId": "fda12a20-c230-4e0a-e2ad-0b92ac2e6203"
      },
      "source": [
        "#To understand the relationship between status and thyroid surgery cases:\n",
        "C=pd.crosstab(index=Hypothyroid['thyroid_surgery'],columns=Hypothyroid['status'])\n",
        "C.plot.bar(figsize=(9, 5), rot=0)\n"
      ],
      "execution_count": null,
      "outputs": [
        {
          "output_type": "execute_result",
          "data": {
            "text/plain": [
              "<matplotlib.axes._subplots.AxesSubplot at 0x7f1361c83e90>"
            ]
          },
          "metadata": {},
          "execution_count": 35
        },
        {
          "output_type": "display_data",
          "data": {
            "image/png": "[encoded data removed]",
            "text/plain": [
              "<Figure size 648x360 with 1 Axes>"
            ]
          },
          "metadata": {
            "needs_background": "light"
          }
        }
      ]
    },
    {
      "cell_type": "markdown",
      "metadata": {
        "id": "7bKjhQEWU2Tz"
      },
      "source": [
        "Since majority of the patients were negative cases, then most had not undergone any thyroid surgery"
      ]
    },
    {
      "cell_type": "markdown",
      "metadata": {
        "id": "PK2q-fpeqDSJ"
      },
      "source": [
        "Recommendation:\n",
        "- Due to imbalance, most of the analysis leans towards the Negative cases. Ways of dealing with data imbalance should be explored."
      ]
    },
    {
      "cell_type": "markdown",
      "metadata": {
        "id": "0yhJkntzjB1Z"
      },
      "source": [
        "# **Modelling**"
      ]
    },
    {
      "cell_type": "markdown",
      "metadata": {
        "id": "myxF-GfDQ5ED"
      },
      "source": [
        "In as much as the tree-based ensemble algorithms can handle mixed data types and inputs do not need scaling, for the purpose of using the Support vector machine, the data will be encoded and normalised first"
      ]
    },
    {
      "cell_type": "code",
      "metadata": {
        "colab": {
          "base_uri": "https://localhost:8080/",
          "height": 194
        },
        "id": "qyAQc0ZPm9pq",
        "outputId": "c8a7cbe9-54cd-45aa-94fe-7f64cb5b10fd"
      },
      "source": [
        "#Creating the modelling dataframe:\n",
        "Model = Hypothyroid.copy()\n",
        "Model.head(4)\n"
      ],
      "execution_count": null,
      "outputs": [
        {
          "output_type": "execute_result",
          "data": {
            "text/html": [
              "<div>\n",
              "<style scoped>\n",
              "    .dataframe tbody tr th:only-of-type {\n",
              "        vertical-align: middle;\n",
              "    }\n",
              "\n",
              "    .dataframe tbody tr th {\n",
              "        vertical-align: top;\n",
              "    }\n",
              "\n",
              "    .dataframe thead th {\n",
              "        text-align: right;\n",
              "    }\n",
              "</style>\n",
              "<table border=\"1\" class=\"dataframe\">\n",
              "  <thead>\n",
              "    <tr style=\"text-align: right;\">\n",
              "      <th></th>\n",
              "      <th>status</th>\n",
              "      <th>age</th>\n",
              "      <th>sex</th>\n",
              "      <th>on_thyroxine</th>\n",
              "      <th>query_on_thyroxine</th>\n",
              "      <th>on_antithyroid_medication</th>\n",
              "      <th>thyroid_surgery</th>\n",
              "      <th>query_hypothyroid</th>\n",
              "      <th>query_hyperthyroid</th>\n",
              "      <th>pregnant</th>\n",
              "      <th>sick</th>\n",
              "      <th>tumor</th>\n",
              "      <th>lithium</th>\n",
              "      <th>goitre</th>\n",
              "      <th>TSH_measured</th>\n",
              "      <th>TSH</th>\n",
              "      <th>T3_measured</th>\n",
              "      <th>T3</th>\n",
              "      <th>TT4_measured</th>\n",
              "      <th>TT4</th>\n",
              "      <th>T4U_measured</th>\n",
              "      <th>T4U</th>\n",
              "      <th>FTI_measured</th>\n",
              "      <th>FTI</th>\n",
              "      <th>TBG_measured</th>\n",
              "      <th>TBG</th>\n",
              "    </tr>\n",
              "  </thead>\n",
              "  <tbody>\n",
              "    <tr>\n",
              "      <th>0</th>\n",
              "      <td>hypothyroid</td>\n",
              "      <td>72</td>\n",
              "      <td>M</td>\n",
              "      <td>f</td>\n",
              "      <td>f</td>\n",
              "      <td>f</td>\n",
              "      <td>f</td>\n",
              "      <td>f</td>\n",
              "      <td>f</td>\n",
              "      <td>f</td>\n",
              "      <td>f</td>\n",
              "      <td>f</td>\n",
              "      <td>f</td>\n",
              "      <td>f</td>\n",
              "      <td>y</td>\n",
              "      <td>30.0</td>\n",
              "      <td>y</td>\n",
              "      <td>0.6</td>\n",
              "      <td>y</td>\n",
              "      <td>15.0</td>\n",
              "      <td>y</td>\n",
              "      <td>1.48</td>\n",
              "      <td>y</td>\n",
              "      <td>10.0</td>\n",
              "      <td>n</td>\n",
              "      <td>31.283077</td>\n",
              "    </tr>\n",
              "    <tr>\n",
              "      <th>1</th>\n",
              "      <td>hypothyroid</td>\n",
              "      <td>15</td>\n",
              "      <td>F</td>\n",
              "      <td>t</td>\n",
              "      <td>f</td>\n",
              "      <td>f</td>\n",
              "      <td>f</td>\n",
              "      <td>f</td>\n",
              "      <td>f</td>\n",
              "      <td>f</td>\n",
              "      <td>f</td>\n",
              "      <td>f</td>\n",
              "      <td>f</td>\n",
              "      <td>f</td>\n",
              "      <td>y</td>\n",
              "      <td>145.0</td>\n",
              "      <td>y</td>\n",
              "      <td>1.7</td>\n",
              "      <td>y</td>\n",
              "      <td>19.0</td>\n",
              "      <td>y</td>\n",
              "      <td>1.13</td>\n",
              "      <td>y</td>\n",
              "      <td>17.0</td>\n",
              "      <td>n</td>\n",
              "      <td>31.283077</td>\n",
              "    </tr>\n",
              "    <tr>\n",
              "      <th>2</th>\n",
              "      <td>hypothyroid</td>\n",
              "      <td>24</td>\n",
              "      <td>M</td>\n",
              "      <td>f</td>\n",
              "      <td>f</td>\n",
              "      <td>f</td>\n",
              "      <td>f</td>\n",
              "      <td>f</td>\n",
              "      <td>f</td>\n",
              "      <td>f</td>\n",
              "      <td>f</td>\n",
              "      <td>f</td>\n",
              "      <td>f</td>\n",
              "      <td>f</td>\n",
              "      <td>y</td>\n",
              "      <td>0.0</td>\n",
              "      <td>y</td>\n",
              "      <td>0.2</td>\n",
              "      <td>y</td>\n",
              "      <td>4.0</td>\n",
              "      <td>y</td>\n",
              "      <td>1.00</td>\n",
              "      <td>y</td>\n",
              "      <td>0.0</td>\n",
              "      <td>n</td>\n",
              "      <td>31.283077</td>\n",
              "    </tr>\n",
              "    <tr>\n",
              "      <th>3</th>\n",
              "      <td>hypothyroid</td>\n",
              "      <td>24</td>\n",
              "      <td>F</td>\n",
              "      <td>f</td>\n",
              "      <td>f</td>\n",
              "      <td>f</td>\n",
              "      <td>f</td>\n",
              "      <td>f</td>\n",
              "      <td>f</td>\n",
              "      <td>f</td>\n",
              "      <td>f</td>\n",
              "      <td>f</td>\n",
              "      <td>f</td>\n",
              "      <td>f</td>\n",
              "      <td>y</td>\n",
              "      <td>430.0</td>\n",
              "      <td>y</td>\n",
              "      <td>0.4</td>\n",
              "      <td>y</td>\n",
              "      <td>6.0</td>\n",
              "      <td>y</td>\n",
              "      <td>1.04</td>\n",
              "      <td>y</td>\n",
              "      <td>6.0</td>\n",
              "      <td>n</td>\n",
              "      <td>31.283077</td>\n",
              "    </tr>\n",
              "  </tbody>\n",
              "</table>\n",
              "</div>"
            ],
            "text/plain": [
              "        status  age sex on_thyroxine  ... FTI_measured   FTI TBG_measured        TBG\n",
              "0  hypothyroid   72   M            f  ...            y  10.0            n  31.283077\n",
              "1  hypothyroid   15   F            t  ...            y  17.0            n  31.283077\n",
              "2  hypothyroid   24   M            f  ...            y   0.0            n  31.283077\n",
              "3  hypothyroid   24   F            f  ...            y   6.0            n  31.283077\n",
              "\n",
              "[4 rows x 26 columns]"
            ]
          },
          "metadata": {},
          "execution_count": 19
        }
      ]
    },
    {
      "cell_type": "markdown",
      "metadata": {
        "id": "D6nTLVYxOkit"
      },
      "source": [
        "Label Encoding"
      ]
    },
    {
      "cell_type": "code",
      "metadata": {
        "colab": {
          "base_uri": "https://localhost:8080/",
          "height": 194
        },
        "id": "giUjxnv38OIO",
        "outputId": "0cd0eb53-50fa-4b39-b7b1-f94dc2b963c3"
      },
      "source": [
        "#Encoding the Categorical Variables to a machine readable format:\n",
        "Categoricals = ['sex', 'on_thyroxine', 'query_on_thyroxine', 'on_antithyroid_medication', 'thyroid_surgery',\n",
        "            'query_hypothyroid', 'query_hyperthyroid' ,'pregnant', 'sick', 'tumor', 'lithium', 'goitre', 'TSH_measured', 'T3_measured',\n",
        "            'TT4_measured', 'T4U_measured', 'FTI_measured', 'TBG_measured']\n",
        "            \n",
        "for i in Categoricals:\n",
        "  Model[i] = LabelEncoder().fit_transform(Model[i])\n",
        "\n",
        "#Viewing the Dataset:\n",
        "Model.head(4)\n"
      ],
      "execution_count": null,
      "outputs": [
        {
          "output_type": "execute_result",
          "data": {
            "text/html": [
              "<div>\n",
              "<style scoped>\n",
              "    .dataframe tbody tr th:only-of-type {\n",
              "        vertical-align: middle;\n",
              "    }\n",
              "\n",
              "    .dataframe tbody tr th {\n",
              "        vertical-align: top;\n",
              "    }\n",
              "\n",
              "    .dataframe thead th {\n",
              "        text-align: right;\n",
              "    }\n",
              "</style>\n",
              "<table border=\"1\" class=\"dataframe\">\n",
              "  <thead>\n",
              "    <tr style=\"text-align: right;\">\n",
              "      <th></th>\n",
              "      <th>status</th>\n",
              "      <th>age</th>\n",
              "      <th>sex</th>\n",
              "      <th>on_thyroxine</th>\n",
              "      <th>query_on_thyroxine</th>\n",
              "      <th>on_antithyroid_medication</th>\n",
              "      <th>thyroid_surgery</th>\n",
              "      <th>query_hypothyroid</th>\n",
              "      <th>query_hyperthyroid</th>\n",
              "      <th>pregnant</th>\n",
              "      <th>sick</th>\n",
              "      <th>tumor</th>\n",
              "      <th>lithium</th>\n",
              "      <th>goitre</th>\n",
              "      <th>TSH_measured</th>\n",
              "      <th>TSH</th>\n",
              "      <th>T3_measured</th>\n",
              "      <th>T3</th>\n",
              "      <th>TT4_measured</th>\n",
              "      <th>TT4</th>\n",
              "      <th>T4U_measured</th>\n",
              "      <th>T4U</th>\n",
              "      <th>FTI_measured</th>\n",
              "      <th>FTI</th>\n",
              "      <th>TBG_measured</th>\n",
              "      <th>TBG</th>\n",
              "    </tr>\n",
              "  </thead>\n",
              "  <tbody>\n",
              "    <tr>\n",
              "      <th>0</th>\n",
              "      <td>hypothyroid</td>\n",
              "      <td>1.156913</td>\n",
              "      <td>1</td>\n",
              "      <td>0</td>\n",
              "      <td>0</td>\n",
              "      <td>0</td>\n",
              "      <td>0</td>\n",
              "      <td>0</td>\n",
              "      <td>0</td>\n",
              "      <td>0</td>\n",
              "      <td>0</td>\n",
              "      <td>0</td>\n",
              "      <td>0</td>\n",
              "      <td>0</td>\n",
              "      <td>1</td>\n",
              "      <td>1.077695</td>\n",
              "      <td>1</td>\n",
              "      <td>-1.558820</td>\n",
              "      <td>1</td>\n",
              "      <td>-2.197823</td>\n",
              "      <td>1</td>\n",
              "      <td>2.368505</td>\n",
              "      <td>1</td>\n",
              "      <td>-2.501555</td>\n",
              "      <td>0</td>\n",
              "      <td>0.006095</td>\n",
              "    </tr>\n",
              "    <tr>\n",
              "      <th>1</th>\n",
              "      <td>hypothyroid</td>\n",
              "      <td>-2.006931</td>\n",
              "      <td>0</td>\n",
              "      <td>1</td>\n",
              "      <td>0</td>\n",
              "      <td>0</td>\n",
              "      <td>0</td>\n",
              "      <td>0</td>\n",
              "      <td>0</td>\n",
              "      <td>0</td>\n",
              "      <td>0</td>\n",
              "      <td>0</td>\n",
              "      <td>0</td>\n",
              "      <td>0</td>\n",
              "      <td>1</td>\n",
              "      <td>6.206826</td>\n",
              "      <td>1</td>\n",
              "      <td>-0.267818</td>\n",
              "      <td>1</td>\n",
              "      <td>-2.103612</td>\n",
              "      <td>1</td>\n",
              "      <td>0.696480</td>\n",
              "      <td>1</td>\n",
              "      <td>-2.329895</td>\n",
              "      <td>0</td>\n",
              "      <td>0.006095</td>\n",
              "    </tr>\n",
              "    <tr>\n",
              "      <th>2</th>\n",
              "      <td>hypothyroid</td>\n",
              "      <td>-1.507377</td>\n",
              "      <td>1</td>\n",
              "      <td>0</td>\n",
              "      <td>0</td>\n",
              "      <td>0</td>\n",
              "      <td>0</td>\n",
              "      <td>0</td>\n",
              "      <td>0</td>\n",
              "      <td>0</td>\n",
              "      <td>0</td>\n",
              "      <td>0</td>\n",
              "      <td>0</td>\n",
              "      <td>0</td>\n",
              "      <td>1</td>\n",
              "      <td>-0.260339</td>\n",
              "      <td>1</td>\n",
              "      <td>-2.028275</td>\n",
              "      <td>1</td>\n",
              "      <td>-2.456903</td>\n",
              "      <td>1</td>\n",
              "      <td>0.075442</td>\n",
              "      <td>1</td>\n",
              "      <td>-2.746784</td>\n",
              "      <td>0</td>\n",
              "      <td>0.006095</td>\n",
              "    </tr>\n",
              "    <tr>\n",
              "      <th>3</th>\n",
              "      <td>hypothyroid</td>\n",
              "      <td>-1.507377</td>\n",
              "      <td>0</td>\n",
              "      <td>0</td>\n",
              "      <td>0</td>\n",
              "      <td>0</td>\n",
              "      <td>0</td>\n",
              "      <td>0</td>\n",
              "      <td>0</td>\n",
              "      <td>0</td>\n",
              "      <td>0</td>\n",
              "      <td>0</td>\n",
              "      <td>0</td>\n",
              "      <td>0</td>\n",
              "      <td>1</td>\n",
              "      <td>18.918151</td>\n",
              "      <td>1</td>\n",
              "      <td>-1.793547</td>\n",
              "      <td>1</td>\n",
              "      <td>-2.409798</td>\n",
              "      <td>1</td>\n",
              "      <td>0.266531</td>\n",
              "      <td>1</td>\n",
              "      <td>-2.599647</td>\n",
              "      <td>0</td>\n",
              "      <td>0.006095</td>\n",
              "    </tr>\n",
              "  </tbody>\n",
              "</table>\n",
              "</div>"
            ],
            "text/plain": [
              "        status       age  sex  ...       FTI  TBG_measured       TBG\n",
              "0  hypothyroid  1.156913    1  ... -2.501555             0  0.006095\n",
              "1  hypothyroid -2.006931    0  ... -2.329895             0  0.006095\n",
              "2  hypothyroid -1.507377    1  ... -2.746784             0  0.006095\n",
              "3  hypothyroid -1.507377    0  ... -2.599647             0  0.006095\n",
              "\n",
              "[4 rows x 26 columns]"
            ]
          },
          "metadata": {},
          "execution_count": 31
        }
      ]
    },
    {
      "cell_type": "markdown",
      "metadata": {
        "id": "wi5dlWe4oyt-"
      },
      "source": [
        "Normalization"
      ]
    },
    {
      "cell_type": "code",
      "metadata": {
        "colab": {
          "base_uri": "https://localhost:8080/",
          "height": 194
        },
        "id": "fyJAL4wqo0wv",
        "outputId": "4379891a-d873-456b-9784-0326ba2ff5f7"
      },
      "source": [
        "#Performing feature scaling on the numerical variables:\n",
        "sc = StandardScaler()\n",
        "Feature_Sc = ['age', 'TSH', 'T3', 'TT4', 'T4U', 'FTI', 'TBG']\n",
        "Model[Feature_Sc] = sc. fit_transform(Model[Feature_Sc])\n",
        "Model.head(4)\n"
      ],
      "execution_count": null,
      "outputs": [
        {
          "output_type": "execute_result",
          "data": {
            "text/html": [
              "<div>\n",
              "<style scoped>\n",
              "    .dataframe tbody tr th:only-of-type {\n",
              "        vertical-align: middle;\n",
              "    }\n",
              "\n",
              "    .dataframe tbody tr th {\n",
              "        vertical-align: top;\n",
              "    }\n",
              "\n",
              "    .dataframe thead th {\n",
              "        text-align: right;\n",
              "    }\n",
              "</style>\n",
              "<table border=\"1\" class=\"dataframe\">\n",
              "  <thead>\n",
              "    <tr style=\"text-align: right;\">\n",
              "      <th></th>\n",
              "      <th>status</th>\n",
              "      <th>age</th>\n",
              "      <th>sex</th>\n",
              "      <th>on_thyroxine</th>\n",
              "      <th>query_on_thyroxine</th>\n",
              "      <th>on_antithyroid_medication</th>\n",
              "      <th>thyroid_surgery</th>\n",
              "      <th>query_hypothyroid</th>\n",
              "      <th>query_hyperthyroid</th>\n",
              "      <th>pregnant</th>\n",
              "      <th>sick</th>\n",
              "      <th>tumor</th>\n",
              "      <th>lithium</th>\n",
              "      <th>goitre</th>\n",
              "      <th>TSH_measured</th>\n",
              "      <th>TSH</th>\n",
              "      <th>T3_measured</th>\n",
              "      <th>T3</th>\n",
              "      <th>TT4_measured</th>\n",
              "      <th>TT4</th>\n",
              "      <th>T4U_measured</th>\n",
              "      <th>T4U</th>\n",
              "      <th>FTI_measured</th>\n",
              "      <th>FTI</th>\n",
              "      <th>TBG_measured</th>\n",
              "      <th>TBG</th>\n",
              "    </tr>\n",
              "  </thead>\n",
              "  <tbody>\n",
              "    <tr>\n",
              "      <th>0</th>\n",
              "      <td>hypothyroid</td>\n",
              "      <td>1.156913</td>\n",
              "      <td>1</td>\n",
              "      <td>0</td>\n",
              "      <td>0</td>\n",
              "      <td>0</td>\n",
              "      <td>0</td>\n",
              "      <td>0</td>\n",
              "      <td>0</td>\n",
              "      <td>0</td>\n",
              "      <td>0</td>\n",
              "      <td>0</td>\n",
              "      <td>0</td>\n",
              "      <td>0</td>\n",
              "      <td>1</td>\n",
              "      <td>1.077695</td>\n",
              "      <td>1</td>\n",
              "      <td>-1.558820</td>\n",
              "      <td>1</td>\n",
              "      <td>-2.197823</td>\n",
              "      <td>1</td>\n",
              "      <td>2.368505</td>\n",
              "      <td>1</td>\n",
              "      <td>-2.501555</td>\n",
              "      <td>0</td>\n",
              "      <td>0.006095</td>\n",
              "    </tr>\n",
              "    <tr>\n",
              "      <th>1</th>\n",
              "      <td>hypothyroid</td>\n",
              "      <td>-2.006931</td>\n",
              "      <td>0</td>\n",
              "      <td>1</td>\n",
              "      <td>0</td>\n",
              "      <td>0</td>\n",
              "      <td>0</td>\n",
              "      <td>0</td>\n",
              "      <td>0</td>\n",
              "      <td>0</td>\n",
              "      <td>0</td>\n",
              "      <td>0</td>\n",
              "      <td>0</td>\n",
              "      <td>0</td>\n",
              "      <td>1</td>\n",
              "      <td>6.206826</td>\n",
              "      <td>1</td>\n",
              "      <td>-0.267818</td>\n",
              "      <td>1</td>\n",
              "      <td>-2.103612</td>\n",
              "      <td>1</td>\n",
              "      <td>0.696480</td>\n",
              "      <td>1</td>\n",
              "      <td>-2.329895</td>\n",
              "      <td>0</td>\n",
              "      <td>0.006095</td>\n",
              "    </tr>\n",
              "    <tr>\n",
              "      <th>2</th>\n",
              "      <td>hypothyroid</td>\n",
              "      <td>-1.507377</td>\n",
              "      <td>1</td>\n",
              "      <td>0</td>\n",
              "      <td>0</td>\n",
              "      <td>0</td>\n",
              "      <td>0</td>\n",
              "      <td>0</td>\n",
              "      <td>0</td>\n",
              "      <td>0</td>\n",
              "      <td>0</td>\n",
              "      <td>0</td>\n",
              "      <td>0</td>\n",
              "      <td>0</td>\n",
              "      <td>1</td>\n",
              "      <td>-0.260339</td>\n",
              "      <td>1</td>\n",
              "      <td>-2.028275</td>\n",
              "      <td>1</td>\n",
              "      <td>-2.456903</td>\n",
              "      <td>1</td>\n",
              "      <td>0.075442</td>\n",
              "      <td>1</td>\n",
              "      <td>-2.746784</td>\n",
              "      <td>0</td>\n",
              "      <td>0.006095</td>\n",
              "    </tr>\n",
              "    <tr>\n",
              "      <th>3</th>\n",
              "      <td>hypothyroid</td>\n",
              "      <td>-1.507377</td>\n",
              "      <td>0</td>\n",
              "      <td>0</td>\n",
              "      <td>0</td>\n",
              "      <td>0</td>\n",
              "      <td>0</td>\n",
              "      <td>0</td>\n",
              "      <td>0</td>\n",
              "      <td>0</td>\n",
              "      <td>0</td>\n",
              "      <td>0</td>\n",
              "      <td>0</td>\n",
              "      <td>0</td>\n",
              "      <td>1</td>\n",
              "      <td>18.918151</td>\n",
              "      <td>1</td>\n",
              "      <td>-1.793547</td>\n",
              "      <td>1</td>\n",
              "      <td>-2.409798</td>\n",
              "      <td>1</td>\n",
              "      <td>0.266531</td>\n",
              "      <td>1</td>\n",
              "      <td>-2.599647</td>\n",
              "      <td>0</td>\n",
              "      <td>0.006095</td>\n",
              "    </tr>\n",
              "  </tbody>\n",
              "</table>\n",
              "</div>"
            ],
            "text/plain": [
              "        status       age  sex  ...       FTI  TBG_measured       TBG\n",
              "0  hypothyroid  1.156913    1  ... -2.501555             0  0.006095\n",
              "1  hypothyroid -2.006931    0  ... -2.329895             0  0.006095\n",
              "2  hypothyroid -1.507377    1  ... -2.746784             0  0.006095\n",
              "3  hypothyroid -1.507377    0  ... -2.599647             0  0.006095\n",
              "\n",
              "[4 rows x 26 columns]"
            ]
          },
          "metadata": {},
          "execution_count": 21
        }
      ]
    },
    {
      "cell_type": "markdown",
      "metadata": {
        "id": "EI5ylrR0Xy5v"
      },
      "source": [
        "**Part 1: Decision Trees**"
      ]
    },
    {
      "cell_type": "markdown",
      "metadata": {
        "id": "y_l103lVCwqB"
      },
      "source": [
        "Building a simple decision tree to use as the baseline model;"
      ]
    },
    {
      "cell_type": "code",
      "metadata": {
        "colab": {
          "base_uri": "https://localhost:8080/"
        },
        "id": "4DscYwoB1Fvc",
        "outputId": "3da34720-29d5-4777-9e03-a1b3acd12c4a"
      },
      "source": [
        "#Creating the Variables:\n",
        "X = Model.drop('status', axis=1)\n",
        "y = Model['status']\n",
        "\n",
        "#Splitting the data into train and test:\n",
        "X_train, X_test, y_train, y_test = train_test_split(X, y, test_size=0.2, random_state= 0)\n",
        "\n",
        "#Printing the Shapes of the split data:\n",
        "print(f'X_train : {X_train.shape}')\n",
        "print(f'y_train : {y_train.shape}')\n",
        "print(f'X_test : {X_test.shape}')\n",
        "print(f'y_test : {y_test.shape}')\n"
      ],
      "execution_count": null,
      "outputs": [
        {
          "output_type": "stream",
          "name": "stdout",
          "text": [
            "X_train : (2410, 25)\n",
            "y_train : (2410,)\n",
            "X_test : (603, 25)\n",
            "y_test : (603,)\n"
          ]
        }
      ]
    },
    {
      "cell_type": "markdown",
      "metadata": {
        "id": "6zHfMCoYHwJA"
      },
      "source": [
        "Building a Basic Decision Tree Model"
      ]
    },
    {
      "cell_type": "code",
      "metadata": {
        "id": "sCnmiL5z11lg"
      },
      "source": [
        "#Model Selection without any hyperparameters:\n",
        "Decision = DecisionTreeClassifier()\n",
        "\n",
        "#Fitting the model:\n",
        "Decision.fit(X_train,y_train )\n",
        "\n",
        "#Applying the trained model to make a prediction:\n",
        "y_pred = Decision.predict(X_test)\n"
      ],
      "execution_count": null,
      "outputs": []
    },
    {
      "cell_type": "markdown",
      "metadata": {
        "id": "c5dChB96YYHr"
      },
      "source": [
        "Performance Evaluation"
      ]
    },
    {
      "cell_type": "code",
      "metadata": {
        "colab": {
          "base_uri": "https://localhost:8080/"
        },
        "id": "BZTaTr4l1-te",
        "outputId": "9e0a94cc-6a89-4732-f163-b04835348d73"
      },
      "source": [
        "#Checking the accuracy of the test and train models:\n",
        "print(f'Train Accuracy: {Decision.score(X_train, y_train):.2f}')\n",
        "print(f'Test Accuracy: {Decision.score(X_test, y_test):.2f}')\n"
      ],
      "execution_count": null,
      "outputs": [
        {
          "output_type": "stream",
          "name": "stdout",
          "text": [
            "Train Accuracy: 1.00\n",
            "Test Accuracy: 0.99\n"
          ]
        }
      ]
    },
    {
      "cell_type": "markdown",
      "metadata": {
        "id": "a4vXPBFPbBq4"
      },
      "source": [
        "The Training and Test set accuracy are very much comparable.\n",
        "\n",
        "Since the model is doing better on both the training and test set, there's no case of Overfitting. "
      ]
    },
    {
      "cell_type": "code",
      "metadata": {
        "colab": {
          "base_uri": "https://localhost:8080/"
        },
        "id": "3NSBbef-xWKU",
        "outputId": "1ad94aa1-96f8-41cf-d0ee-0b51ef2703b4"
      },
      "source": [
        "#Checking the classification report:\n",
        "print(classification_report(y_test, y_pred))\n"
      ],
      "execution_count": null,
      "outputs": [
        {
          "output_type": "stream",
          "name": "stdout",
          "text": [
            "              precision    recall  f1-score   support\n",
            "\n",
            " hypothyroid       0.85      0.88      0.86        25\n",
            "    negative       0.99      0.99      0.99       578\n",
            "\n",
            "    accuracy                           0.99       603\n",
            "   macro avg       0.92      0.94      0.93       603\n",
            "weighted avg       0.99      0.99      0.99       603\n",
            "\n"
          ]
        }
      ]
    },
    {
      "cell_type": "code",
      "metadata": {
        "colab": {
          "base_uri": "https://localhost:8080/"
        },
        "id": "enOCGjAfxehV",
        "outputId": "1b19d193-014a-42b9-c83d-774ce0473406"
      },
      "source": [
        "#Using confusion matrix:\n",
        "confusion_matrix(y_test, y_pred)\n"
      ],
      "execution_count": null,
      "outputs": [
        {
          "output_type": "execute_result",
          "data": {
            "text/plain": [
              "array([[ 22,   3],\n",
              "       [  4, 574]])"
            ]
          },
          "metadata": {},
          "execution_count": 47
        }
      ]
    },
    {
      "cell_type": "markdown",
      "metadata": {
        "id": "_bvH6QXZZj6W"
      },
      "source": [
        "From the Classification report, the data is clearly seen as being highly imbalanced since 578 out of the 603 samples belong to Negative cases (95.85%). \n",
        "\n",
        "This means that the predictor is likely to always predict any given sample as belonging to Negative leading to the high Precision, Recall and f1 scores for Negatives and low for Hypothyroid cases.\n",
        "\n",
        "The weighted averages scores are 99% since the classes are imbalanced and the metrics are weighted accordingly. For the macro average, since the values are not weighted and the model seems to always be predicting class negative, the score is lower.\n",
        "\n",
        "From the confusion matrix, 3 and 4 are the misclassifications while 22 and 574 are the true predictions."
      ]
    },
    {
      "cell_type": "markdown",
      "metadata": {
        "id": "ZFaQXWesSpVS"
      },
      "source": [
        "Hyperparameter Optimization"
      ]
    },
    {
      "cell_type": "code",
      "metadata": {
        "colab": {
          "base_uri": "https://localhost:8080/"
        },
        "id": "-rwR-zq9SstI",
        "outputId": "2225e436-3b26-4d52-c3a7-33f0730014db"
      },
      "source": [
        "#To view the parameters available for tuning in the Decision tree classifier:\n",
        "DecisionTreeClassifier().get_params()\n"
      ],
      "execution_count": null,
      "outputs": [
        {
          "output_type": "execute_result",
          "data": {
            "text/plain": [
              "{'ccp_alpha': 0.0,\n",
              " 'class_weight': None,\n",
              " 'criterion': 'gini',\n",
              " 'max_depth': None,\n",
              " 'max_features': None,\n",
              " 'max_leaf_nodes': None,\n",
              " 'min_impurity_decrease': 0.0,\n",
              " 'min_samples_leaf': 1,\n",
              " 'min_samples_split': 2,\n",
              " 'min_weight_fraction_leaf': 0.0,\n",
              " 'random_state': None,\n",
              " 'splitter': 'best'}"
            ]
          },
          "metadata": {},
          "execution_count": 48
        }
      ]
    },
    {
      "cell_type": "code",
      "metadata": {
        "colab": {
          "base_uri": "https://localhost:8080/"
        },
        "id": "RDabiqz-S1N-",
        "outputId": "e2f64196-4bda-47ad-e9cd-9e06a8661de8"
      },
      "source": [
        "#Creating the parameter grid:\n",
        "param_grid = {'max_depth': (10, 30, 50, 70, 90, 100),\n",
        "              'criterion': ('gini', 'entropy'),\n",
        "              'max_features': ('auto', 'sqrt', 'log2'),\n",
        "              'min_samples_split': (2, 4, 6)}\n",
        "              \n",
        "print(param_grid)"
      ],
      "execution_count": null,
      "outputs": [
        {
          "output_type": "stream",
          "name": "stdout",
          "text": [
            "{'max_depth': (10, 30, 50, 70, 90, 100), 'criterion': ('gini', 'entropy'), 'max_features': ('auto', 'sqrt', 'log2'), 'min_samples_split': (2, 4, 6)}\n"
          ]
        }
      ]
    },
    {
      "cell_type": "code",
      "metadata": {
        "colab": {
          "base_uri": "https://localhost:8080/"
        },
        "id": "8y1hNwjTTC6C",
        "outputId": "41a74360-aed2-40cb-c07c-65f006aa3db3"
      },
      "source": [
        "#Using the decision tree classifier along with grid search:\n",
        "Decision = DecisionTreeClassifier()\n",
        "\n",
        "#Creating grid search using 5-fold cross validation:\n",
        "clf = GridSearchCV(Decision, param_grid = param_grid, cv= 5,verbose = True )\n",
        "\n",
        "#Fitting the grid search:\n",
        "best_clf = clf.fit(X_train, y_train)\n",
        "\n",
        "#Predicting values based on the new parameters:\n",
        "y_pred = best_clf.predict(X_test)\n"
      ],
      "execution_count": null,
      "outputs": [
        {
          "output_type": "stream",
          "name": "stdout",
          "text": [
            "Fitting 5 folds for each of 108 candidates, totalling 540 fits\n"
          ]
        }
      ]
    },
    {
      "cell_type": "code",
      "metadata": {
        "colab": {
          "base_uri": "https://localhost:8080/"
        },
        "id": "WXKXvkmMTH9u",
        "outputId": "60ddeee5-30ff-412c-b54a-3c824f498b5c"
      },
      "source": [
        "#To view the best parameters:\n",
        "best_clf.best_params_\n"
      ],
      "execution_count": null,
      "outputs": [
        {
          "output_type": "execute_result",
          "data": {
            "text/plain": [
              "{'criterion': 'entropy',\n",
              " 'max_depth': 70,\n",
              " 'max_features': 'auto',\n",
              " 'min_samples_split': 4}"
            ]
          },
          "metadata": {},
          "execution_count": 51
        }
      ]
    },
    {
      "cell_type": "markdown",
      "metadata": {
        "id": "L6neP2x_Vb1k"
      },
      "source": [
        "Building the Model with the best estimators"
      ]
    },
    {
      "cell_type": "code",
      "metadata": {
        "id": "-JRrqhH4TRqG"
      },
      "source": [
        "#Using the best parameters from hyperparameter tuning:\n",
        "Final_Decision = DecisionTreeClassifier(criterion = 'entropy', max_depth = 70,\n",
        "                               max_features = 'auto', min_samples_split = 4)\n",
        "\n",
        "#Fitting the model:\n",
        "Final_Decision.fit(X_train,y_train )\n",
        "\n",
        "#Predicting values:\n",
        "y_pred = Final_Decision.predict(X_test)\n"
      ],
      "execution_count": null,
      "outputs": []
    },
    {
      "cell_type": "code",
      "source": [
        "#Checking the Accuracy:\n",
        "print(f'Train Accuracy: {Mn.score(X_train, y_train):.2f}')\n",
        "Fore = print(f'Test Accuracy: {Mn.score(X_test, y_test):.2f}')"
      ],
      "metadata": {
        "id": "By73OuDktZkh"
      },
      "execution_count": null,
      "outputs": []
    },
    {
      "cell_type": "markdown",
      "metadata": {
        "id": "_OVuJ6XTeoLA"
      },
      "source": [
        "Model Evaluation"
      ]
    },
    {
      "cell_type": "code",
      "metadata": {
        "colab": {
          "base_uri": "https://localhost:8080/"
        },
        "id": "1oavAeP7euqx",
        "outputId": "a98c3a17-820e-432b-d9aa-b2a7ed6bb4d3"
      },
      "source": [
        "#Checking the classification report:\n",
        "print(classification_report(y_test, y_pred))\n"
      ],
      "execution_count": null,
      "outputs": [
        {
          "output_type": "stream",
          "name": "stdout",
          "text": [
            "              precision    recall  f1-score   support\n",
            "\n",
            " hypothyroid       0.72      0.72      0.72        25\n",
            "    negative       0.99      0.99      0.99       578\n",
            "\n",
            "    accuracy                           0.98       603\n",
            "   macro avg       0.85      0.85      0.85       603\n",
            "weighted avg       0.98      0.98      0.98       603\n",
            "\n"
          ]
        }
      ]
    },
    {
      "cell_type": "code",
      "metadata": {
        "colab": {
          "base_uri": "https://localhost:8080/"
        },
        "id": "Jvjjmt3te9q7",
        "outputId": "b3b6d964-198c-4228-e17c-af448d418685"
      },
      "source": [
        "#Using confusion matrix:\n",
        "confusion_matrix(y_test, y_pred)\n"
      ],
      "execution_count": null,
      "outputs": [
        {
          "output_type": "execute_result",
          "data": {
            "text/plain": [
              "array([[ 18,   7],\n",
              "       [  7, 571]])"
            ]
          },
          "metadata": {},
          "execution_count": 55
        }
      ]
    },
    {
      "cell_type": "markdown",
      "metadata": {
        "id": "wREz-34ne_e9"
      },
      "source": [
        "After Optimization, the accuracy score went down to 98% , the macro average dropped from 93% to 85% and the true predictions for both cases also dropped. This could be that the algorithm's default parameters worked better."
      ]
    },
    {
      "cell_type": "markdown",
      "metadata": {
        "id": "iDoGGsl7INii"
      },
      "source": [
        "Plotting the Tree"
      ]
    },
    {
      "cell_type": "code",
      "metadata": {
        "colab": {
          "base_uri": "https://localhost:8080/",
          "height": 556
        },
        "id": "TNjCuPBhI5Nc",
        "outputId": "708c2b15-0b04-40cc-cb05-cd2caaec2290"
      },
      "source": [
        "from sklearn.tree import export_graphviz\n",
        "import graphviz\n",
        "\n",
        "test_features = ['sex', 'on_thyroxine', 'query_on_thyroxine', 'on_antithyroid_medication', 'thyroid_surgery',\n",
        "            'query_hypothyroid', 'query_hyperthyroid' ,'pregnant', 'sick', 'tumor', 'lithium', 'goitre', 'TSH_measured', 'T3_measured',\n",
        "            'TT4_measured', 'T4U_measured', 'FTI_measured', 'TBG_measured', 'age', 'TSH', 'T3', 'TT4', 'T4U', 'FTI', 'TBG' ]\n",
        "\n",
        "#Creating dot data:   \n",
        "dot_data = export_graphviz(Final_Decision, max_depth = 2,                                          #Limiting to a depth of 3 only\n",
        "                           out_file = None, feature_names = test_features,                #Providing the independent variables\n",
        "                           class_names = ['Hypothyroid', 'negative'],                     #Providing the dependent variables\n",
        "                           filled = False, rounded = False, special_characters = True)    #Controlling the look of the nodes and coloring them                                           \n",
        "\n",
        "#Displaying the graph                          \n",
        "graph = graphviz.Source(dot_data)\n",
        "graph\n"
      ],
      "execution_count": null,
      "outputs": [
        {
          "output_type": "execute_result",
          "data": {
            "text/plain": [
              "<graphviz.files.Source at 0x7f136197a2d0>"
            ],
            "image/svg+xml": "<?xml version=\"1.0\" encoding=\"UTF-8\" standalone=\"no\"?>\n<!DOCTYPE svg PUBLIC \"-//W3C//DTD SVG 1.1//EN\"\n \"http://www.w3.org/Graphics/SVG/1.1/DTD/svg11.dtd\">\n<!-- Generated by graphviz version 2.40.1 (20161225.0304)\n -->\n<!-- Title: Tree Pages: 1 -->\n<svg width=\"656pt\" height=\"401pt\"\n viewBox=\"0.00 0.00 656.00 401.00\" xmlns=\"http://www.w3.org/2000/svg\" xmlns:xlink=\"http://www.w3.org/1999/xlink\">\n<g id=\"graph0\" class=\"graph\" transform=\"scale(1 1) rotate(0) translate(4 397)\">\n<title>Tree</title>\n<polygon fill=\"#ffffff\" stroke=\"transparent\" points=\"-4,4 -4,-397 652,-397 652,4 -4,4\"/>\n<!-- 0 -->\n<g id=\"node1\" class=\"node\">\n<title>0</title>\n<polygon fill=\"none\" stroke=\"#000000\" points=\"398,-393 258,-393 258,-310 398,-310 398,-393\"/>\n<text text-anchor=\"start\" x=\"299\" y=\"-377.8\" font-family=\"Helvetica,sans-Serif\" font-size=\"14.00\" fill=\"#000000\">FTI ≤ 0.5</text>\n<text text-anchor=\"start\" x=\"277\" y=\"-362.8\" font-family=\"Helvetica,sans-Serif\" font-size=\"14.00\" fill=\"#000000\">entropy = 0.275</text>\n<text text-anchor=\"start\" x=\"276\" y=\"-347.8\" font-family=\"Helvetica,sans-Serif\" font-size=\"14.00\" fill=\"#000000\">samples = 2410</text>\n<text text-anchor=\"start\" x=\"266\" y=\"-332.8\" font-family=\"Helvetica,sans-Serif\" font-size=\"14.00\" fill=\"#000000\">value = [114, 2296]</text>\n<text text-anchor=\"start\" x=\"275\" y=\"-317.8\" font-family=\"Helvetica,sans-Serif\" font-size=\"14.00\" fill=\"#000000\">class = negative</text>\n</g>\n<!-- 1 -->\n<g id=\"node2\" class=\"node\">\n<title>1</title>\n<polygon fill=\"none\" stroke=\"#000000\" points=\"331,-274 163,-274 163,-191 331,-191 331,-274\"/>\n<text text-anchor=\"start\" x=\"171\" y=\"-258.8\" font-family=\"Helvetica,sans-Serif\" font-size=\"14.00\" fill=\"#000000\">TT4_measured ≤ 0.027</text>\n<text text-anchor=\"start\" x=\"196\" y=\"-243.8\" font-family=\"Helvetica,sans-Serif\" font-size=\"14.00\" fill=\"#000000\">entropy = 0.287</text>\n<text text-anchor=\"start\" x=\"195\" y=\"-228.8\" font-family=\"Helvetica,sans-Serif\" font-size=\"14.00\" fill=\"#000000\">samples = 2217</text>\n<text text-anchor=\"start\" x=\"185\" y=\"-213.8\" font-family=\"Helvetica,sans-Serif\" font-size=\"14.00\" fill=\"#000000\">value = [111, 2106]</text>\n<text text-anchor=\"start\" x=\"194\" y=\"-198.8\" font-family=\"Helvetica,sans-Serif\" font-size=\"14.00\" fill=\"#000000\">class = negative</text>\n</g>\n<!-- 0&#45;&gt;1 -->\n<g id=\"edge1\" class=\"edge\">\n<title>0&#45;&gt;1</title>\n<path fill=\"none\" stroke=\"#000000\" d=\"M299.6701,-309.8796C293.7237,-301.1434 287.3914,-291.8404 281.255,-282.8253\"/>\n<polygon fill=\"#000000\" stroke=\"#000000\" points=\"283.9711,-280.5953 275.4508,-274.2981 278.1844,-284.5342 283.9711,-280.5953\"/>\n<text text-anchor=\"middle\" x=\"270.7843\" y=\"-295.1587\" font-family=\"Helvetica,sans-Serif\" font-size=\"14.00\" fill=\"#000000\">True</text>\n</g>\n<!-- 86 -->\n<g id=\"node9\" class=\"node\">\n<title>86</title>\n<polygon fill=\"none\" stroke=\"#000000\" points=\"471,-274 349,-274 349,-191 471,-191 471,-274\"/>\n<text text-anchor=\"start\" x=\"377.5\" y=\"-258.8\" font-family=\"Helvetica,sans-Serif\" font-size=\"14.00\" fill=\"#000000\">TSH ≤ 0.5</text>\n<text text-anchor=\"start\" x=\"359\" y=\"-243.8\" font-family=\"Helvetica,sans-Serif\" font-size=\"14.00\" fill=\"#000000\">entropy = 0.116</text>\n<text text-anchor=\"start\" x=\"362\" y=\"-228.8\" font-family=\"Helvetica,sans-Serif\" font-size=\"14.00\" fill=\"#000000\">samples = 193</text>\n<text text-anchor=\"start\" x=\"360\" y=\"-213.8\" font-family=\"Helvetica,sans-Serif\" font-size=\"14.00\" fill=\"#000000\">value = [3, 190]</text>\n<text text-anchor=\"start\" x=\"357\" y=\"-198.8\" font-family=\"Helvetica,sans-Serif\" font-size=\"14.00\" fill=\"#000000\">class = negative</text>\n</g>\n<!-- 0&#45;&gt;86 -->\n<g id=\"edge8\" class=\"edge\">\n<title>0&#45;&gt;86</title>\n<path fill=\"none\" stroke=\"#000000\" d=\"M356.6796,-309.8796C362.7615,-301.0534 369.2422,-291.6485 375.5141,-282.5466\"/>\n<polygon fill=\"#000000\" stroke=\"#000000\" points=\"378.4059,-284.5184 381.198,-274.2981 372.6418,-280.5465 378.4059,-284.5184\"/>\n<text text-anchor=\"middle\" x=\"385.7239\" y=\"-295.185\" font-family=\"Helvetica,sans-Serif\" font-size=\"14.00\" fill=\"#000000\">False</text>\n</g>\n<!-- 2 -->\n<g id=\"node3\" class=\"node\">\n<title>2</title>\n<polygon fill=\"none\" stroke=\"#000000\" points=\"168,-155 0,-155 0,-72 168,-72 168,-155\"/>\n<text text-anchor=\"start\" x=\"8\" y=\"-139.8\" font-family=\"Helvetica,sans-Serif\" font-size=\"14.00\" fill=\"#000000\">TT4_measured ≤ 0.003</text>\n<text text-anchor=\"start\" x=\"33\" y=\"-124.8\" font-family=\"Helvetica,sans-Serif\" font-size=\"14.00\" fill=\"#000000\">entropy = 0.017</text>\n<text text-anchor=\"start\" x=\"32\" y=\"-109.8\" font-family=\"Helvetica,sans-Serif\" font-size=\"14.00\" fill=\"#000000\">samples = 1960</text>\n<text text-anchor=\"start\" x=\"30\" y=\"-94.8\" font-family=\"Helvetica,sans-Serif\" font-size=\"14.00\" fill=\"#000000\">value = [3, 1957]</text>\n<text text-anchor=\"start\" x=\"31\" y=\"-79.8\" font-family=\"Helvetica,sans-Serif\" font-size=\"14.00\" fill=\"#000000\">class = negative</text>\n</g>\n<!-- 1&#45;&gt;2 -->\n<g id=\"edge2\" class=\"edge\">\n<title>1&#45;&gt;2</title>\n<path fill=\"none\" stroke=\"#000000\" d=\"M189.9905,-190.8796C176.8379,-181.2774 162.7472,-170.9903 149.2732,-161.1534\"/>\n<polygon fill=\"#000000\" stroke=\"#000000\" points=\"151.1177,-158.1666 140.9773,-155.0969 146.9902,-163.8202 151.1177,-158.1666\"/>\n</g>\n<!-- 17 -->\n<g id=\"node6\" class=\"node\">\n<title>17</title>\n<polygon fill=\"none\" stroke=\"#000000\" points=\"318,-155 186,-155 186,-72 318,-72 318,-155\"/>\n<text text-anchor=\"start\" x=\"221.5\" y=\"-139.8\" font-family=\"Helvetica,sans-Serif\" font-size=\"14.00\" fill=\"#000000\">T3 ≤ 0.29</text>\n<text text-anchor=\"start\" x=\"201\" y=\"-124.8\" font-family=\"Helvetica,sans-Serif\" font-size=\"14.00\" fill=\"#000000\">entropy = 0.982</text>\n<text text-anchor=\"start\" x=\"204\" y=\"-109.8\" font-family=\"Helvetica,sans-Serif\" font-size=\"14.00\" fill=\"#000000\">samples = 257</text>\n<text text-anchor=\"start\" x=\"194\" y=\"-94.8\" font-family=\"Helvetica,sans-Serif\" font-size=\"14.00\" fill=\"#000000\">value = [108, 149]</text>\n<text text-anchor=\"start\" x=\"199\" y=\"-79.8\" font-family=\"Helvetica,sans-Serif\" font-size=\"14.00\" fill=\"#000000\">class = negative</text>\n</g>\n<!-- 1&#45;&gt;17 -->\n<g id=\"edge5\" class=\"edge\">\n<title>1&#45;&gt;17</title>\n<path fill=\"none\" stroke=\"#000000\" d=\"M248.7488,-190.8796C249.0931,-182.6838 249.4584,-173.9891 249.8151,-165.5013\"/>\n<polygon fill=\"#000000\" stroke=\"#000000\" points=\"253.3208,-165.4362 250.2438,-155.2981 246.327,-165.1423 253.3208,-165.4362\"/>\n</g>\n<!-- 3 -->\n<g id=\"node4\" class=\"node\">\n<title>3</title>\n<polygon fill=\"none\" stroke=\"#000000\" points=\"81,-36 27,-36 27,0 81,0 81,-36\"/>\n<text text-anchor=\"middle\" x=\"54\" y=\"-14.3\" font-family=\"Helvetica,sans-Serif\" font-size=\"14.00\" fill=\"#000000\">(...)</text>\n</g>\n<!-- 2&#45;&gt;3 -->\n<g id=\"edge3\" class=\"edge\">\n<title>2&#45;&gt;3</title>\n<path fill=\"none\" stroke=\"#000000\" d=\"M70.9288,-71.8901C68.1755,-63.1253 65.334,-54.0798 62.7837,-45.9615\"/>\n<polygon fill=\"#000000\" stroke=\"#000000\" points=\"66.0739,-44.7565 59.7377,-36.2651 59.3956,-46.8544 66.0739,-44.7565\"/>\n</g>\n<!-- 14 -->\n<g id=\"node5\" class=\"node\">\n<title>14</title>\n<polygon fill=\"none\" stroke=\"#000000\" points=\"153,-36 99,-36 99,0 153,0 153,-36\"/>\n<text text-anchor=\"middle\" x=\"126\" y=\"-14.3\" font-family=\"Helvetica,sans-Serif\" font-size=\"14.00\" fill=\"#000000\">(...)</text>\n</g>\n<!-- 2&#45;&gt;14 -->\n<g id=\"edge4\" class=\"edge\">\n<title>2&#45;&gt;14</title>\n<path fill=\"none\" stroke=\"#000000\" d=\"M102.2996,-71.8901C106.24,-62.9305 110.3093,-53.6777 113.9402,-45.4217\"/>\n<polygon fill=\"#000000\" stroke=\"#000000\" points=\"117.1452,-46.828 117.9672,-36.2651 110.7375,-44.0099 117.1452,-46.828\"/>\n</g>\n<!-- 18 -->\n<g id=\"node7\" class=\"node\">\n<title>18</title>\n<polygon fill=\"none\" stroke=\"#000000\" points=\"237,-36 183,-36 183,0 237,0 237,-36\"/>\n<text text-anchor=\"middle\" x=\"210\" y=\"-14.3\" font-family=\"Helvetica,sans-Serif\" font-size=\"14.00\" fill=\"#000000\">(...)</text>\n</g>\n<!-- 17&#45;&gt;18 -->\n<g id=\"edge6\" class=\"edge\">\n<title>17&#45;&gt;18</title>\n<path fill=\"none\" stroke=\"#000000\" d=\"M233.7004,-71.8901C229.76,-62.9305 225.6907,-53.6777 222.0598,-45.4217\"/>\n<polygon fill=\"#000000\" stroke=\"#000000\" points=\"225.2625,-44.0099 218.0328,-36.2651 218.8548,-46.828 225.2625,-44.0099\"/>\n</g>\n<!-- 61 -->\n<g id=\"node8\" class=\"node\">\n<title>61</title>\n<polygon fill=\"none\" stroke=\"#000000\" points=\"309,-36 255,-36 255,0 309,0 309,-36\"/>\n<text text-anchor=\"middle\" x=\"282\" y=\"-14.3\" font-family=\"Helvetica,sans-Serif\" font-size=\"14.00\" fill=\"#000000\">(...)</text>\n</g>\n<!-- 17&#45;&gt;61 -->\n<g id=\"edge7\" class=\"edge\">\n<title>17&#45;&gt;61</title>\n<path fill=\"none\" stroke=\"#000000\" d=\"M265.0712,-71.8901C267.8245,-63.1253 270.666,-54.0798 273.2163,-45.9615\"/>\n<polygon fill=\"#000000\" stroke=\"#000000\" points=\"276.6044,-46.8544 276.2623,-36.2651 269.9261,-44.7565 276.6044,-46.8544\"/>\n</g>\n<!-- 87 -->\n<g id=\"node10\" class=\"node\">\n<title>87</title>\n<polygon fill=\"none\" stroke=\"#000000\" points=\"462,-147.5 340,-147.5 340,-79.5 462,-79.5 462,-147.5\"/>\n<text text-anchor=\"start\" x=\"358.5\" y=\"-132.3\" font-family=\"Helvetica,sans-Serif\" font-size=\"14.00\" fill=\"#000000\">entropy = 0.0</text>\n<text text-anchor=\"start\" x=\"353\" y=\"-117.3\" font-family=\"Helvetica,sans-Serif\" font-size=\"14.00\" fill=\"#000000\">samples = 184</text>\n<text text-anchor=\"start\" x=\"351\" y=\"-102.3\" font-family=\"Helvetica,sans-Serif\" font-size=\"14.00\" fill=\"#000000\">value = [0, 184]</text>\n<text text-anchor=\"start\" x=\"348\" y=\"-87.3\" font-family=\"Helvetica,sans-Serif\" font-size=\"14.00\" fill=\"#000000\">class = negative</text>\n</g>\n<!-- 86&#45;&gt;87 -->\n<g id=\"edge9\" class=\"edge\">\n<title>86&#45;&gt;87</title>\n<path fill=\"none\" stroke=\"#000000\" d=\"M406.8522,-190.8796C406.0455,-180.2134 405.1749,-168.7021 404.3581,-157.9015\"/>\n<polygon fill=\"#000000\" stroke=\"#000000\" points=\"407.8395,-157.5225 403.5952,-147.8149 400.8595,-158.0504 407.8395,-157.5225\"/>\n</g>\n<!-- 88 -->\n<g id=\"node11\" class=\"node\">\n<title>88</title>\n<polygon fill=\"none\" stroke=\"#000000\" points=\"648,-155 480,-155 480,-72 648,-72 648,-155\"/>\n<text text-anchor=\"start\" x=\"488\" y=\"-139.8\" font-family=\"Helvetica,sans-Serif\" font-size=\"14.00\" fill=\"#000000\">TT4_measured ≤ 0.251</text>\n<text text-anchor=\"start\" x=\"513\" y=\"-124.8\" font-family=\"Helvetica,sans-Serif\" font-size=\"14.00\" fill=\"#000000\">entropy = 0.918</text>\n<text text-anchor=\"start\" x=\"524.5\" y=\"-109.8\" font-family=\"Helvetica,sans-Serif\" font-size=\"14.00\" fill=\"#000000\">samples = 9</text>\n<text text-anchor=\"start\" x=\"522.5\" y=\"-94.8\" font-family=\"Helvetica,sans-Serif\" font-size=\"14.00\" fill=\"#000000\">value = [3, 6]</text>\n<text text-anchor=\"start\" x=\"511\" y=\"-79.8\" font-family=\"Helvetica,sans-Serif\" font-size=\"14.00\" fill=\"#000000\">class = negative</text>\n</g>\n<!-- 86&#45;&gt;88 -->\n<g id=\"edge10\" class=\"edge\">\n<title>86&#45;&gt;88</title>\n<path fill=\"none\" stroke=\"#000000\" d=\"M463.8617,-190.8796C476.1709,-181.368 489.3497,-171.1843 501.9704,-161.432\"/>\n<polygon fill=\"#000000\" stroke=\"#000000\" points=\"504.3959,-163.9809 510.1687,-155.0969 500.1157,-158.4419 504.3959,-163.9809\"/>\n</g>\n<!-- 89 -->\n<g id=\"node12\" class=\"node\">\n<title>89</title>\n<polygon fill=\"none\" stroke=\"#000000\" points=\"555,-36 501,-36 501,0 555,0 555,-36\"/>\n<text text-anchor=\"middle\" x=\"528\" y=\"-14.3\" font-family=\"Helvetica,sans-Serif\" font-size=\"14.00\" fill=\"#000000\">(...)</text>\n</g>\n<!-- 88&#45;&gt;89 -->\n<g id=\"edge11\" class=\"edge\">\n<title>88&#45;&gt;89</title>\n<path fill=\"none\" stroke=\"#000000\" d=\"M548.3146,-71.8901C544.9739,-63.0279 541.525,-53.8788 538.4386,-45.6913\"/>\n<polygon fill=\"#000000\" stroke=\"#000000\" points=\"541.6877,-44.3878 534.8853,-36.2651 535.1376,-46.8569 541.6877,-44.3878\"/>\n</g>\n<!-- 90 -->\n<g id=\"node13\" class=\"node\">\n<title>90</title>\n<polygon fill=\"none\" stroke=\"#000000\" points=\"627,-36 573,-36 573,0 627,0 627,-36\"/>\n<text text-anchor=\"middle\" x=\"600\" y=\"-14.3\" font-family=\"Helvetica,sans-Serif\" font-size=\"14.00\" fill=\"#000000\">(...)</text>\n</g>\n<!-- 88&#45;&gt;90 -->\n<g id=\"edge12\" class=\"edge\">\n<title>88&#45;&gt;90</title>\n<path fill=\"none\" stroke=\"#000000\" d=\"M579.6854,-71.8901C583.0261,-63.0279 586.475,-53.8788 589.5614,-45.6913\"/>\n<polygon fill=\"#000000\" stroke=\"#000000\" points=\"592.8624,-46.8569 593.1147,-36.2651 586.3123,-44.3878 592.8624,-46.8569\"/>\n</g>\n</g>\n</svg>\n"
          },
          "metadata": {},
          "execution_count": 56
        }
      ]
    },
    {
      "cell_type": "markdown",
      "metadata": {
        "id": "P6UYZgm0KUAG"
      },
      "source": [
        "The dots indicate the decision tree goes further since the maximum depth has been set to 2. The root node is FTI. From the tree above, the significant variables can already be identified as FTI, TT4, TSH and T3"
      ]
    },
    {
      "cell_type": "markdown",
      "metadata": {
        "id": "Y7a53bYqOgTc"
      },
      "source": [
        "Feature Importance"
      ]
    },
    {
      "cell_type": "code",
      "metadata": {
        "colab": {
          "base_uri": "https://localhost:8080/",
          "height": 833
        },
        "id": "7R8ehBfWOiPI",
        "outputId": "c10a1b82-2791-42b3-ae12-a115078de059"
      },
      "source": [
        "#Viewing the Important Features:\n",
        "Best_Features = pd.DataFrame({'Features': X_train.columns, 'Importance':Final_Decision.feature_importances_})\n",
        "\n",
        "#Displaying the features:\n",
        "Best_Features.sort_values('Importance', ascending = False)\n"
      ],
      "execution_count": null,
      "outputs": [
        {
          "output_type": "execute_result",
          "data": {
            "text/html": [
              "<div>\n",
              "<style scoped>\n",
              "    .dataframe tbody tr th:only-of-type {\n",
              "        vertical-align: middle;\n",
              "    }\n",
              "\n",
              "    .dataframe tbody tr th {\n",
              "        vertical-align: top;\n",
              "    }\n",
              "\n",
              "    .dataframe thead th {\n",
              "        text-align: right;\n",
              "    }\n",
              "</style>\n",
              "<table border=\"1\" class=\"dataframe\">\n",
              "  <thead>\n",
              "    <tr style=\"text-align: right;\">\n",
              "      <th></th>\n",
              "      <th>Features</th>\n",
              "      <th>Importance</th>\n",
              "    </tr>\n",
              "  </thead>\n",
              "  <tbody>\n",
              "    <tr>\n",
              "      <th>14</th>\n",
              "      <td>TSH</td>\n",
              "      <td>0.606334</td>\n",
              "    </tr>\n",
              "    <tr>\n",
              "      <th>18</th>\n",
              "      <td>TT4</td>\n",
              "      <td>0.185701</td>\n",
              "    </tr>\n",
              "    <tr>\n",
              "      <th>22</th>\n",
              "      <td>FTI</td>\n",
              "      <td>0.067728</td>\n",
              "    </tr>\n",
              "    <tr>\n",
              "      <th>16</th>\n",
              "      <td>T3</td>\n",
              "      <td>0.052574</td>\n",
              "    </tr>\n",
              "    <tr>\n",
              "      <th>19</th>\n",
              "      <td>T4U_measured</td>\n",
              "      <td>0.022118</td>\n",
              "    </tr>\n",
              "    <tr>\n",
              "      <th>2</th>\n",
              "      <td>on_thyroxine</td>\n",
              "      <td>0.020772</td>\n",
              "    </tr>\n",
              "    <tr>\n",
              "      <th>20</th>\n",
              "      <td>T4U</td>\n",
              "      <td>0.019387</td>\n",
              "    </tr>\n",
              "    <tr>\n",
              "      <th>6</th>\n",
              "      <td>query_hypothyroid</td>\n",
              "      <td>0.008832</td>\n",
              "    </tr>\n",
              "    <tr>\n",
              "      <th>23</th>\n",
              "      <td>TBG_measured</td>\n",
              "      <td>0.006986</td>\n",
              "    </tr>\n",
              "    <tr>\n",
              "      <th>0</th>\n",
              "      <td>age</td>\n",
              "      <td>0.004619</td>\n",
              "    </tr>\n",
              "    <tr>\n",
              "      <th>5</th>\n",
              "      <td>thyroid_surgery</td>\n",
              "      <td>0.001888</td>\n",
              "    </tr>\n",
              "    <tr>\n",
              "      <th>12</th>\n",
              "      <td>goitre</td>\n",
              "      <td>0.001346</td>\n",
              "    </tr>\n",
              "    <tr>\n",
              "      <th>7</th>\n",
              "      <td>query_hyperthyroid</td>\n",
              "      <td>0.001243</td>\n",
              "    </tr>\n",
              "    <tr>\n",
              "      <th>15</th>\n",
              "      <td>T3_measured</td>\n",
              "      <td>0.000473</td>\n",
              "    </tr>\n",
              "    <tr>\n",
              "      <th>1</th>\n",
              "      <td>sex</td>\n",
              "      <td>0.000000</td>\n",
              "    </tr>\n",
              "    <tr>\n",
              "      <th>13</th>\n",
              "      <td>TSH_measured</td>\n",
              "      <td>0.000000</td>\n",
              "    </tr>\n",
              "    <tr>\n",
              "      <th>11</th>\n",
              "      <td>lithium</td>\n",
              "      <td>0.000000</td>\n",
              "    </tr>\n",
              "    <tr>\n",
              "      <th>10</th>\n",
              "      <td>tumor</td>\n",
              "      <td>0.000000</td>\n",
              "    </tr>\n",
              "    <tr>\n",
              "      <th>17</th>\n",
              "      <td>TT4_measured</td>\n",
              "      <td>0.000000</td>\n",
              "    </tr>\n",
              "    <tr>\n",
              "      <th>9</th>\n",
              "      <td>sick</td>\n",
              "      <td>0.000000</td>\n",
              "    </tr>\n",
              "    <tr>\n",
              "      <th>8</th>\n",
              "      <td>pregnant</td>\n",
              "      <td>0.000000</td>\n",
              "    </tr>\n",
              "    <tr>\n",
              "      <th>21</th>\n",
              "      <td>FTI_measured</td>\n",
              "      <td>0.000000</td>\n",
              "    </tr>\n",
              "    <tr>\n",
              "      <th>4</th>\n",
              "      <td>on_antithyroid_medication</td>\n",
              "      <td>0.000000</td>\n",
              "    </tr>\n",
              "    <tr>\n",
              "      <th>3</th>\n",
              "      <td>query_on_thyroxine</td>\n",
              "      <td>0.000000</td>\n",
              "    </tr>\n",
              "    <tr>\n",
              "      <th>24</th>\n",
              "      <td>TBG</td>\n",
              "      <td>0.000000</td>\n",
              "    </tr>\n",
              "  </tbody>\n",
              "</table>\n",
              "</div>"
            ],
            "text/plain": [
              "                     Features  Importance\n",
              "14                        TSH    0.606334\n",
              "18                        TT4    0.185701\n",
              "22                        FTI    0.067728\n",
              "16                         T3    0.052574\n",
              "19               T4U_measured    0.022118\n",
              "2                on_thyroxine    0.020772\n",
              "20                        T4U    0.019387\n",
              "6           query_hypothyroid    0.008832\n",
              "23               TBG_measured    0.006986\n",
              "0                         age    0.004619\n",
              "5             thyroid_surgery    0.001888\n",
              "12                     goitre    0.001346\n",
              "7          query_hyperthyroid    0.001243\n",
              "15                T3_measured    0.000473\n",
              "1                         sex    0.000000\n",
              "13               TSH_measured    0.000000\n",
              "11                    lithium    0.000000\n",
              "10                      tumor    0.000000\n",
              "17               TT4_measured    0.000000\n",
              "9                        sick    0.000000\n",
              "8                    pregnant    0.000000\n",
              "21               FTI_measured    0.000000\n",
              "4   on_antithyroid_medication    0.000000\n",
              "3          query_on_thyroxine    0.000000\n",
              "24                        TBG    0.000000"
            ]
          },
          "metadata": {},
          "execution_count": 57
        }
      ]
    },
    {
      "cell_type": "markdown",
      "metadata": {
        "id": "1uDai_wWvY1g"
      },
      "source": [
        "TSH, FTI, TT4 and T3 are the most important features from the baseline model. Features with 0 are regarded as the least important"
      ]
    },
    {
      "cell_type": "markdown",
      "metadata": {
        "id": "KSlS1tfch1FI"
      },
      "source": [
        "Using Advanced Models:"
      ]
    },
    {
      "cell_type": "markdown",
      "metadata": {
        "id": "KBUrAE9mvDkJ"
      },
      "source": [
        "- **Random Forests**"
      ]
    },
    {
      "cell_type": "markdown",
      "metadata": {
        "id": "8o3nRBPhiPzt"
      },
      "source": [
        "This model builds multiple decision trees and merges them together to get a more accurate and stable prediction."
      ]
    },
    {
      "cell_type": "code",
      "metadata": {
        "colab": {
          "base_uri": "https://localhost:8080/"
        },
        "id": "hXh8UMuBvGAS",
        "outputId": "7ff37e31-ece5-48cf-ab25-0567dcdd5328"
      },
      "source": [
        "#Creating the Dependent and Independent Variables:\n",
        "X = Model.drop('status', axis=1)\n",
        "y = np.where(Model.status == 'hypothyroid', 1, 0)\n",
        "\n",
        "#Dividing the Data into Train and Test:\n",
        "X_train, X_test, y_train, y_test = train_test_split(X, y, test_size=0.2, random_state= 0)\n",
        "\n",
        "#Printing the Shapes of the split data:\n",
        "print(f'X_train : {X_train.shape}')\n",
        "print(f'y_train : {y_train.shape}')\n",
        "print(f'X_test : {X_test.shape}')\n",
        "print(f'y_test : {y_test.shape}')\n"
      ],
      "execution_count": null,
      "outputs": [
        {
          "output_type": "stream",
          "name": "stdout",
          "text": [
            "X_train : (2410, 25)\n",
            "y_train : (2410,)\n",
            "X_test : (603, 25)\n",
            "y_test : (603,)\n"
          ]
        }
      ]
    },
    {
      "cell_type": "markdown",
      "metadata": {
        "id": "pxwntqnUcvlK"
      },
      "source": [
        "Model Building"
      ]
    },
    {
      "cell_type": "code",
      "metadata": {
        "id": "RlrnroC_2Ljy"
      },
      "source": [
        "#Initiating the random forest classifier:\n",
        "Forest = RandomForestClassifier()\n",
        "\n",
        "#Fitting the model:\n",
        "Forest.fit(X_train, y_train )\n",
        "\n",
        "#Applying the trained model to make a prediction:\n",
        "y_pred = Forest.predict(X_test)\n"
      ],
      "execution_count": null,
      "outputs": []
    },
    {
      "cell_type": "markdown",
      "metadata": {
        "id": "FPsbd9cGekuE"
      },
      "source": [
        "Performance Evaluation"
      ]
    },
    {
      "cell_type": "code",
      "metadata": {
        "colab": {
          "base_uri": "https://localhost:8080/"
        },
        "id": "Rd5Mwh0p2Umz",
        "outputId": "525f3564-92fe-4346-9697-7bcc32999006"
      },
      "source": [
        "#Checking the precision and f1_score:\n",
        "print(classification_report(y_test, y_pred))\n"
      ],
      "execution_count": null,
      "outputs": [
        {
          "output_type": "stream",
          "name": "stdout",
          "text": [
            "              precision    recall  f1-score   support\n",
            "\n",
            " hypothyroid       0.80      0.80      0.80        25\n",
            "    negative       0.99      0.99      0.99       578\n",
            "\n",
            "    accuracy                           0.98       603\n",
            "   macro avg       0.90      0.90      0.90       603\n",
            "weighted avg       0.98      0.98      0.98       603\n",
            "\n"
          ]
        }
      ]
    },
    {
      "cell_type": "code",
      "metadata": {
        "colab": {
          "base_uri": "https://localhost:8080/"
        },
        "id": "kKqiyfiT2bIZ",
        "outputId": "fa3b1093-518e-4115-aa23-14389e2673cb"
      },
      "source": [
        "#Using confusion matrix:\n",
        "confusion_matrix(y_test, y_pred)\n"
      ],
      "execution_count": null,
      "outputs": [
        {
          "output_type": "execute_result",
          "data": {
            "text/plain": [
              "array([[ 22,   3],\n",
              "       [  3, 575]])"
            ]
          },
          "metadata": {},
          "execution_count": 62
        }
      ]
    },
    {
      "cell_type": "markdown",
      "metadata": {
        "id": "PvrfvepvjmC4"
      },
      "source": [
        "3 samples were misclassified for both Negative and Hypothyroid cases"
      ]
    },
    {
      "cell_type": "markdown",
      "metadata": {
        "id": "5qBpl8ny3Uk2"
      },
      "source": [
        "Hyperparameter Optimization"
      ]
    },
    {
      "cell_type": "code",
      "metadata": {
        "colab": {
          "base_uri": "https://localhost:8080/"
        },
        "id": "5tvUxdsisJwT",
        "outputId": "b5db8c6d-3514-4087-e565-876e407b1ddf"
      },
      "source": [
        "#To view the parameters available for tuning:\n",
        "RandomForestClassifier().get_params()\n"
      ],
      "execution_count": null,
      "outputs": [
        {
          "output_type": "execute_result",
          "data": {
            "text/plain": [
              "{'bootstrap': True,\n",
              " 'ccp_alpha': 0.0,\n",
              " 'class_weight': None,\n",
              " 'criterion': 'gini',\n",
              " 'max_depth': None,\n",
              " 'max_features': 'auto',\n",
              " 'max_leaf_nodes': None,\n",
              " 'max_samples': None,\n",
              " 'min_impurity_decrease': 0.0,\n",
              " 'min_samples_leaf': 1,\n",
              " 'min_samples_split': 2,\n",
              " 'min_weight_fraction_leaf': 0.0,\n",
              " 'n_estimators': 100,\n",
              " 'n_jobs': None,\n",
              " 'oob_score': False,\n",
              " 'random_state': None,\n",
              " 'verbose': 0,\n",
              " 'warm_start': False}"
            ]
          },
          "metadata": {},
          "execution_count": 63
        }
      ]
    },
    {
      "cell_type": "code",
      "metadata": {
        "id": "TxH2GiIb3TtY"
      },
      "source": [
        "#Choosing  optimal parameters:\n",
        "\n",
        "#Number of trees in the random forest:\n",
        "n_estimators = [int(x) for x in np.linspace(start = 10, stop = 80, num = 10)]\n",
        "#The function to measure the quality of the split:\n",
        "criterion= ['gini', 'entropy']\n",
        "#Number of features to consider at every split:\n",
        "max_features = ['auto', 'sqrt']\n",
        "#Maximum number of leaves in the tree:\n",
        "max_depth = [2, 4]\n",
        "#Minimum number of samples required to split a node:\n",
        "min_samples_split = [2, 5]\n",
        "#Minimum number of samples required at each leaf node:\n",
        "min_samples_leaf = [1, 2]\n",
        "#Method of selecting samples for training each tree:\n",
        "bootstrap = [True, False]\n"
      ],
      "execution_count": null,
      "outputs": []
    },
    {
      "cell_type": "code",
      "metadata": {
        "colab": {
          "base_uri": "https://localhost:8080/"
        },
        "id": "tRFT2XwQmevU",
        "outputId": "a067ed46-9c89-4c04-ed58-8e8b4027b689"
      },
      "source": [
        "#Creating the pameter grid:\n",
        "param_grid = {'n_estimators': n_estimators,\n",
        "              'criterion': criterion,\n",
        "              'max_features': max_features,\n",
        "              'max_depth': max_depth,\n",
        "              'min_samples_split': min_samples_split,\n",
        "              'min_samples_leaf': min_samples_leaf,\n",
        "              'bootstrap': bootstrap}\n",
        "\n",
        "print(param_grid)\n"
      ],
      "execution_count": null,
      "outputs": [
        {
          "output_type": "stream",
          "name": "stdout",
          "text": [
            "{'n_estimators': [10, 17, 25, 33, 41, 48, 56, 64, 72, 80], 'criterion': ['gini', 'entropy'], 'max_features': ['auto', 'sqrt'], 'max_depth': [2, 4], 'min_samples_split': [2, 5], 'min_samples_leaf': [1, 2], 'bootstrap': [True, False]}\n"
          ]
        }
      ]
    },
    {
      "cell_type": "code",
      "metadata": {
        "colab": {
          "base_uri": "https://localhost:8080/"
        },
        "id": "diJ6VfReozKK",
        "outputId": "3e625607-4ba7-4dfb-883a-61d653824cea"
      },
      "source": [
        "#Using the random forest classifier along with grid search:\n",
        "Forest = RandomForestClassifier()\n",
        "\n",
        "#Creating grid search using 5-fold cross validation:\n",
        "clf = GridSearchCV(Forest, param_grid = param_grid, cv= 5, n_jobs = 4, verbose = 2)\n",
        "\n",
        "#Fitting the grid search:\n",
        "best_clf = clf.fit(X_train, y_train)\n",
        "\n",
        "#Predicting values based on the new parameters:\n",
        "y_pred = best_clf.predict(X_test)\n"
      ],
      "execution_count": null,
      "outputs": [
        {
          "output_type": "stream",
          "name": "stdout",
          "text": [
            "Fitting 5 folds for each of 640 candidates, totalling 3200 fits\n"
          ]
        }
      ]
    },
    {
      "cell_type": "code",
      "metadata": {
        "colab": {
          "base_uri": "https://localhost:8080/"
        },
        "id": "38EGMwtVqO6W",
        "outputId": "072985f2-06f0-4685-d1c5-77210f9f60fb"
      },
      "source": [
        "#To view the best parameters:\n",
        "best_clf.best_params_\n"
      ],
      "execution_count": null,
      "outputs": [
        {
          "output_type": "execute_result",
          "data": {
            "text/plain": [
              "{'bootstrap': False,\n",
              " 'criterion': 'entropy',\n",
              " 'max_depth': 4,\n",
              " 'max_features': 'sqrt',\n",
              " 'min_samples_leaf': 2,\n",
              " 'min_samples_split': 5,\n",
              " 'n_estimators': 33}"
            ]
          },
          "metadata": {},
          "execution_count": 67
        }
      ]
    },
    {
      "cell_type": "markdown",
      "metadata": {
        "id": "OCBPCt_bqfWn"
      },
      "source": [
        "Above are the best parameters available in the combination provided. This are the ones to be used to build the final model"
      ]
    },
    {
      "cell_type": "markdown",
      "metadata": {
        "id": "NWDjj-Uyth3e"
      },
      "source": [
        "Building the Final Model "
      ]
    },
    {
      "cell_type": "code",
      "metadata": {
        "id": "Lnsfckr-toNv"
      },
      "source": [
        "#Using the best parameters from hyperparameter tuning:\n",
        "Final_Random = RandomForestClassifier(bootstrap = False, criterion = 'entropy', max_depth =  4,\n",
        "                               max_features = 'sqrt', min_samples_leaf = 2, min_samples_split = 5, n_estimators = 33)\n",
        "\n",
        "#Fitting the model:\n",
        "Final_Random.fit(X_train,y_train )\n",
        "\n",
        "#Predicting values:\n",
        "y_pred = Final_Random.predict(X_test)\n"
      ],
      "execution_count": null,
      "outputs": []
    },
    {
      "cell_type": "code",
      "metadata": {
        "colab": {
          "base_uri": "https://localhost:8080/"
        },
        "id": "gaN4myYTu8Od",
        "outputId": "96d9689f-7836-4112-f38c-4d4af064eafb"
      },
      "source": [
        "#Checking the Accuracy:\n",
        "print(f'Train Accuracy: {Final_Random.score(X_train, y_train):.2f}')\n",
        "Fore = print(f'Test Accuracy: {Final_Random.score(X_test, y_test):.2f}')\n"
      ],
      "execution_count": null,
      "outputs": [
        {
          "output_type": "stream",
          "name": "stdout",
          "text": [
            "Train Accuracy: 0.99\n",
            "Test Accuracy: 0.99\n"
          ]
        }
      ]
    },
    {
      "cell_type": "code",
      "metadata": {
        "colab": {
          "base_uri": "https://localhost:8080/"
        },
        "id": "5MM_RDArk2uP",
        "outputId": "4172447c-d146-4c04-f4ce-1874e8efe760"
      },
      "source": [
        "#Checking the precision and f1_score:\n",
        "print(classification_report(y_test, y_pred))\n"
      ],
      "execution_count": null,
      "outputs": [
        {
          "output_type": "stream",
          "name": "stdout",
          "text": [
            "              precision    recall  f1-score   support\n",
            "\n",
            " hypothyroid       0.91      0.80      0.85        25\n",
            "    negative       0.99      1.00      0.99       578\n",
            "\n",
            "    accuracy                           0.99       603\n",
            "   macro avg       0.95      0.90      0.92       603\n",
            "weighted avg       0.99      0.99      0.99       603\n",
            "\n"
          ]
        }
      ]
    },
    {
      "cell_type": "code",
      "metadata": {
        "colab": {
          "base_uri": "https://localhost:8080/"
        },
        "id": "4CEekWLWIJTD",
        "outputId": "1332f60f-5352-4dce-e9ab-c38a878425fb"
      },
      "source": [
        "#Using confusion matrix:\n",
        "confusion_matrix(y_test, y_pred)\n"
      ],
      "execution_count": null,
      "outputs": [
        {
          "output_type": "execute_result",
          "data": {
            "text/plain": [
              "array([[ 20,   5],\n",
              "       [  2, 576]])"
            ]
          },
          "metadata": {},
          "execution_count": 75
        }
      ]
    },
    {
      "cell_type": "code",
      "metadata": {
        "colab": {
          "base_uri": "https://localhost:8080/"
        },
        "id": "oeStQyosrdvB",
        "outputId": "20a9318c-12cb-43e4-e6e0-c1fb90a0822c"
      },
      "source": [
        "#Checking for the F1 score:\n",
        "f1_score(y_test, y_pred)"
      ],
      "execution_count": null,
      "outputs": [
        {
          "output_type": "execute_result",
          "data": {
            "text/plain": [
              "0.8510638297872342"
            ]
          },
          "metadata": {},
          "execution_count": 42
        }
      ]
    },
    {
      "cell_type": "markdown",
      "metadata": {
        "id": "hSTtKV2Ulio5"
      },
      "source": [
        "The scores of the Hypothyroid cases are performing better compared to the baseline model. The f1 score increased from 72% to 85%. The misclassifications also reduced from 7 in both cases to a 5 and 2"
      ]
    },
    {
      "cell_type": "markdown",
      "metadata": {
        "id": "v3Yq_kFqvYjv"
      },
      "source": [
        "Variable Importance"
      ]
    },
    {
      "cell_type": "code",
      "metadata": {
        "colab": {
          "base_uri": "https://localhost:8080/",
          "height": 833
        },
        "id": "nDFEXBoCF11_",
        "outputId": "95d15b4f-e5ac-4bcc-df03-a52b16d0e896"
      },
      "source": [
        "#Viewing the Important Features:\n",
        "Best_Features = pd.DataFrame({'Features': X_train.columns, 'Importance':Final_Random.feature_importances_})\n",
        "\n",
        "#Displaying the features:\n",
        "Best_Features.sort_values('Importance', ascending = False)\n"
      ],
      "execution_count": null,
      "outputs": [
        {
          "output_type": "execute_result",
          "data": {
            "text/html": [
              "<div>\n",
              "<style scoped>\n",
              "    .dataframe tbody tr th:only-of-type {\n",
              "        vertical-align: middle;\n",
              "    }\n",
              "\n",
              "    .dataframe tbody tr th {\n",
              "        vertical-align: top;\n",
              "    }\n",
              "\n",
              "    .dataframe thead th {\n",
              "        text-align: right;\n",
              "    }\n",
              "</style>\n",
              "<table border=\"1\" class=\"dataframe\">\n",
              "  <thead>\n",
              "    <tr style=\"text-align: right;\">\n",
              "      <th></th>\n",
              "      <th>Features</th>\n",
              "      <th>Importance</th>\n",
              "    </tr>\n",
              "  </thead>\n",
              "  <tbody>\n",
              "    <tr>\n",
              "      <th>22</th>\n",
              "      <td>FTI</td>\n",
              "      <td>0.500848</td>\n",
              "    </tr>\n",
              "    <tr>\n",
              "      <th>14</th>\n",
              "      <td>TSH</td>\n",
              "      <td>0.219815</td>\n",
              "    </tr>\n",
              "    <tr>\n",
              "      <th>18</th>\n",
              "      <td>TT4</td>\n",
              "      <td>0.193625</td>\n",
              "    </tr>\n",
              "    <tr>\n",
              "      <th>16</th>\n",
              "      <td>T3</td>\n",
              "      <td>0.036724</td>\n",
              "    </tr>\n",
              "    <tr>\n",
              "      <th>20</th>\n",
              "      <td>T4U</td>\n",
              "      <td>0.014497</td>\n",
              "    </tr>\n",
              "    <tr>\n",
              "      <th>13</th>\n",
              "      <td>TSH_measured</td>\n",
              "      <td>0.011564</td>\n",
              "    </tr>\n",
              "    <tr>\n",
              "      <th>0</th>\n",
              "      <td>age</td>\n",
              "      <td>0.004826</td>\n",
              "    </tr>\n",
              "    <tr>\n",
              "      <th>6</th>\n",
              "      <td>query_hypothyroid</td>\n",
              "      <td>0.004299</td>\n",
              "    </tr>\n",
              "    <tr>\n",
              "      <th>2</th>\n",
              "      <td>on_thyroxine</td>\n",
              "      <td>0.003138</td>\n",
              "    </tr>\n",
              "    <tr>\n",
              "      <th>9</th>\n",
              "      <td>sick</td>\n",
              "      <td>0.002897</td>\n",
              "    </tr>\n",
              "    <tr>\n",
              "      <th>5</th>\n",
              "      <td>thyroid_surgery</td>\n",
              "      <td>0.001955</td>\n",
              "    </tr>\n",
              "    <tr>\n",
              "      <th>19</th>\n",
              "      <td>T4U_measured</td>\n",
              "      <td>0.001623</td>\n",
              "    </tr>\n",
              "    <tr>\n",
              "      <th>23</th>\n",
              "      <td>TBG_measured</td>\n",
              "      <td>0.001233</td>\n",
              "    </tr>\n",
              "    <tr>\n",
              "      <th>4</th>\n",
              "      <td>on_antithyroid_medication</td>\n",
              "      <td>0.000860</td>\n",
              "    </tr>\n",
              "    <tr>\n",
              "      <th>15</th>\n",
              "      <td>T3_measured</td>\n",
              "      <td>0.000663</td>\n",
              "    </tr>\n",
              "    <tr>\n",
              "      <th>1</th>\n",
              "      <td>sex</td>\n",
              "      <td>0.000510</td>\n",
              "    </tr>\n",
              "    <tr>\n",
              "      <th>17</th>\n",
              "      <td>TT4_measured</td>\n",
              "      <td>0.000321</td>\n",
              "    </tr>\n",
              "    <tr>\n",
              "      <th>3</th>\n",
              "      <td>query_on_thyroxine</td>\n",
              "      <td>0.000195</td>\n",
              "    </tr>\n",
              "    <tr>\n",
              "      <th>12</th>\n",
              "      <td>goitre</td>\n",
              "      <td>0.000148</td>\n",
              "    </tr>\n",
              "    <tr>\n",
              "      <th>10</th>\n",
              "      <td>tumor</td>\n",
              "      <td>0.000070</td>\n",
              "    </tr>\n",
              "    <tr>\n",
              "      <th>7</th>\n",
              "      <td>query_hyperthyroid</td>\n",
              "      <td>0.000066</td>\n",
              "    </tr>\n",
              "    <tr>\n",
              "      <th>24</th>\n",
              "      <td>TBG</td>\n",
              "      <td>0.000056</td>\n",
              "    </tr>\n",
              "    <tr>\n",
              "      <th>8</th>\n",
              "      <td>pregnant</td>\n",
              "      <td>0.000035</td>\n",
              "    </tr>\n",
              "    <tr>\n",
              "      <th>21</th>\n",
              "      <td>FTI_measured</td>\n",
              "      <td>0.000031</td>\n",
              "    </tr>\n",
              "    <tr>\n",
              "      <th>11</th>\n",
              "      <td>lithium</td>\n",
              "      <td>0.000000</td>\n",
              "    </tr>\n",
              "  </tbody>\n",
              "</table>\n",
              "</div>"
            ],
            "text/plain": [
              "                     Features  Importance\n",
              "22                        FTI    0.500848\n",
              "14                        TSH    0.219815\n",
              "18                        TT4    0.193625\n",
              "16                         T3    0.036724\n",
              "20                        T4U    0.014497\n",
              "13               TSH_measured    0.011564\n",
              "0                         age    0.004826\n",
              "6           query_hypothyroid    0.004299\n",
              "2                on_thyroxine    0.003138\n",
              "9                        sick    0.002897\n",
              "5             thyroid_surgery    0.001955\n",
              "19               T4U_measured    0.001623\n",
              "23               TBG_measured    0.001233\n",
              "4   on_antithyroid_medication    0.000860\n",
              "15                T3_measured    0.000663\n",
              "1                         sex    0.000510\n",
              "17               TT4_measured    0.000321\n",
              "3          query_on_thyroxine    0.000195\n",
              "12                     goitre    0.000148\n",
              "10                      tumor    0.000070\n",
              "7          query_hyperthyroid    0.000066\n",
              "24                        TBG    0.000056\n",
              "8                    pregnant    0.000035\n",
              "21               FTI_measured    0.000031\n",
              "11                    lithium    0.000000"
            ]
          },
          "metadata": {},
          "execution_count": 71
        }
      ]
    },
    {
      "cell_type": "markdown",
      "metadata": {
        "id": "8FDC6ZT0ouL-"
      },
      "source": [
        "Comparing with the baseline model, FTI, TSH, TT4 and T3 are still the features with high importance. This means that their values have a significant impact on the outcome values.\n",
        "\n",
        "Variables with low importance might be omitted from the model making it simpler and faster to fit and predict"
      ]
    },
    {
      "cell_type": "markdown",
      "metadata": {
        "id": "RhJBEfJzzLp4"
      },
      "source": [
        " - **Adaptive/ADA Boosting**"
      ]
    },
    {
      "cell_type": "markdown",
      "metadata": {
        "id": "kGyDkb2ArM-0"
      },
      "source": [
        "This classifier combines multiple “weak classifiers” into a single “strong classifier”"
      ]
    },
    {
      "cell_type": "code",
      "metadata": {
        "colab": {
          "base_uri": "https://localhost:8080/"
        },
        "id": "efwE36TQzLAo",
        "outputId": "545648d1-d650-4965-e525-20d38584b013"
      },
      "source": [
        "#Creating the Dependent and Independent Variables:\n",
        "X = Model.drop('status', axis=1)\n",
        "y = np.where(Model.status == 'hypothyroid', 1, 0)\n",
        "\n",
        "#Dividing the Data into Train and Test:\n",
        "X_train, X_test, y_train, y_test = train_test_split(X, y, test_size=0.2, random_state= 0)\n",
        "\n",
        "#Printing the Shapes of the split data:\n",
        "print(f'X_train : {X_train.shape}')\n",
        "print(f'y_train : {y_train.shape}')\n",
        "print(f'X_test : {X_test.shape}')\n",
        "print(f'y_test : {y_test.shape}')\n"
      ],
      "execution_count": null,
      "outputs": [
        {
          "output_type": "stream",
          "name": "stdout",
          "text": [
            "X_train : (2410, 25)\n",
            "y_train : (2410,)\n",
            "X_test : (603, 25)\n",
            "y_test : (603,)\n"
          ]
        }
      ]
    },
    {
      "cell_type": "code",
      "metadata": {
        "id": "H2Q0kte5-gvL"
      },
      "source": [
        "#Initiating adaptive boosting:\n",
        "Ada = AdaBoostClassifier()\n",
        "\n",
        "#Fitting the model:\n",
        "Ada.fit(X_train, y_train )\n",
        "\n",
        "#Applying the trained model to make a prediction:\n",
        "y_pred = Ada.predict(X_test)\n"
      ],
      "execution_count": null,
      "outputs": []
    },
    {
      "cell_type": "markdown",
      "metadata": {
        "id": "WKpG5Vg2sH0B"
      },
      "source": [
        "Model Performance"
      ]
    },
    {
      "cell_type": "code",
      "metadata": {
        "colab": {
          "base_uri": "https://localhost:8080/"
        },
        "id": "kxrf9LR7-kJ_",
        "outputId": "ebea37c4-2715-4437-9738-bb61458f4678"
      },
      "source": [
        "#Checking the accuracy of the test and train models:\n",
        "print(f'Train Accuracy: {Ada.score(X_train, y_train):.2f}')\n",
        "print(f'Test Accuracy: {Ada.score(X_test, y_test):.2f}')\n"
      ],
      "execution_count": null,
      "outputs": [
        {
          "output_type": "stream",
          "name": "stdout",
          "text": [
            "Train Accuracy: 1.00\n",
            "Test Accuracy: 0.99\n"
          ]
        }
      ]
    },
    {
      "cell_type": "code",
      "metadata": {
        "colab": {
          "base_uri": "https://localhost:8080/"
        },
        "id": "5KtRUtuI-oYC",
        "outputId": "539a97da-7945-4d94-d371-de4a8c3e3506"
      },
      "source": [
        "#Checking the precision and f1_score:\n",
        "print(classification_report(y_test, y_pred))\n"
      ],
      "execution_count": null,
      "outputs": [
        {
          "output_type": "stream",
          "name": "stdout",
          "text": [
            "              precision    recall  f1-score   support\n",
            "\n",
            " hypothyroid       0.87      0.80      0.83        25\n",
            "    negative       0.99      0.99      0.99       578\n",
            "\n",
            "    accuracy                           0.99       603\n",
            "   macro avg       0.93      0.90      0.91       603\n",
            "weighted avg       0.99      0.99      0.99       603\n",
            "\n"
          ]
        }
      ]
    },
    {
      "cell_type": "code",
      "metadata": {
        "colab": {
          "base_uri": "https://localhost:8080/"
        },
        "id": "kFyDnbKz-wME",
        "outputId": "f72559a2-73fa-44bd-a815-9a1fd0b55e66"
      },
      "source": [
        "#Using confusion matrix:\n",
        "confusion_matrix(y_test, y_pred)\n"
      ],
      "execution_count": null,
      "outputs": [
        {
          "output_type": "execute_result",
          "data": {
            "text/plain": [
              "array([[ 20,   5],\n",
              "       [  3, 575]])"
            ]
          },
          "metadata": {},
          "execution_count": 80
        }
      ]
    },
    {
      "cell_type": "markdown",
      "metadata": {
        "id": "0OAoItNVsP53"
      },
      "source": [
        "Hyperparameter Tuning"
      ]
    },
    {
      "cell_type": "code",
      "metadata": {
        "colab": {
          "base_uri": "https://localhost:8080/"
        },
        "id": "iyfEScnd-wq0",
        "outputId": "03ca8599-f2cb-47cd-f96b-19f9cf6fa805"
      },
      "source": [
        "#To view the parameters available for tuning:\n",
        "AdaBoostClassifier().get_params()\n"
      ],
      "execution_count": null,
      "outputs": [
        {
          "output_type": "execute_result",
          "data": {
            "text/plain": [
              "{'algorithm': 'SAMME.R',\n",
              " 'base_estimator': None,\n",
              " 'learning_rate': 1.0,\n",
              " 'n_estimators': 50,\n",
              " 'random_state': None}"
            ]
          },
          "metadata": {},
          "execution_count": 81
        }
      ]
    },
    {
      "cell_type": "code",
      "metadata": {
        "id": "i2yIHBPc_ash"
      },
      "source": [
        "#Choosing optimal parameters:\n",
        "#The maximum number of estimators at which boosting is terminated:\n",
        "n_estimators = [30, 60, 80, 100, 150, 200]\n",
        "#Weight applied to each classifier at each boosting iteration:\n",
        "learning_rate = [0.05, 0.10, 0.15, 0.20, 0.25]\n",
        "#The algorithm from which the ensemble is built on:\n",
        "algorithm = ['SAMME', 'SAMME.R']\n"
      ],
      "execution_count": null,
      "outputs": []
    },
    {
      "cell_type": "code",
      "metadata": {
        "colab": {
          "base_uri": "https://localhost:8080/"
        },
        "id": "lMGYiHYa_hzx",
        "outputId": "2411445d-aa02-421b-c26e-b30570d02f52"
      },
      "source": [
        "#Creating the pameter grid:\n",
        "param_grid = {'n_estimators': n_estimators,\n",
        "              'learning_rate': learning_rate,\n",
        "              'algorithm': algorithm}\n",
        "          \n",
        "print(param_grid)\n"
      ],
      "execution_count": null,
      "outputs": [
        {
          "output_type": "stream",
          "name": "stdout",
          "text": [
            "{'n_estimators': [30, 60, 80, 100, 150, 200], 'learning_rate': [0.05, 0.1, 0.15, 0.2, 0.25], 'algorithm': ['SAMME', 'SAMME.R']}\n"
          ]
        }
      ]
    },
    {
      "cell_type": "code",
      "metadata": {
        "colab": {
          "base_uri": "https://localhost:8080/"
        },
        "id": "agfqrkwG_nm3",
        "outputId": "2702eeac-4f38-4477-fdab-155377c62bf3"
      },
      "source": [
        "#Using the ADA classifier along with grid search:\n",
        "Ada = AdaBoostClassifier()\n",
        "\n",
        "#Creating grid search using 5-fold cross validation:\n",
        "clf = GridSearchCV(Ada, param_grid = param_grid, cv= 5, n_jobs = 4, verbose = 2)\n",
        "\n",
        "#Fitting the grid search:\n",
        "best_clf = clf.fit(X_train, y_train)\n",
        "\n",
        "#Predicting values based on the new parameters:\n",
        "y_pred = best_clf.predict(X_test)\n"
      ],
      "execution_count": null,
      "outputs": [
        {
          "output_type": "stream",
          "name": "stdout",
          "text": [
            "Fitting 5 folds for each of 60 candidates, totalling 300 fits\n"
          ]
        }
      ]
    },
    {
      "cell_type": "code",
      "metadata": {
        "colab": {
          "base_uri": "https://localhost:8080/"
        },
        "id": "XTiaEnaA_rnX",
        "outputId": "218ea534-2e6d-4ee4-cabb-2d1a2c1bcb08"
      },
      "source": [
        "#To view the best parameters:\n",
        "best_clf.best_params_\n"
      ],
      "execution_count": null,
      "outputs": [
        {
          "output_type": "execute_result",
          "data": {
            "text/plain": [
              "{'algorithm': 'SAMME', 'learning_rate': 0.1, 'n_estimators': 30}"
            ]
          },
          "metadata": {},
          "execution_count": 92
        }
      ]
    },
    {
      "cell_type": "markdown",
      "metadata": {
        "id": "R7njEtt9v-uR"
      },
      "source": [
        "Model Building"
      ]
    },
    {
      "cell_type": "code",
      "metadata": {
        "id": "wYAUnkAQ_wIA"
      },
      "source": [
        "#Using the best parameters from hyperparameter tuning:\n",
        "Final_Ada = AdaBoostClassifier(algorithm = 'SAMME', learning_rate = 0.1, n_estimators = 30)\n",
        "\n",
        "#Fitting the model:\n",
        "Final_Ada.fit(X_train,y_train )\n",
        "\n",
        "#Predicting values:\n",
        "y_pred = Final_Ada.predict(X_test)"
      ],
      "execution_count": null,
      "outputs": []
    },
    {
      "cell_type": "markdown",
      "metadata": {
        "id": "8ngwAhE2wexn"
      },
      "source": [
        "Model Performance"
      ]
    },
    {
      "cell_type": "code",
      "metadata": {
        "colab": {
          "base_uri": "https://localhost:8080/"
        },
        "id": "CbmU1IRY_5ni",
        "outputId": "97d50296-e326-46bf-8322-5e2907d81d39"
      },
      "source": [
        "#Checking the accuracy:\n",
        "print(f'Train Accuracy: {Final_Ada.score(X_train, y_train):.2f}')\n",
        "Adap = print(f'Test Accuracy: {Final_Ada.score(X_test, y_test):.2f}')\n"
      ],
      "execution_count": null,
      "outputs": [
        {
          "output_type": "stream",
          "name": "stdout",
          "text": [
            "Train Accuracy: 0.99\n",
            "Test Accuracy: 0.99\n"
          ]
        }
      ]
    },
    {
      "cell_type": "code",
      "metadata": {
        "colab": {
          "base_uri": "https://localhost:8080/"
        },
        "id": "AFDN8tGKwdiI",
        "outputId": "67cb12b4-e652-4f96-eff1-aac220e47381"
      },
      "source": [
        "#Checking the precision and f1_score:\n",
        "print(classification_report(y_test, y_pred))"
      ],
      "execution_count": null,
      "outputs": [
        {
          "output_type": "stream",
          "name": "stdout",
          "text": [
            "              precision    recall  f1-score   support\n",
            "\n",
            " hypothyroid       0.91      0.84      0.87        25\n",
            "    negative       0.99      1.00      0.99       578\n",
            "\n",
            "    accuracy                           0.99       603\n",
            "   macro avg       0.95      0.92      0.93       603\n",
            "weighted avg       0.99      0.99      0.99       603\n",
            "\n"
          ]
        }
      ]
    },
    {
      "cell_type": "code",
      "metadata": {
        "colab": {
          "base_uri": "https://localhost:8080/"
        },
        "id": "BbhR14OrwrsR",
        "outputId": "802aa281-152f-4061-abda-57052a3e2a87"
      },
      "source": [
        "#Using confusion matrix:\n",
        "confusion_matrix(y_test, y_pred)"
      ],
      "execution_count": null,
      "outputs": [
        {
          "output_type": "execute_result",
          "data": {
            "text/plain": [
              "array([[ 21,   4],\n",
              "       [  2, 576]])"
            ]
          },
          "metadata": {},
          "execution_count": 99
        }
      ]
    },
    {
      "cell_type": "code",
      "metadata": {
        "colab": {
          "base_uri": "https://localhost:8080/"
        },
        "id": "iiYpN1NdrgXL",
        "outputId": "74865f91-2a10-4207-ab52-27dd49ea154a"
      },
      "source": [
        "#Viewing the F1 score:\n",
        "f1_score(y_test, y_pred)"
      ],
      "execution_count": null,
      "outputs": [
        {
          "output_type": "execute_result",
          "data": {
            "text/plain": [
              "0.8749999999999999"
            ]
          },
          "metadata": {},
          "execution_count": 46
        }
      ]
    },
    {
      "cell_type": "markdown",
      "metadata": {
        "id": "EyyF949-xIic"
      },
      "source": [
        "Compared to the baseline model, The scores of the postive cases are doing better with an F1 score of 87% compared to 72%"
      ]
    },
    {
      "cell_type": "code",
      "metadata": {
        "colab": {
          "base_uri": "https://localhost:8080/",
          "height": 833
        },
        "id": "YA5DwAGE_z9K",
        "outputId": "5d5e88ed-b38e-4b99-c4f1-0712a0947bed"
      },
      "source": [
        "#Viewing the Important Features:\n",
        "Best_Features = pd.DataFrame({'Features': X_train.columns, 'Importance':Final_Ada.feature_importances_})\n",
        "\n",
        "#Displaying the features:\n",
        "Best_Features.sort_values('Importance', ascending = False)\n"
      ],
      "execution_count": null,
      "outputs": [
        {
          "output_type": "execute_result",
          "data": {
            "text/html": [
              "<div>\n",
              "<style scoped>\n",
              "    .dataframe tbody tr th:only-of-type {\n",
              "        vertical-align: middle;\n",
              "    }\n",
              "\n",
              "    .dataframe tbody tr th {\n",
              "        vertical-align: top;\n",
              "    }\n",
              "\n",
              "    .dataframe thead th {\n",
              "        text-align: right;\n",
              "    }\n",
              "</style>\n",
              "<table border=\"1\" class=\"dataframe\">\n",
              "  <thead>\n",
              "    <tr style=\"text-align: right;\">\n",
              "      <th></th>\n",
              "      <th>Features</th>\n",
              "      <th>Importance</th>\n",
              "    </tr>\n",
              "  </thead>\n",
              "  <tbody>\n",
              "    <tr>\n",
              "      <th>22</th>\n",
              "      <td>FTI</td>\n",
              "      <td>0.513745</td>\n",
              "    </tr>\n",
              "    <tr>\n",
              "      <th>14</th>\n",
              "      <td>TSH</td>\n",
              "      <td>0.486255</td>\n",
              "    </tr>\n",
              "    <tr>\n",
              "      <th>0</th>\n",
              "      <td>age</td>\n",
              "      <td>0.000000</td>\n",
              "    </tr>\n",
              "    <tr>\n",
              "      <th>13</th>\n",
              "      <td>TSH_measured</td>\n",
              "      <td>0.000000</td>\n",
              "    </tr>\n",
              "    <tr>\n",
              "      <th>23</th>\n",
              "      <td>TBG_measured</td>\n",
              "      <td>0.000000</td>\n",
              "    </tr>\n",
              "    <tr>\n",
              "      <th>21</th>\n",
              "      <td>FTI_measured</td>\n",
              "      <td>0.000000</td>\n",
              "    </tr>\n",
              "    <tr>\n",
              "      <th>20</th>\n",
              "      <td>T4U</td>\n",
              "      <td>0.000000</td>\n",
              "    </tr>\n",
              "    <tr>\n",
              "      <th>19</th>\n",
              "      <td>T4U_measured</td>\n",
              "      <td>0.000000</td>\n",
              "    </tr>\n",
              "    <tr>\n",
              "      <th>18</th>\n",
              "      <td>TT4</td>\n",
              "      <td>0.000000</td>\n",
              "    </tr>\n",
              "    <tr>\n",
              "      <th>17</th>\n",
              "      <td>TT4_measured</td>\n",
              "      <td>0.000000</td>\n",
              "    </tr>\n",
              "    <tr>\n",
              "      <th>16</th>\n",
              "      <td>T3</td>\n",
              "      <td>0.000000</td>\n",
              "    </tr>\n",
              "    <tr>\n",
              "      <th>15</th>\n",
              "      <td>T3_measured</td>\n",
              "      <td>0.000000</td>\n",
              "    </tr>\n",
              "    <tr>\n",
              "      <th>12</th>\n",
              "      <td>goitre</td>\n",
              "      <td>0.000000</td>\n",
              "    </tr>\n",
              "    <tr>\n",
              "      <th>1</th>\n",
              "      <td>sex</td>\n",
              "      <td>0.000000</td>\n",
              "    </tr>\n",
              "    <tr>\n",
              "      <th>11</th>\n",
              "      <td>lithium</td>\n",
              "      <td>0.000000</td>\n",
              "    </tr>\n",
              "    <tr>\n",
              "      <th>10</th>\n",
              "      <td>tumor</td>\n",
              "      <td>0.000000</td>\n",
              "    </tr>\n",
              "    <tr>\n",
              "      <th>9</th>\n",
              "      <td>sick</td>\n",
              "      <td>0.000000</td>\n",
              "    </tr>\n",
              "    <tr>\n",
              "      <th>8</th>\n",
              "      <td>pregnant</td>\n",
              "      <td>0.000000</td>\n",
              "    </tr>\n",
              "    <tr>\n",
              "      <th>7</th>\n",
              "      <td>query_hyperthyroid</td>\n",
              "      <td>0.000000</td>\n",
              "    </tr>\n",
              "    <tr>\n",
              "      <th>6</th>\n",
              "      <td>query_hypothyroid</td>\n",
              "      <td>0.000000</td>\n",
              "    </tr>\n",
              "    <tr>\n",
              "      <th>5</th>\n",
              "      <td>thyroid_surgery</td>\n",
              "      <td>0.000000</td>\n",
              "    </tr>\n",
              "    <tr>\n",
              "      <th>4</th>\n",
              "      <td>on_antithyroid_medication</td>\n",
              "      <td>0.000000</td>\n",
              "    </tr>\n",
              "    <tr>\n",
              "      <th>3</th>\n",
              "      <td>query_on_thyroxine</td>\n",
              "      <td>0.000000</td>\n",
              "    </tr>\n",
              "    <tr>\n",
              "      <th>2</th>\n",
              "      <td>on_thyroxine</td>\n",
              "      <td>0.000000</td>\n",
              "    </tr>\n",
              "    <tr>\n",
              "      <th>24</th>\n",
              "      <td>TBG</td>\n",
              "      <td>0.000000</td>\n",
              "    </tr>\n",
              "  </tbody>\n",
              "</table>\n",
              "</div>"
            ],
            "text/plain": [
              "                     Features  Importance\n",
              "22                        FTI    0.513745\n",
              "14                        TSH    0.486255\n",
              "0                         age    0.000000\n",
              "13               TSH_measured    0.000000\n",
              "23               TBG_measured    0.000000\n",
              "21               FTI_measured    0.000000\n",
              "20                        T4U    0.000000\n",
              "19               T4U_measured    0.000000\n",
              "18                        TT4    0.000000\n",
              "17               TT4_measured    0.000000\n",
              "16                         T3    0.000000\n",
              "15                T3_measured    0.000000\n",
              "12                     goitre    0.000000\n",
              "1                         sex    0.000000\n",
              "11                    lithium    0.000000\n",
              "10                      tumor    0.000000\n",
              "9                        sick    0.000000\n",
              "8                    pregnant    0.000000\n",
              "7          query_hyperthyroid    0.000000\n",
              "6           query_hypothyroid    0.000000\n",
              "5             thyroid_surgery    0.000000\n",
              "4   on_antithyroid_medication    0.000000\n",
              "3          query_on_thyroxine    0.000000\n",
              "2                on_thyroxine    0.000000\n",
              "24                        TBG    0.000000"
            ]
          },
          "metadata": {},
          "execution_count": 95
        }
      ]
    },
    {
      "cell_type": "markdown",
      "metadata": {
        "id": "uBlih8BuwI2q"
      },
      "source": [
        "From the ADA model, the only important features are FTI and TSH. All the rest do not add any value to this particular model"
      ]
    },
    {
      "cell_type": "markdown",
      "metadata": {
        "id": "GPq77M_MGMAe"
      },
      "source": [
        " - **Gradient Boosting**"
      ]
    },
    {
      "cell_type": "markdown",
      "metadata": {
        "id": "6WFdgMK-xuPj"
      },
      "source": [
        "Instead of using the weighted average of individual outputs as the final outputs, it uses a loss function to minimize loss and converge upon a final output value."
      ]
    },
    {
      "cell_type": "code",
      "metadata": {
        "colab": {
          "base_uri": "https://localhost:8080/"
        },
        "id": "W-To8h6DGLi4",
        "outputId": "e77c550e-1db3-447d-d3a0-64c193b34fa9"
      },
      "source": [
        "#Creating the Dependent and Independent Variables:\n",
        "X = Model.drop('status', axis=1)\n",
        "y = np.where(Model.status == 'hypothyroid', 1, 0)\n",
        "\n",
        "#Dividing the Data into Train and Test:\n",
        "X_train, X_test, y_train, y_test = train_test_split(X, y, test_size=0.2, random_state= 0)\n",
        "\n",
        "#Printing the Shapes of the split data:\n",
        "print(f'X_train : {X_train.shape}')\n",
        "print(f'y_train : {y_train.shape}')\n",
        "print(f'X_test : {X_test.shape}')\n",
        "print(f'y_test : {y_test.shape}')\n"
      ],
      "execution_count": null,
      "outputs": [
        {
          "output_type": "stream",
          "name": "stdout",
          "text": [
            "X_train : (2410, 25)\n",
            "y_train : (2410,)\n",
            "X_test : (603, 25)\n",
            "y_test : (603,)\n"
          ]
        }
      ]
    },
    {
      "cell_type": "code",
      "metadata": {
        "id": "pK-z6dDIGW--"
      },
      "source": [
        "#Initiating gradient boosting:\n",
        "Gradient = GradientBoostingClassifier()\n",
        "\n",
        "#Fitting the model:\n",
        "Gradient.fit(X_train, y_train )\n",
        "\n",
        "#Applying the trained model to make a prediction:\n",
        "y_pred = Gradient.predict(X_test)"
      ],
      "execution_count": null,
      "outputs": []
    },
    {
      "cell_type": "markdown",
      "metadata": {
        "id": "XM70RzZQx2Ty"
      },
      "source": [
        "Performance Evaluation"
      ]
    },
    {
      "cell_type": "code",
      "metadata": {
        "colab": {
          "base_uri": "https://localhost:8080/"
        },
        "id": "4Yd5sZ0bGaUn",
        "outputId": "8676d2f1-80f5-47fc-aa06-95b5a5a4ef46"
      },
      "source": [
        "#Checking the accuracy of the test and train models:\n",
        "print(f'Train Accuracy: {Gradient.score(X_train, y_train):.2f}')\n",
        "print(f'Test Accuracy: {Gradient.score(X_test, y_test):.2f}')"
      ],
      "execution_count": null,
      "outputs": [
        {
          "output_type": "stream",
          "name": "stdout",
          "text": [
            "Train Accuracy: 1.00\n",
            "Test Accuracy: 0.99\n"
          ]
        }
      ]
    },
    {
      "cell_type": "code",
      "metadata": {
        "colab": {
          "base_uri": "https://localhost:8080/"
        },
        "id": "Md6miMBbGdT2",
        "outputId": "66884de8-2395-4982-de30-e0062b6a6aa7"
      },
      "source": [
        "#Checking the precision and f1_score:\n",
        "print(classification_report(y_test, y_pred))"
      ],
      "execution_count": null,
      "outputs": [
        {
          "output_type": "stream",
          "name": "stdout",
          "text": [
            "              precision    recall  f1-score   support\n",
            "\n",
            " hypothyroid       0.91      0.84      0.87        25\n",
            "    negative       0.99      1.00      0.99       578\n",
            "\n",
            "    accuracy                           0.99       603\n",
            "   macro avg       0.95      0.92      0.93       603\n",
            "weighted avg       0.99      0.99      0.99       603\n",
            "\n"
          ]
        }
      ]
    },
    {
      "cell_type": "code",
      "metadata": {
        "colab": {
          "base_uri": "https://localhost:8080/"
        },
        "id": "Zqtg4HWFGgtp",
        "outputId": "7e06cf0f-45f5-4a60-e336-636a277ec88f"
      },
      "source": [
        "#Using confusion matrix:\n",
        "confusion_matrix(y_test, y_pred)"
      ],
      "execution_count": null,
      "outputs": [
        {
          "output_type": "execute_result",
          "data": {
            "text/plain": [
              "array([[ 21,   4],\n",
              "       [  2, 576]])"
            ]
          },
          "metadata": {},
          "execution_count": 104
        }
      ]
    },
    {
      "cell_type": "markdown",
      "metadata": {
        "id": "RvUPTn6gx9Y1"
      },
      "source": [
        "Hyperparameter Optimization"
      ]
    },
    {
      "cell_type": "code",
      "metadata": {
        "colab": {
          "base_uri": "https://localhost:8080/"
        },
        "id": "KEv5WLVaGjqj",
        "outputId": "035b74f3-ffbb-4c78-c61e-78dd33c055b1"
      },
      "source": [
        "#To view the parameters available for tuning:\n",
        "GradientBoostingClassifier().get_params()"
      ],
      "execution_count": null,
      "outputs": [
        {
          "output_type": "execute_result",
          "data": {
            "text/plain": [
              "{'ccp_alpha': 0.0,\n",
              " 'criterion': 'friedman_mse',\n",
              " 'init': None,\n",
              " 'learning_rate': 0.1,\n",
              " 'loss': 'deviance',\n",
              " 'max_depth': 3,\n",
              " 'max_features': None,\n",
              " 'max_leaf_nodes': None,\n",
              " 'min_impurity_decrease': 0.0,\n",
              " 'min_samples_leaf': 1,\n",
              " 'min_samples_split': 2,\n",
              " 'min_weight_fraction_leaf': 0.0,\n",
              " 'n_estimators': 100,\n",
              " 'n_iter_no_change': None,\n",
              " 'random_state': None,\n",
              " 'subsample': 1.0,\n",
              " 'tol': 0.0001,\n",
              " 'validation_fraction': 0.1,\n",
              " 'verbose': 0,\n",
              " 'warm_start': False}"
            ]
          },
          "metadata": {},
          "execution_count": 105
        }
      ]
    },
    {
      "cell_type": "code",
      "metadata": {
        "id": "Nn0bztF8GnTJ"
      },
      "source": [
        "#Choosing optimal parameter:\n",
        "\n",
        "#The number of boosting stages to perform:\n",
        "n_estimators = [5, 10, 15]\n",
        "#Choosing the best criterion:\n",
        "criterion= ['friedman_mse', 'squared_error', 'mse', 'mae']\n",
        "#Weight applied to each classifier at each boosting iteration:\n",
        "learning_rate = [0.05, 0.10]\n",
        "#Number of features to consider at every split:\n",
        "max_features = ['auto', 'sqrt', 'log2']\n",
        "#Maximum number of leaves in the tree:\n",
        "max_depth = [2, 3, 4]\n",
        "#Minimum number of samples required to split a node:\n",
        "min_samples_split = [2, 5]\n",
        "#Minimum number of samples required at each leaf node:\n",
        "min_samples_leaf = [1, 2]\n"
      ],
      "execution_count": null,
      "outputs": []
    },
    {
      "cell_type": "code",
      "metadata": {
        "colab": {
          "base_uri": "https://localhost:8080/"
        },
        "id": "lqIl8utFGqNJ",
        "outputId": "c61037e9-00e9-45c5-c2b5-e833570de26b"
      },
      "source": [
        "#Creating the pameter grid:\n",
        "param_grid = {'n_estimators': n_estimators,\n",
        "              'learning_rate': learning_rate,\n",
        "              'criterion': criterion,\n",
        "              'max_features': max_features,\n",
        "              'max_depth': max_depth,\n",
        "              'min_samples_split': min_samples_split,\n",
        "              'min_samples_leaf': min_samples_leaf}\n",
        "\n",
        "print(param_grid)"
      ],
      "execution_count": null,
      "outputs": [
        {
          "output_type": "stream",
          "name": "stdout",
          "text": [
            "{'n_estimators': [5, 10, 15], 'learning_rate': [0.05, 0.1], 'criterion': ['friedman_mse', 'squared_error', 'mse', 'mae'], 'max_features': ['auto', 'sqrt', 'log2'], 'max_depth': [2, 3, 4], 'min_samples_split': [2, 5], 'min_samples_leaf': [1, 2]}\n"
          ]
        }
      ]
    },
    {
      "cell_type": "code",
      "metadata": {
        "colab": {
          "base_uri": "https://localhost:8080/"
        },
        "id": "bBYXXdZDGs7V",
        "outputId": "4eca7a60-1855-476b-9355-f325790e7375"
      },
      "source": [
        "#Using the gradient boosting classifier along with grid search:\n",
        "Grad = GradientBoostingClassifier()\n",
        "\n",
        "#Creating grid search using 5-fold cross validation:\n",
        "clf = GridSearchCV(Grad, param_grid = param_grid, cv= 5, n_jobs = 4, verbose = 2)\n",
        "\n",
        "#Fitting the grid search:\n",
        "best_clf = clf.fit(X_train, y_train)\n",
        "\n",
        "#Predicting values based on the new parameters:\n",
        "y_pred = best_clf.predict(X_test)"
      ],
      "execution_count": null,
      "outputs": [
        {
          "output_type": "stream",
          "name": "stdout",
          "text": [
            "Fitting 5 folds for each of 864 candidates, totalling 4320 fits\n"
          ]
        }
      ]
    },
    {
      "cell_type": "code",
      "metadata": {
        "colab": {
          "base_uri": "https://localhost:8080/"
        },
        "id": "q5ghNBoIGxKw",
        "outputId": "faa9ab10-20fc-4277-915f-7ba16224e5d4"
      },
      "source": [
        "#To view the best parameters:\n",
        "best_clf.best_params_"
      ],
      "execution_count": null,
      "outputs": [
        {
          "output_type": "execute_result",
          "data": {
            "text/plain": [
              "{'criterion': 'friedman_mse',\n",
              " 'learning_rate': 0.1,\n",
              " 'max_depth': 3,\n",
              " 'max_features': 'auto',\n",
              " 'min_samples_leaf': 1,\n",
              " 'min_samples_split': 2,\n",
              " 'n_estimators': 15}"
            ]
          },
          "metadata": {},
          "execution_count": 109
        }
      ]
    },
    {
      "cell_type": "code",
      "metadata": {
        "id": "9FjglEHrG5AZ"
      },
      "source": [
        "#Using the best parameters from hyperparameter tuning:\n",
        "Final_Gradient = GradientBoostingClassifier(criterion = 'friedman_mse',learning_rate = 0.1,  max_depth =  3,\n",
        "                               max_features = 'auto', min_samples_leaf = 1, min_samples_split = 2, n_estimators = 15)\n",
        "\n",
        "#Fitting the model:\n",
        "Final_Gradient.fit(X_train,y_train )\n",
        "\n",
        "#Predicting values:\n",
        "y_pred = Final_Gradient.predict(X_test)"
      ],
      "execution_count": null,
      "outputs": []
    },
    {
      "cell_type": "markdown",
      "metadata": {
        "id": "aheAU6i_3UaE"
      },
      "source": [
        "Model Performance"
      ]
    },
    {
      "cell_type": "code",
      "metadata": {
        "colab": {
          "base_uri": "https://localhost:8080/"
        },
        "id": "JmPMyq_SG8ZY",
        "outputId": "1dbe46ce-7d10-49bc-f237-ded07863aed2"
      },
      "source": [
        "#Checking the accuracy:\n",
        "print(f'Train Accuracy: {Final_Gradient.score(X_train, y_train):.2f}')\n",
        "Gra = print(f'Test Accuracy: {Final_Gradient.score(X_test, y_test):.2f}')"
      ],
      "execution_count": null,
      "outputs": [
        {
          "output_type": "stream",
          "name": "stdout",
          "text": [
            "Train Accuracy: 0.99\n",
            "Test Accuracy: 0.99\n"
          ]
        }
      ]
    },
    {
      "cell_type": "code",
      "metadata": {
        "colab": {
          "base_uri": "https://localhost:8080/"
        },
        "id": "mvPY0oY33XNK",
        "outputId": "d2ad37be-dfb5-4846-cffa-2b042e5aefc8"
      },
      "source": [
        "#Checking the precision and f1_score:\n",
        "print(classification_report(y_test, y_pred))"
      ],
      "execution_count": null,
      "outputs": [
        {
          "output_type": "stream",
          "name": "stdout",
          "text": [
            "              precision    recall  f1-score   support\n",
            "\n",
            " hypothyroid       0.91      0.84      0.87        25\n",
            "    negative       0.99      1.00      0.99       578\n",
            "\n",
            "    accuracy                           0.99       603\n",
            "   macro avg       0.95      0.92      0.93       603\n",
            "weighted avg       0.99      0.99      0.99       603\n",
            "\n"
          ]
        }
      ]
    },
    {
      "cell_type": "code",
      "metadata": {
        "colab": {
          "base_uri": "https://localhost:8080/"
        },
        "id": "igBsmUs7ri4y",
        "outputId": "7859ae29-3281-4cb5-8ebf-58393f81825c"
      },
      "source": [
        "#Checking for the F1 score:\n",
        "f1_score(y_test, y_pred)"
      ],
      "execution_count": null,
      "outputs": [
        {
          "output_type": "execute_result",
          "data": {
            "text/plain": [
              "0.8749999999999999"
            ]
          },
          "metadata": {},
          "execution_count": 54
        }
      ]
    },
    {
      "cell_type": "code",
      "metadata": {
        "colab": {
          "base_uri": "https://localhost:8080/",
          "height": 833
        },
        "id": "YMCX0vwcG_9E",
        "outputId": "9281679f-d974-484f-c999-64e4f029859b"
      },
      "source": [
        "#Viewing the Important Features:\n",
        "Best_Features = pd.DataFrame({'Features': X_train.columns, 'Importance':Final_Gradient.feature_importances_})\n",
        "\n",
        "#Displaying the features:\n",
        "Best_Features.sort_values('Importance', ascending = False)"
      ],
      "execution_count": null,
      "outputs": [
        {
          "output_type": "execute_result",
          "data": {
            "text/html": [
              "<div>\n",
              "<style scoped>\n",
              "    .dataframe tbody tr th:only-of-type {\n",
              "        vertical-align: middle;\n",
              "    }\n",
              "\n",
              "    .dataframe tbody tr th {\n",
              "        vertical-align: top;\n",
              "    }\n",
              "\n",
              "    .dataframe thead th {\n",
              "        text-align: right;\n",
              "    }\n",
              "</style>\n",
              "<table border=\"1\" class=\"dataframe\">\n",
              "  <thead>\n",
              "    <tr style=\"text-align: right;\">\n",
              "      <th></th>\n",
              "      <th>Features</th>\n",
              "      <th>Importance</th>\n",
              "    </tr>\n",
              "  </thead>\n",
              "  <tbody>\n",
              "    <tr>\n",
              "      <th>22</th>\n",
              "      <td>FTI</td>\n",
              "      <td>0.756604</td>\n",
              "    </tr>\n",
              "    <tr>\n",
              "      <th>14</th>\n",
              "      <td>TSH</td>\n",
              "      <td>0.208218</td>\n",
              "    </tr>\n",
              "    <tr>\n",
              "      <th>6</th>\n",
              "      <td>query_hypothyroid</td>\n",
              "      <td>0.011692</td>\n",
              "    </tr>\n",
              "    <tr>\n",
              "      <th>16</th>\n",
              "      <td>T3</td>\n",
              "      <td>0.006791</td>\n",
              "    </tr>\n",
              "    <tr>\n",
              "      <th>0</th>\n",
              "      <td>age</td>\n",
              "      <td>0.004335</td>\n",
              "    </tr>\n",
              "    <tr>\n",
              "      <th>5</th>\n",
              "      <td>thyroid_surgery</td>\n",
              "      <td>0.003638</td>\n",
              "    </tr>\n",
              "    <tr>\n",
              "      <th>20</th>\n",
              "      <td>T4U</td>\n",
              "      <td>0.002983</td>\n",
              "    </tr>\n",
              "    <tr>\n",
              "      <th>4</th>\n",
              "      <td>on_antithyroid_medication</td>\n",
              "      <td>0.002781</td>\n",
              "    </tr>\n",
              "    <tr>\n",
              "      <th>2</th>\n",
              "      <td>on_thyroxine</td>\n",
              "      <td>0.001787</td>\n",
              "    </tr>\n",
              "    <tr>\n",
              "      <th>18</th>\n",
              "      <td>TT4</td>\n",
              "      <td>0.001172</td>\n",
              "    </tr>\n",
              "    <tr>\n",
              "      <th>15</th>\n",
              "      <td>T3_measured</td>\n",
              "      <td>0.000000</td>\n",
              "    </tr>\n",
              "    <tr>\n",
              "      <th>23</th>\n",
              "      <td>TBG_measured</td>\n",
              "      <td>0.000000</td>\n",
              "    </tr>\n",
              "    <tr>\n",
              "      <th>21</th>\n",
              "      <td>FTI_measured</td>\n",
              "      <td>0.000000</td>\n",
              "    </tr>\n",
              "    <tr>\n",
              "      <th>19</th>\n",
              "      <td>T4U_measured</td>\n",
              "      <td>0.000000</td>\n",
              "    </tr>\n",
              "    <tr>\n",
              "      <th>17</th>\n",
              "      <td>TT4_measured</td>\n",
              "      <td>0.000000</td>\n",
              "    </tr>\n",
              "    <tr>\n",
              "      <th>12</th>\n",
              "      <td>goitre</td>\n",
              "      <td>0.000000</td>\n",
              "    </tr>\n",
              "    <tr>\n",
              "      <th>13</th>\n",
              "      <td>TSH_measured</td>\n",
              "      <td>0.000000</td>\n",
              "    </tr>\n",
              "    <tr>\n",
              "      <th>1</th>\n",
              "      <td>sex</td>\n",
              "      <td>0.000000</td>\n",
              "    </tr>\n",
              "    <tr>\n",
              "      <th>11</th>\n",
              "      <td>lithium</td>\n",
              "      <td>0.000000</td>\n",
              "    </tr>\n",
              "    <tr>\n",
              "      <th>10</th>\n",
              "      <td>tumor</td>\n",
              "      <td>0.000000</td>\n",
              "    </tr>\n",
              "    <tr>\n",
              "      <th>9</th>\n",
              "      <td>sick</td>\n",
              "      <td>0.000000</td>\n",
              "    </tr>\n",
              "    <tr>\n",
              "      <th>8</th>\n",
              "      <td>pregnant</td>\n",
              "      <td>0.000000</td>\n",
              "    </tr>\n",
              "    <tr>\n",
              "      <th>7</th>\n",
              "      <td>query_hyperthyroid</td>\n",
              "      <td>0.000000</td>\n",
              "    </tr>\n",
              "    <tr>\n",
              "      <th>3</th>\n",
              "      <td>query_on_thyroxine</td>\n",
              "      <td>0.000000</td>\n",
              "    </tr>\n",
              "    <tr>\n",
              "      <th>24</th>\n",
              "      <td>TBG</td>\n",
              "      <td>0.000000</td>\n",
              "    </tr>\n",
              "  </tbody>\n",
              "</table>\n",
              "</div>"
            ],
            "text/plain": [
              "                     Features  Importance\n",
              "22                        FTI    0.756604\n",
              "14                        TSH    0.208218\n",
              "6           query_hypothyroid    0.011692\n",
              "16                         T3    0.006791\n",
              "0                         age    0.004335\n",
              "5             thyroid_surgery    0.003638\n",
              "20                        T4U    0.002983\n",
              "4   on_antithyroid_medication    0.002781\n",
              "2                on_thyroxine    0.001787\n",
              "18                        TT4    0.001172\n",
              "15                T3_measured    0.000000\n",
              "23               TBG_measured    0.000000\n",
              "21               FTI_measured    0.000000\n",
              "19               T4U_measured    0.000000\n",
              "17               TT4_measured    0.000000\n",
              "12                     goitre    0.000000\n",
              "13               TSH_measured    0.000000\n",
              "1                         sex    0.000000\n",
              "11                    lithium    0.000000\n",
              "10                      tumor    0.000000\n",
              "9                        sick    0.000000\n",
              "8                    pregnant    0.000000\n",
              "7          query_hyperthyroid    0.000000\n",
              "3          query_on_thyroxine    0.000000\n",
              "24                        TBG    0.000000"
            ]
          },
          "metadata": {},
          "execution_count": 112
        }
      ]
    },
    {
      "cell_type": "markdown",
      "metadata": {
        "id": "2hNgcypY3lEm"
      },
      "source": [
        "**Conclusions**"
      ]
    },
    {
      "cell_type": "markdown",
      "metadata": {
        "id": "X-3nvlxN3v1M"
      },
      "source": [
        "The 2 trusted models are: Random forest and Adaptive Boosting.\n",
        "\n",
        " - Gradient and Adaptive boosting have the same F1 scores. As much as gradient Boosting method theoretically performs better than AdaBoost, it is more prone to overfitting problems and runtime is longer. For this reason, The Adaptive model is preferred. \n",
        "\n",
        " The adaptive model also leverages missed-classified cases from the previous model and creates a new weighted data sample in which miss-classified cases have more weightage. When it comes to the feature importance, AdaBoost  performs well by iterating on best features. In this case,  FTI and TSH are the most important features\n",
        "\n",
        " - Random forest on the other hand is able to reduce variation and fine-tune the prediction to a desired result."
      ]
    },
    {
      "cell_type": "markdown",
      "metadata": {
        "id": "82Kmj6hr3uSA"
      },
      "source": [
        "From all the models, the features that are most impactful in influencing the predictions are: FTI and TSH"
      ]
    },
    {
      "cell_type": "markdown",
      "metadata": {
        "id": "gRqCr3hkaU2Q"
      },
      "source": [
        "Part 2: **Support Vector Machine**\n",
        "\n",
        "This modelling technique takes a representation of examples as points in space mapped so that the points of different categories are separated by a gap as wide as possible.\n",
        "\n",
        "Different Kernel functions to be implemented are: Polynomial, linear and rbf.\n",
        "\n"
      ]
    },
    {
      "cell_type": "markdown",
      "metadata": {
        "id": "v4euAOoYHPIC"
      },
      "source": [
        " - 2 Features Selection"
      ]
    },
    {
      "cell_type": "markdown",
      "metadata": {
        "id": "NXY0mW4egU7_"
      },
      "source": [
        "From the decision trees models, the most important features are FTI and TSH"
      ]
    },
    {
      "cell_type": "code",
      "metadata": {
        "colab": {
          "base_uri": "https://localhost:8080/",
          "height": 369
        },
        "id": "88R7TA5iaWTM",
        "outputId": "54e528de-50d6-4765-f9cf-0194aa5303e7"
      },
      "source": [
        "#Plotting the most important features:\n",
        "sns.lmplot('TSH', 'FTI', data=Model, hue='status',\n",
        "           palette='Set1', fit_reg=False, scatter_kws={\"s\": 70});"
      ],
      "execution_count": null,
      "outputs": [
        {
          "output_type": "display_data",
          "data": {
            "image/png": "[encoded data removed]",
            "text/plain": [
              "<Figure size 455.75x360 with 1 Axes>"
            ]
          },
          "metadata": {
            "needs_background": "light"
          }
        }
      ]
    },
    {
      "cell_type": "markdown",
      "metadata": {
        "id": "uGznvIelC4GJ"
      },
      "source": [
        "From the plot above, SVM can be performed on the 2 features "
      ]
    },
    {
      "cell_type": "code",
      "metadata": {
        "colab": {
          "base_uri": "https://localhost:8080/",
          "height": 174
        },
        "id": "6ceMZ2KlljX0",
        "outputId": "0eecd92f-7f5e-4086-c604-943dae4e5aaf"
      },
      "source": [
        "#Creating a dataframe with the 2 features:\n",
        "Part_2 = Model[['TSH', 'FTI', 'status']]\n",
        "Part_2.head(4)"
      ],
      "execution_count": null,
      "outputs": [
        {
          "output_type": "execute_result",
          "data": {
            "text/html": [
              "<div>\n",
              "<style scoped>\n",
              "    .dataframe tbody tr th:only-of-type {\n",
              "        vertical-align: middle;\n",
              "    }\n",
              "\n",
              "    .dataframe tbody tr th {\n",
              "        vertical-align: top;\n",
              "    }\n",
              "\n",
              "    .dataframe thead th {\n",
              "        text-align: right;\n",
              "    }\n",
              "</style>\n",
              "<table border=\"1\" class=\"dataframe\">\n",
              "  <thead>\n",
              "    <tr style=\"text-align: right;\">\n",
              "      <th></th>\n",
              "      <th>TSH</th>\n",
              "      <th>FTI</th>\n",
              "      <th>status</th>\n",
              "    </tr>\n",
              "  </thead>\n",
              "  <tbody>\n",
              "    <tr>\n",
              "      <th>0</th>\n",
              "      <td>1.077695</td>\n",
              "      <td>-2.501555</td>\n",
              "      <td>hypothyroid</td>\n",
              "    </tr>\n",
              "    <tr>\n",
              "      <th>1</th>\n",
              "      <td>6.206826</td>\n",
              "      <td>-2.329895</td>\n",
              "      <td>hypothyroid</td>\n",
              "    </tr>\n",
              "    <tr>\n",
              "      <th>2</th>\n",
              "      <td>-0.260339</td>\n",
              "      <td>-2.746784</td>\n",
              "      <td>hypothyroid</td>\n",
              "    </tr>\n",
              "    <tr>\n",
              "      <th>3</th>\n",
              "      <td>18.918151</td>\n",
              "      <td>-2.599647</td>\n",
              "      <td>hypothyroid</td>\n",
              "    </tr>\n",
              "  </tbody>\n",
              "</table>\n",
              "</div>"
            ],
            "text/plain": [
              "         TSH       FTI       status\n",
              "0   1.077695 -2.501555  hypothyroid\n",
              "1   6.206826 -2.329895  hypothyroid\n",
              "2  -0.260339 -2.746784  hypothyroid\n",
              "3  18.918151 -2.599647  hypothyroid"
            ]
          },
          "metadata": {},
          "execution_count": 129
        }
      ]
    },
    {
      "cell_type": "markdown",
      "metadata": {
        "id": "9ldS5ISNpzlO"
      },
      "source": [
        " - **Polynomial Function**"
      ]
    },
    {
      "cell_type": "code",
      "metadata": {
        "colab": {
          "base_uri": "https://localhost:8080/"
        },
        "id": "t-5S3wz4O-_Y",
        "outputId": "b8ad7ae0-857e-464d-f56a-37ae7e75fe79"
      },
      "source": [
        "#Creating the Dependent and Independent Variables:\n",
        "X = Model[['TSH', 'FTI']]\n",
        "y = np.where(Model.status == 'hypothyroid', 1, 0)\n",
        "\n",
        "#Dividing the Data into Train and Test:\n",
        "X_train, X_test, y_train, y_test = train_test_split(X, y, test_size=0.2, random_state= 0)\n",
        "\n",
        "#Printing the Shapes of the split data:\n",
        "print(f'X_train : {X_train.shape}')\n",
        "print(f'y_train : {y_train.shape}')\n",
        "print(f'X_test : {X_test.shape}')\n",
        "print(f'y_test : {y_test.shape}')"
      ],
      "execution_count": null,
      "outputs": [
        {
          "output_type": "stream",
          "name": "stdout",
          "text": [
            "X_train : (2410, 2)\n",
            "y_train : (2410,)\n",
            "X_test : (603, 2)\n",
            "y_test : (603,)\n"
          ]
        }
      ]
    },
    {
      "cell_type": "code",
      "metadata": {
        "id": "YTDJb77aPJ3x"
      },
      "source": [
        "#Initiating the Polynomial Kernel:\n",
        "Poly = SVC(kernel = 'poly')\n",
        "\n",
        "#Fitting the model:\n",
        "Poly.fit(X_train, y_train )\n",
        " \n",
        "#Applying the trained model to make a prediction:\n",
        "y_pred = Poly.predict(X_test)"
      ],
      "execution_count": null,
      "outputs": []
    },
    {
      "cell_type": "markdown",
      "metadata": {
        "id": "7W507XwKnHji"
      },
      "source": [
        "Model Evaluation"
      ]
    },
    {
      "cell_type": "code",
      "metadata": {
        "colab": {
          "base_uri": "https://localhost:8080/"
        },
        "id": "Ta8gJ0y2PN6H",
        "outputId": "c24a39ee-6b82-47b5-e472-481c79f45839"
      },
      "source": [
        "#Checking the accuracy of the test and train models:\n",
        "print(f'Train Accuracy: {Poly.score(X_train, y_train):.2f}')\n",
        "print(f'Test Accuracy: {Poly.score(X_test, y_test):.2f}')"
      ],
      "execution_count": null,
      "outputs": [
        {
          "output_type": "stream",
          "name": "stdout",
          "text": [
            "Train Accuracy: 0.98\n",
            "Test Accuracy: 0.98\n"
          ]
        }
      ]
    },
    {
      "cell_type": "markdown",
      "metadata": {
        "id": "7OC0mWPonRZm"
      },
      "source": [
        "The Training and Test set accuracy are very much comparable hence no case of overfitting."
      ]
    },
    {
      "cell_type": "code",
      "metadata": {
        "colab": {
          "base_uri": "https://localhost:8080/"
        },
        "id": "SKUVk2aCXh5v",
        "outputId": "9caa6926-427a-4f0e-8d1e-4190c4fd6334"
      },
      "source": [
        "#Checking the precision and f1_score:\n",
        "print(classification_report(y_test, y_pred))"
      ],
      "execution_count": null,
      "outputs": [
        {
          "output_type": "stream",
          "name": "stdout",
          "text": [
            "              precision    recall  f1-score   support\n",
            "\n",
            " hypothyroid       0.85      0.68      0.76        25\n",
            "    negative       0.99      0.99      0.99       578\n",
            "\n",
            "    accuracy                           0.98       603\n",
            "   macro avg       0.92      0.84      0.87       603\n",
            "weighted avg       0.98      0.98      0.98       603\n",
            "\n"
          ]
        }
      ]
    },
    {
      "cell_type": "code",
      "metadata": {
        "colab": {
          "base_uri": "https://localhost:8080/"
        },
        "id": "qMGfEGWnXmGN",
        "outputId": "28493353-ce2a-4e8f-c595-5c29986c228e"
      },
      "source": [
        "#Using the confusion matrix:\n",
        "confusion_matrix(y_test, y_pred)"
      ],
      "execution_count": null,
      "outputs": [
        {
          "output_type": "execute_result",
          "data": {
            "text/plain": [
              "array([[ 17,   8],\n",
              "       [  3, 575]])"
            ]
          },
          "metadata": {},
          "execution_count": 197
        }
      ]
    },
    {
      "cell_type": "markdown",
      "metadata": {
        "id": "EtX-eXV8vCNA"
      },
      "source": [
        "17 hypothyroid and 575 negative cases are the number of correct predictions. 8 and 3 are the cases of incorrect predictions on the respective classes"
      ]
    },
    {
      "cell_type": "markdown",
      "metadata": {
        "id": "UqIbZJ0ur3rh"
      },
      "source": [
        "Hyperparameter Optimization"
      ]
    },
    {
      "cell_type": "code",
      "metadata": {
        "colab": {
          "base_uri": "https://localhost:8080/"
        },
        "id": "qdX8XjCjXm2Z",
        "outputId": "87dae704-60b2-4a32-ae1e-c4c5869a96ce"
      },
      "source": [
        "#To view the parameters available for tuning in Suport Vector Machine:\n",
        "SVC().get_params()"
      ],
      "execution_count": null,
      "outputs": [
        {
          "output_type": "execute_result",
          "data": {
            "text/plain": [
              "{'C': 1.0,\n",
              " 'break_ties': False,\n",
              " 'cache_size': 200,\n",
              " 'class_weight': None,\n",
              " 'coef0': 0.0,\n",
              " 'decision_function_shape': 'ovr',\n",
              " 'degree': 3,\n",
              " 'gamma': 'scale',\n",
              " 'kernel': 'rbf',\n",
              " 'max_iter': -1,\n",
              " 'probability': False,\n",
              " 'random_state': None,\n",
              " 'shrinking': True,\n",
              " 'tol': 0.001,\n",
              " 'verbose': False}"
            ]
          },
          "metadata": {},
          "execution_count": 142
        }
      ]
    },
    {
      "cell_type": "code",
      "metadata": {
        "colab": {
          "base_uri": "https://localhost:8080/"
        },
        "id": "yy-c_lGCXrex",
        "outputId": "8286352d-8305-4d5b-cc4c-985d1be9b882"
      },
      "source": [
        "#Creating the parmeter grid:\n",
        "param_grid = {'C': [1, 10, 100, 1000],\n",
        "              'gamma': [0.1, 0.01, 0.001],\n",
        "              'kernel': ['poly']}\n",
        "\n",
        "print(param_grid)"
      ],
      "execution_count": null,
      "outputs": [
        {
          "output_type": "stream",
          "name": "stdout",
          "text": [
            "{'C': [1, 10, 100, 1000], 'gamma': [0.1, 0.01, 0.001], 'kernel': ['poly']}\n"
          ]
        }
      ]
    },
    {
      "cell_type": "code",
      "metadata": {
        "colab": {
          "base_uri": "https://localhost:8080/"
        },
        "id": "99BoQmb8Xxex",
        "outputId": "8af3b8b9-8bec-413e-df8e-280d6921fd12"
      },
      "source": [
        "#Using the Support Vector Classifier along with grid search:\n",
        "Svc = SVC()\n",
        "\n",
        "#Creating grid search using 5-fold cross validation:\n",
        "clf = GridSearchCV(Svc, param_grid = param_grid, cv= 5, n_jobs = 4, verbose = 2,scoring = 'accuracy')\n",
        "\n",
        "#Fitting the grid search:\n",
        "best_clf = clf.fit(X_train, y_train)\n",
        "\n",
        "#Predicting values based on the new parameters:\n",
        "y_pred = best_clf.predict(X_test)"
      ],
      "execution_count": null,
      "outputs": [
        {
          "output_type": "stream",
          "name": "stdout",
          "text": [
            "Fitting 5 folds for each of 12 candidates, totalling 60 fits\n"
          ]
        }
      ]
    },
    {
      "cell_type": "code",
      "metadata": {
        "colab": {
          "base_uri": "https://localhost:8080/"
        },
        "id": "i43zx4_tX5ul",
        "outputId": "fbf90287-61dd-4b0b-c11c-d1a9645b4920"
      },
      "source": [
        "#To view the best parameters:\n",
        "best_clf.best_params_"
      ],
      "execution_count": null,
      "outputs": [
        {
          "output_type": "execute_result",
          "data": {
            "text/plain": [
              "{'C': 100, 'gamma': 0.1, 'kernel': 'poly'}"
            ]
          },
          "metadata": {},
          "execution_count": 200
        }
      ]
    },
    {
      "cell_type": "markdown",
      "metadata": {
        "id": "twbGKoBssdiP"
      },
      "source": [
        "Fitting the Final Model"
      ]
    },
    {
      "cell_type": "code",
      "metadata": {
        "id": "8K68R9QqYB9I"
      },
      "source": [
        "#Using the best parameters from hyperparameter tuning:\n",
        "Final_Poly = SVC(C = 100, gamma = 0.1, kernel = 'poly')\n",
        "\n",
        "#Fitting the model:\n",
        "Final_Poly.fit(X_train,y_train )\n",
        "\n",
        "#Predicting values:\n",
        "y_predFinal = Final_Poly.predict(X_test)"
      ],
      "execution_count": null,
      "outputs": []
    },
    {
      "cell_type": "code",
      "metadata": {
        "colab": {
          "base_uri": "https://localhost:8080/"
        },
        "id": "ERWzmQjCkbi2",
        "outputId": "f44b590b-824b-4718-874e-40a38a995293"
      },
      "source": [
        "#Checking the accuracy, precision and f1_score of the final model:\n",
        "print(classification_report(y_test, y_predFinal))"
      ],
      "execution_count": null,
      "outputs": [
        {
          "output_type": "stream",
          "name": "stdout",
          "text": [
            "              precision    recall  f1-score   support\n",
            "\n",
            " hypothyroid       0.85      0.68      0.76        25\n",
            "    negative       0.99      0.99      0.99       578\n",
            "\n",
            "    accuracy                           0.98       603\n",
            "   macro avg       0.92      0.84      0.87       603\n",
            "weighted avg       0.98      0.98      0.98       603\n",
            "\n"
          ]
        }
      ]
    },
    {
      "cell_type": "code",
      "metadata": {
        "colab": {
          "base_uri": "https://localhost:8080/"
        },
        "id": "qtdiNQDM9soa",
        "outputId": "81c1ccdc-0e57-4020-bd25-6635f3320674"
      },
      "source": [
        "#Using the confusion matrix:\n",
        "confusion_matrix(y_test, y_pred)"
      ],
      "execution_count": null,
      "outputs": [
        {
          "output_type": "execute_result",
          "data": {
            "text/plain": [
              "array([[ 17,   8],\n",
              "       [  3, 575]])"
            ]
          },
          "metadata": {},
          "execution_count": 203
        }
      ]
    },
    {
      "cell_type": "code",
      "metadata": {
        "colab": {
          "base_uri": "https://localhost:8080/"
        },
        "id": "SAbfwdyVrmLT",
        "outputId": "427b200c-8bfe-4ebd-bf1c-52c48519e41a"
      },
      "source": [
        "#Checking the F1 score:\n",
        "f1_score(y_test, y_pred)"
      ],
      "execution_count": null,
      "outputs": [
        {
          "output_type": "execute_result",
          "data": {
            "text/plain": [
              "0.8749999999999999"
            ]
          },
          "metadata": {},
          "execution_count": 57
        }
      ]
    },
    {
      "cell_type": "markdown",
      "metadata": {
        "id": "hF2Y_T4lwdf6"
      },
      "source": [
        "No major improvements are observed from the scores after optimization"
      ]
    },
    {
      "cell_type": "markdown",
      "metadata": {
        "id": "oIZbN1bls35D"
      },
      "source": [
        "Visualizing the Model"
      ]
    },
    {
      "cell_type": "code",
      "metadata": {
        "colab": {
          "base_uri": "https://localhost:8080/",
          "height": 278
        },
        "id": "eQx1WUTGwzqy",
        "outputId": "bfc28078-1837-42d8-b6a6-2e6ff635da6c"
      },
      "source": [
        "#Visualizing the model with the optimized parameters:\n",
        "xx, yy = np.meshgrid(np.linspace(-3, 3, 500), np.linspace(-3, 3, 500))\n",
        "np.random.seed(0)\n",
        "X = Part_2[['TSH', 'FTI']]\n",
        "y = Part_2['status']\n",
        "\n",
        "# fitting the model\n",
        "clf = SVC(C = 100, gamma = 0.1, kernel = 'poly')\n",
        "clf.fit(X, y)\n",
        "\n",
        "# plot the decision function for each datapoint on the grid\n",
        "Z = clf.decision_function(np.c_[xx.ravel(), yy.ravel()])\n",
        "Z = Z.reshape(xx.shape)\n",
        "\n",
        "contours = plt.contour(xx, yy, Z, levels=[0], linewidths=2, linestyles=\"solid\")\n",
        "plt.scatter(X['TSH'], X['FTI'],c =y, s=30, cmap=plt.cm.Paired, edgecolors=\"k\")\n",
        "plt.xlabel('TSH')\n",
        "plt.ylabel('FTI')\n",
        "plt.xticks(())\n",
        "plt.yticks(())\n",
        "plt.axis([0, 3, -3, 3])\n",
        "plt.title('Polynomial Model')\n",
        "plt.show()"
      ],
      "execution_count": null,
      "outputs": [
        {
          "output_type": "display_data",
          "data": {
            "image/png": "[encoded data removed]",
            "text/plain": [
              "<Figure size 432x288 with 1 Axes>"
            ]
          },
          "metadata": {}
        }
      ]
    },
    {
      "cell_type": "markdown",
      "metadata": {
        "id": "DLh2IdMFYOai"
      },
      "source": [
        "From the plot above, most of the features have not been correctly classified and the plane cuts in between some data points. This makes the kernel not the best selection"
      ]
    },
    {
      "cell_type": "markdown",
      "metadata": {
        "id": "ZCJaSD8D-nil"
      },
      "source": [
        " - **Linear Function**"
      ]
    },
    {
      "cell_type": "code",
      "metadata": {
        "colab": {
          "base_uri": "https://localhost:8080/"
        },
        "id": "3vr0DsXbknXH",
        "outputId": "a4c9c524-ada3-4dc7-f3dc-7b8e1244813e"
      },
      "source": [
        "#Creating the Dependent and Independent Variables:\n",
        "X = Model[['TSH', 'FTI']]\n",
        "y = np.where(Model.status == 'hypothyroid', 1, 0)\n",
        "\n",
        "#Dividing the Data into Train and Test:\n",
        "X_train, X_test, y_train, y_test = train_test_split(X, y, test_size=0.2, random_state= 0)\n",
        "\n",
        "#Printing the Shapes of the split data:\n",
        "print(f'X_train : {X_train.shape}')\n",
        "print(f'y_train : {y_train.shape}')\n",
        "print(f'X_test : {X_test.shape}')\n",
        "print(f'y_test : {y_test.shape}')"
      ],
      "execution_count": null,
      "outputs": [
        {
          "output_type": "stream",
          "name": "stdout",
          "text": [
            "X_train : (2410, 2)\n",
            "y_train : (2410,)\n",
            "X_test : (603, 2)\n",
            "y_test : (603,)\n"
          ]
        }
      ]
    },
    {
      "cell_type": "code",
      "metadata": {
        "id": "GNOoulIwkrWX"
      },
      "source": [
        "#Initiating Support Vector Classifier:\n",
        "linear = SVC(kernel = 'linear')\n",
        "\n",
        "#Fitting the model:\n",
        "linear.fit(X_train, y_train )\n",
        "\n",
        "#Applying the trained model to make a prediction:\n",
        "y_pred = linear.predict(X_test)"
      ],
      "execution_count": null,
      "outputs": []
    },
    {
      "cell_type": "markdown",
      "metadata": {
        "id": "xEnIyZWF-5sg"
      },
      "source": [
        "Model Evaluation"
      ]
    },
    {
      "cell_type": "code",
      "metadata": {
        "colab": {
          "base_uri": "https://localhost:8080/"
        },
        "id": "j00KuYAOyyPj",
        "outputId": "8d65e0d9-e5b6-49bd-fa1b-43a9372b3187"
      },
      "source": [
        "#Checking the accuracy, precision and f1_score of the final model:\n",
        "print(classification_report(y_test, y_pred))"
      ],
      "execution_count": null,
      "outputs": [
        {
          "output_type": "stream",
          "name": "stdout",
          "text": [
            "              precision    recall  f1-score   support\n",
            "\n",
            " hypothyroid       0.74      0.80      0.77        25\n",
            "    negative       0.99      0.99      0.99       578\n",
            "\n",
            "    accuracy                           0.98       603\n",
            "   macro avg       0.87      0.89      0.88       603\n",
            "weighted avg       0.98      0.98      0.98       603\n",
            "\n"
          ]
        }
      ]
    },
    {
      "cell_type": "code",
      "metadata": {
        "colab": {
          "base_uri": "https://localhost:8080/"
        },
        "id": "xtjdV_J6kxRA",
        "outputId": "65a0f8b2-c15f-4948-a950-20e12fe06cb7"
      },
      "source": [
        "#Using confusion matrix:\n",
        "confusion_matrix(y_test, y_pred)"
      ],
      "execution_count": null,
      "outputs": [
        {
          "output_type": "execute_result",
          "data": {
            "text/plain": [
              "array([[ 20,   5],\n",
              "       [  7, 571]])"
            ]
          },
          "metadata": {},
          "execution_count": 207
        }
      ]
    },
    {
      "cell_type": "markdown",
      "metadata": {
        "id": "V646lnavzSBc"
      },
      "source": [
        "20 hypothyroid and 571 negative cases are the number of correct predictions. 5 and 7 are the cases of incorrect predictions on the respective classes.\n",
        "\n",
        "Comparing this matrix to the Polynomial, the number of correct hypothyroid cases increased from 17 to 20 while the negatives decreased from 575 to 571"
      ]
    },
    {
      "cell_type": "markdown",
      "metadata": {
        "id": "FeR1Z4TG_Aoi"
      },
      "source": [
        "Hyperparameter Tuning"
      ]
    },
    {
      "cell_type": "code",
      "metadata": {
        "colab": {
          "base_uri": "https://localhost:8080/"
        },
        "id": "_uZ1Qbd-k0t2",
        "outputId": "9bb1b4e0-2510-4c63-a8b3-fa6960e90f90"
      },
      "source": [
        "#Creating the parameter grid:\n",
        "param_grid = {'C': [1, 10, 100, 1000],\n",
        "              'kernel': ['linear']}\n",
        "\n",
        "print(param_grid)"
      ],
      "execution_count": null,
      "outputs": [
        {
          "output_type": "stream",
          "name": "stdout",
          "text": [
            "{'C': [1, 10, 100, 1000], 'kernel': ['linear']}\n"
          ]
        }
      ]
    },
    {
      "cell_type": "code",
      "metadata": {
        "colab": {
          "base_uri": "https://localhost:8080/"
        },
        "id": "ZBDI9RXOk3xT",
        "outputId": "fcf3a3bd-0c2a-4d5b-9716-f942d3525fe6"
      },
      "source": [
        "#Using the classifier along with grid search:\n",
        "Svc = SVC()\n",
        "\n",
        "#Creating grid search using 5-fold cross validation:\n",
        "clf = GridSearchCV(Svc, param_grid = param_grid, cv= 5, n_jobs = 4, verbose = 2)\n",
        "\n",
        "#Fitting the grid search:\n",
        "best_clf = clf.fit(X_train, y_train)\n",
        "\n",
        "#Predicting values based on the new parameters:\n",
        "y_pred = best_clf.predict(X_test)"
      ],
      "execution_count": null,
      "outputs": [
        {
          "output_type": "stream",
          "name": "stdout",
          "text": [
            "Fitting 5 folds for each of 4 candidates, totalling 20 fits\n"
          ]
        }
      ]
    },
    {
      "cell_type": "code",
      "metadata": {
        "colab": {
          "base_uri": "https://localhost:8080/"
        },
        "id": "qBCJ9rdqk6Ic",
        "outputId": "5fcfef10-b8dc-4915-ca26-eac4e8b719a0"
      },
      "source": [
        "#To view the best parameters:\n",
        "best_clf.best_params_"
      ],
      "execution_count": null,
      "outputs": [
        {
          "output_type": "execute_result",
          "data": {
            "text/plain": [
              "{'C': 10, 'kernel': 'linear'}"
            ]
          },
          "metadata": {},
          "execution_count": 210
        }
      ]
    },
    {
      "cell_type": "markdown",
      "metadata": {
        "id": "HGo8aZcg5e_x"
      },
      "source": [
        "Fitting the Final Model"
      ]
    },
    {
      "cell_type": "code",
      "metadata": {
        "id": "pZ3kZTsfk-V4"
      },
      "source": [
        "#Using the best parameters from hyperparameter tuning:\n",
        "Final_linear = SVC(C = 10, kernel = 'linear')\n",
        "\n",
        "#Fitting the model:\n",
        "Final_linear.fit(X_train,y_train )\n",
        "\n",
        "#Predicting values:\n",
        "y_predFinal = Final_linear.predict(X_test)"
      ],
      "execution_count": null,
      "outputs": []
    },
    {
      "cell_type": "code",
      "metadata": {
        "colab": {
          "base_uri": "https://localhost:8080/"
        },
        "id": "X2ax0B765QXC",
        "outputId": "7b80f660-a4d0-43fa-9b0c-7972a5ec5059"
      },
      "source": [
        "#Checking the accuracy, precision and f1_score of the final model:\n",
        "print(classification_report(y_test, y_predFinal))"
      ],
      "execution_count": null,
      "outputs": [
        {
          "output_type": "stream",
          "name": "stdout",
          "text": [
            "              precision    recall  f1-score   support\n",
            "\n",
            " hypothyroid       0.74      0.80      0.77        25\n",
            "    negative       0.99      0.99      0.99       578\n",
            "\n",
            "    accuracy                           0.98       603\n",
            "   macro avg       0.87      0.89      0.88       603\n",
            "weighted avg       0.98      0.98      0.98       603\n",
            "\n"
          ]
        }
      ]
    },
    {
      "cell_type": "code",
      "metadata": {
        "colab": {
          "base_uri": "https://localhost:8080/"
        },
        "id": "31Ze9-oT-Ka_",
        "outputId": "522cfe6c-3a01-4c6d-a726-1052df398b31"
      },
      "source": [
        "#Using confusion matrix:\n",
        "confusion_matrix(y_test, y_predFinal)"
      ],
      "execution_count": null,
      "outputs": [
        {
          "output_type": "execute_result",
          "data": {
            "text/plain": [
              "array([[ 20,   5],\n",
              "       [  7, 571]])"
            ]
          },
          "metadata": {},
          "execution_count": 213
        }
      ]
    },
    {
      "cell_type": "code",
      "metadata": {
        "colab": {
          "base_uri": "https://localhost:8080/"
        },
        "id": "GGx1l6DzrpKQ",
        "outputId": "b13ec913-7c47-45f4-8bc9-430bfc7eb8ad"
      },
      "source": [
        "#Viewing the f1 score:\n",
        "f1_score(y_test, y_pred)"
      ],
      "execution_count": null,
      "outputs": [
        {
          "output_type": "execute_result",
          "data": {
            "text/plain": [
              "0.8749999999999999"
            ]
          },
          "metadata": {},
          "execution_count": 59
        }
      ]
    },
    {
      "cell_type": "markdown",
      "metadata": {
        "id": "hsk5SB_-5kHu"
      },
      "source": [
        "Visualizing the Model"
      ]
    },
    {
      "cell_type": "code",
      "metadata": {
        "colab": {
          "base_uri": "https://localhost:8080/",
          "height": 278
        },
        "id": "8tcIOGGd5qw0",
        "outputId": "1ae7ee8b-2b3b-4974-c7cd-b7dcdfaa2c93"
      },
      "source": [
        "#Visualizing the model with the optimized parameters:\n",
        "xx, yy = np.meshgrid(np.linspace(-3, 3, 500), np.linspace(-3, 3, 500))\n",
        "np.random.seed(0)\n",
        "X = Part_2[['TSH', 'FTI']]\n",
        "y = Part_2['status']\n",
        "\n",
        "# fitting the model\n",
        "clf = SVC(C = 10, kernel = 'linear')\n",
        "clf.fit(X, y)\n",
        "\n",
        "# plot the decision function for each datapoint on the grid\n",
        "Z = clf.decision_function(np.c_[xx.ravel(), yy.ravel()])\n",
        "Z = Z.reshape(xx.shape)\n",
        "\n",
        "contours = plt.contour(xx, yy, Z, levels=[0], linewidths=2, linestyles=\"solid\")\n",
        "plt.scatter(X['TSH'], X['FTI'],c =y, s=30, cmap=plt.cm.Paired, edgecolors=\"k\")\n",
        "plt.xlabel('TSH')\n",
        "plt.ylabel('FTI')\n",
        "plt.xticks(())\n",
        "plt.yticks(())\n",
        "plt.axis([0, 3, -3, 3])\n",
        "plt.title('Linear Model')\n",
        "plt.show()"
      ],
      "execution_count": null,
      "outputs": [
        {
          "output_type": "display_data",
          "data": {
            "image/png": "[encoded data removed]",
            "text/plain": [
              "<Figure size 432x288 with 1 Axes>"
            ]
          },
          "metadata": {}
        }
      ]
    },
    {
      "cell_type": "markdown",
      "metadata": {
        "id": "Tl7h_rF0ZO1X"
      },
      "source": [
        "From the Linear plot, seeing how the samples from different classes position in relation to each other, they cannot be easily separated using a single Line."
      ]
    },
    {
      "cell_type": "markdown",
      "metadata": {
        "id": "v37GyA3i6C12"
      },
      "source": [
        " - **Rbf Function**"
      ]
    },
    {
      "cell_type": "code",
      "metadata": {
        "colab": {
          "base_uri": "https://localhost:8080/"
        },
        "id": "paEy8I5slcFm",
        "outputId": "f0317cc8-fb06-415c-90e7-7742ec221647"
      },
      "source": [
        "#Creating the Dependent and Independent Variables:\n",
        "X = Model[['TSH', 'FTI']]\n",
        "y = np.where(Model.status == 'hypothyroid', 1, 0)\n",
        "\n",
        "#Dividing the Data into Train and Test:\n",
        "X_train, X_test, y_train, y_test = train_test_split(X, y, test_size=0.2, random_state= 0)\n",
        "\n",
        "#Printing the Shapes of the split data:\n",
        "print(f'X_train : {X_train.shape}')\n",
        "print(f'y_train : {y_train.shape}')\n",
        "print(f'X_test : {X_test.shape}')\n",
        "print(f'y_test : {y_test.shape}')"
      ],
      "execution_count": null,
      "outputs": [
        {
          "output_type": "stream",
          "name": "stdout",
          "text": [
            "X_train : (2410, 2)\n",
            "y_train : (2410,)\n",
            "X_test : (603, 2)\n",
            "y_test : (603,)\n"
          ]
        }
      ]
    },
    {
      "cell_type": "code",
      "metadata": {
        "id": "OpO-Pk6-lfEA"
      },
      "source": [
        "#Initiating SVC:\n",
        "rbf = SVC(kernel = 'rbf')\n",
        "\n",
        "#Fitting the model:\n",
        "rbf.fit(X_train, y_train )\n",
        "\n",
        "#Applying the trained model to make a prediction:\n",
        "y_pred = rbf.predict(X_test)"
      ],
      "execution_count": null,
      "outputs": []
    },
    {
      "cell_type": "markdown",
      "metadata": {
        "id": "4_eEkdQj6ppk"
      },
      "source": [
        "Model Evaluation"
      ]
    },
    {
      "cell_type": "code",
      "metadata": {
        "colab": {
          "base_uri": "https://localhost:8080/"
        },
        "id": "jxjfJyiH6-Uw",
        "outputId": "4c4c9250-cfea-4329-a9e1-420365a8f150"
      },
      "source": [
        "#Checking the accuracy, precision and f1_score of the final model:\n",
        "print(classification_report(y_test, y_pred))"
      ],
      "execution_count": null,
      "outputs": [
        {
          "output_type": "stream",
          "name": "stdout",
          "text": [
            "              precision    recall  f1-score   support\n",
            "\n",
            " hypothyroid       0.87      0.80      0.83        25\n",
            "    negative       0.99      0.99      0.99       578\n",
            "\n",
            "    accuracy                           0.99       603\n",
            "   macro avg       0.93      0.90      0.91       603\n",
            "weighted avg       0.99      0.99      0.99       603\n",
            "\n"
          ]
        }
      ]
    },
    {
      "cell_type": "code",
      "metadata": {
        "colab": {
          "base_uri": "https://localhost:8080/"
        },
        "id": "V0vEntwIlk8u",
        "outputId": "0c2c354c-82a0-4019-9c70-58fe986b4928"
      },
      "source": [
        "#Using confusion matrix:\n",
        "confusion_matrix(y_test, y_pred)"
      ],
      "execution_count": null,
      "outputs": [
        {
          "output_type": "execute_result",
          "data": {
            "text/plain": [
              "array([[ 20,   5],\n",
              "       [  3, 575]])"
            ]
          },
          "metadata": {},
          "execution_count": 217
        }
      ]
    },
    {
      "cell_type": "markdown",
      "metadata": {
        "id": "d8I7TmcL7VoA"
      },
      "source": [
        "20 hypothyroid and 575 negative cases are the number of correct predictions. 5 and 3 are the cases of incorrect predictions on the respective classes.\n",
        "\n",
        "Comparing to Polynomial and Linear, the accuracy increased to 99% and the number of correct negative predictions increased to 575\n",
        "\n",
        "In terms of the Macro average, the F1 score for Polynomial was 87%, Linear 88% and Rbf 91% recording the highest score.\n",
        "\n",
        "The higher the F1 score the better."
      ]
    },
    {
      "cell_type": "markdown",
      "metadata": {
        "id": "LwgYU_OI82ED"
      },
      "source": [
        "Hyperparameter Tuning"
      ]
    },
    {
      "cell_type": "code",
      "metadata": {
        "colab": {
          "base_uri": "https://localhost:8080/"
        },
        "id": "OcPN8c0Llnua",
        "outputId": "c7b2822a-0624-48f5-a306-228692ed69ea"
      },
      "source": [
        "#Creating the pameter grid:\n",
        "param_grid = {'C': [ 1, 10, 100, 1000],\n",
        "              'gamma': [0.1, 0.01, 0.001],\n",
        "              'kernel': ['rbf']}\n",
        "\n",
        "print(param_grid)"
      ],
      "execution_count": null,
      "outputs": [
        {
          "output_type": "stream",
          "name": "stdout",
          "text": [
            "{'C': [1, 10, 100, 1000], 'gamma': [0.1, 0.01, 0.001], 'kernel': ['rbf']}\n"
          ]
        }
      ]
    },
    {
      "cell_type": "code",
      "metadata": {
        "colab": {
          "base_uri": "https://localhost:8080/"
        },
        "id": "S1Z-zTsBlq4p",
        "outputId": "065dc42e-c4ec-4d98-db7b-ab0d419d626c"
      },
      "source": [
        "#Initiating SVC:\n",
        "Svc = SVC()\n",
        "\n",
        "#Creating grid search using 5-fold cross validation:\n",
        "clf = GridSearchCV(Svc, param_grid = param_grid, cv= 5, n_jobs = 4, verbose = 2)\n",
        "\n",
        "#Fitting the grid search:\n",
        "best_clf = clf.fit(X_train, y_train)\n",
        "\n",
        "#Predicting values based on the new parameters:\n",
        "y_pred = best_clf.predict(X_test)"
      ],
      "execution_count": null,
      "outputs": [
        {
          "output_type": "stream",
          "name": "stdout",
          "text": [
            "Fitting 5 folds for each of 12 candidates, totalling 60 fits\n"
          ]
        }
      ]
    },
    {
      "cell_type": "code",
      "metadata": {
        "colab": {
          "base_uri": "https://localhost:8080/"
        },
        "id": "6wkFl6E-lto6",
        "outputId": "044c8b3e-302f-4ff8-b4d5-cd41205179d2"
      },
      "source": [
        "#To view the best parameters:\n",
        "best_clf.best_params_"
      ],
      "execution_count": null,
      "outputs": [
        {
          "output_type": "execute_result",
          "data": {
            "text/plain": [
              "{'C': 100, 'gamma': 0.01, 'kernel': 'rbf'}"
            ]
          },
          "metadata": {},
          "execution_count": 235
        }
      ]
    },
    {
      "cell_type": "markdown",
      "metadata": {
        "id": "pQ1IeqTs9J6A"
      },
      "source": [
        "Fitting the Final Model"
      ]
    },
    {
      "cell_type": "code",
      "metadata": {
        "id": "vm-c1AZSlwUv"
      },
      "source": [
        "#Using the best parameters from hyperparameter tuning:\n",
        "Final_rbf = SVC(C = 100, gamma = 0.01, kernel = 'rbf')\n",
        "\n",
        "#Fitting the model:\n",
        "Final_rbf.fit(X_train,y_train )\n",
        "\n",
        "#Predicting values:\n",
        "y_predFinal = Final_rbf.predict(X_test)"
      ],
      "execution_count": null,
      "outputs": []
    },
    {
      "cell_type": "code",
      "metadata": {
        "colab": {
          "base_uri": "https://localhost:8080/"
        },
        "id": "lflL0lIl9S_o",
        "outputId": "1e3fe1cd-3cd8-402b-c9d3-c5bb5f193e78"
      },
      "source": [
        "#Checking the accuracy, precision and f1_score of the final model:\n",
        "print(classification_report(y_test, y_predFinal))"
      ],
      "execution_count": null,
      "outputs": [
        {
          "output_type": "stream",
          "name": "stdout",
          "text": [
            "              precision    recall  f1-score   support\n",
            "\n",
            " hypothyroid       0.86      0.72      0.78        25\n",
            "    negative       0.99      0.99      0.99       578\n",
            "\n",
            "    accuracy                           0.98       603\n",
            "   macro avg       0.92      0.86      0.89       603\n",
            "weighted avg       0.98      0.98      0.98       603\n",
            "\n"
          ]
        }
      ]
    },
    {
      "cell_type": "code",
      "metadata": {
        "colab": {
          "base_uri": "https://localhost:8080/"
        },
        "id": "mTHx2xx2oKRR",
        "outputId": "5e3c89cb-f4bc-459d-c120-32c8c445a43b"
      },
      "source": [
        "#Using confusion matrix:\n",
        "confusion_matrix(y_test, y_predFinal)"
      ],
      "execution_count": null,
      "outputs": [
        {
          "output_type": "execute_result",
          "data": {
            "text/plain": [
              "array([[ 18,   7],\n",
              "       [  3, 575]])"
            ]
          },
          "metadata": {},
          "execution_count": 238
        }
      ]
    },
    {
      "cell_type": "code",
      "metadata": {
        "colab": {
          "base_uri": "https://localhost:8080/"
        },
        "id": "JHUlPJ4krsdl",
        "outputId": "3e35cc33-414d-4ab3-b197-0f3084bc57aa"
      },
      "source": [
        "f1_score(y_test, y_pred)"
      ],
      "execution_count": null,
      "outputs": [
        {
          "output_type": "execute_result",
          "data": {
            "text/plain": [
              "0.8749999999999999"
            ]
          },
          "metadata": {},
          "execution_count": 62
        }
      ]
    },
    {
      "cell_type": "markdown",
      "metadata": {
        "id": "lIq-rqUcAXtC"
      },
      "source": [
        "Visualizing the Model"
      ]
    },
    {
      "cell_type": "code",
      "metadata": {
        "colab": {
          "base_uri": "https://localhost:8080/",
          "height": 278
        },
        "id": "njn_eQ3wAWux",
        "outputId": "b333379c-0ee6-43c1-a89c-18a93ad77e7d"
      },
      "source": [
        "#Visualizing the model with the optimized parameters:\n",
        "xx, yy = np.meshgrid(np.linspace(-3, 3, 500), np.linspace(-3, 3, 500))\n",
        "np.random.seed(0)\n",
        "X = Part_2[['TSH', 'FTI']]\n",
        "y = Part_2['status']\n",
        "\n",
        "# fitting the model\n",
        "clf = SVC(C = 100, gamma = 0.01, kernel = 'rbf')\n",
        "\n",
        "clf.fit(X, y)\n",
        "\n",
        "# plot the decision function for each datapoint on the grid\n",
        "Z = clf.decision_function(np.c_[xx.ravel(), yy.ravel()])\n",
        "Z = Z.reshape(xx.shape)\n",
        "\n",
        "contours = plt.contour(xx, yy, Z, levels=[0], linewidths=2, linestyles=\"solid\")\n",
        "plt.scatter(X['TSH'], X['FTI'],c =y, s=30, cmap=plt.cm.Paired, edgecolors=\"k\")\n",
        "plt.xlabel('TSH')\n",
        "plt.ylabel('FTI')\n",
        "plt.xticks(())\n",
        "plt.yticks(())\n",
        "plt.axis([0, 3, -3, 3])\n",
        "plt.title('rbf Model')\n",
        "plt.show()"
      ],
      "execution_count": null,
      "outputs": [
        {
          "output_type": "display_data",
          "data": {
            "image/png": "[encoded data removed]",
            "text/plain": [
              "<Figure size 432x288 with 1 Axes>"
            ]
          },
          "metadata": {}
        }
      ]
    },
    {
      "cell_type": "markdown",
      "metadata": {
        "id": "YAHjLriwB47B"
      },
      "source": [
        "From the plot, the rbf model tends to try separate the 2 classes in a flexible manner and given that the points are non-linear, its the best model"
      ]
    },
    {
      "cell_type": "markdown",
      "metadata": {
        "id": "Fh1eGxTVDBEW"
      },
      "source": [
        "Testing the Best Kernel"
      ]
    },
    {
      "cell_type": "code",
      "metadata": {
        "colab": {
          "base_uri": "https://localhost:8080/"
        },
        "id": "OsGPFPRZm0oA",
        "outputId": "39508241-1051-48b9-a76f-2bd9fe22f27d"
      },
      "source": [
        "#Alternatively, using the same parameters to compare the 3 kernels:\n",
        "param_grid = {'C': [ 1, 10, 100, 1000],\n",
        "              'gamma': [0.1, 0.01, 0.001],\n",
        "              'kernel': ['rbf', 'poly', 'linear']}\n",
        "\n",
        "Svc = SVC()\n",
        "#Creating grid search using 5-fold cross validation:\n",
        "clf = GridSearchCV(Svc, param_grid = param_grid, cv= 5, n_jobs = 4, verbose = 2)\n",
        "\n",
        "#Fitting the grid search:\n",
        "best_clf = clf.fit(X_train, y_train)\n",
        "\n",
        "#Predicting values based on the new parameters:\n",
        "y_pred = best_clf.predict(X_test)\n",
        "\n",
        "#To view the best parameters:\n",
        "best_clf.best_params_"
      ],
      "execution_count": null,
      "outputs": [
        {
          "output_type": "stream",
          "name": "stdout",
          "text": [
            "Fitting 5 folds for each of 36 candidates, totalling 180 fits\n"
          ]
        },
        {
          "output_type": "execute_result",
          "data": {
            "text/plain": [
              "{'C': 100, 'gamma': 0.01, 'kernel': 'rbf'}"
            ]
          },
          "metadata": {},
          "execution_count": 239
        }
      ]
    },
    {
      "cell_type": "markdown",
      "metadata": {
        "id": "3_pxDBiUae54"
      },
      "source": [
        "\n",
        "From the 3 kernels, rbf is the best performing kernel.\n"
      ]
    },
    {
      "cell_type": "markdown",
      "metadata": {
        "id": "Ki9t5k44FL9J"
      },
      "source": [
        "Using Additional Features"
      ]
    },
    {
      "cell_type": "code",
      "metadata": {
        "colab": {
          "base_uri": "https://localhost:8080/"
        },
        "id": "6E1JzVP7q4fZ",
        "outputId": "ee9159e8-8e3b-4468-e40e-2cadb7593d91"
      },
      "source": [
        "#Building the Model with all the features:\n",
        "#Creating the Dependent and Independent Variables:\n",
        "X = Model.drop('status', axis=1)\n",
        "y = np.where(Model.status == 'hypothyroid', 1, 0)\n",
        "\n",
        "#Dividing the Data into Train and Test:\n",
        "X_train, X_test, y_train, y_test = train_test_split(X, y, test_size=0.2, random_state= 0)\n",
        "\n",
        "#Printing the Shapes of the split data:\n",
        "print(f'X_train : {X_train.shape}')\n",
        "print(f'y_train : {y_train.shape}')\n",
        "print(f'X_test : {X_test.shape}')\n",
        "print(f'y_test : {y_test.shape}')"
      ],
      "execution_count": null,
      "outputs": [
        {
          "output_type": "stream",
          "name": "stdout",
          "text": [
            "X_train : (2410, 25)\n",
            "y_train : (2410,)\n",
            "X_test : (603, 25)\n",
            "y_test : (603,)\n"
          ]
        }
      ]
    },
    {
      "cell_type": "code",
      "metadata": {
        "id": "kfOtMtH-Hji-"
      },
      "source": [
        "#Using the best kernel together with the tuned parameters:\n",
        "model = SVC(C = 100, gamma = 0.01, kernel = 'rbf')\n",
        "\n",
        "#Fitting the model:\n",
        "model.fit(X_train, y_train )\n",
        "\n",
        "#Applying the trained model to make a prediction:\n",
        "y_pred = model.predict(X_test)"
      ],
      "execution_count": null,
      "outputs": []
    },
    {
      "cell_type": "code",
      "metadata": {
        "colab": {
          "base_uri": "https://localhost:8080/"
        },
        "id": "8CxRk7EOpVBt",
        "outputId": "cc6e538a-b74f-41ff-8d54-214cd2aba9ae"
      },
      "source": [
        "f1_score(y_test, y_pred)"
      ],
      "execution_count": null,
      "outputs": [
        {
          "output_type": "execute_result",
          "data": {
            "text/plain": [
              "0.8571428571428572"
            ]
          },
          "metadata": {},
          "execution_count": 29
        }
      ]
    },
    {
      "cell_type": "markdown",
      "metadata": {
        "id": "XQs_YUQ4IQZP"
      },
      "source": [
        "Model Evaluation"
      ]
    },
    {
      "cell_type": "code",
      "metadata": {
        "colab": {
          "base_uri": "https://localhost:8080/"
        },
        "id": "5sUv4MxFIDpP",
        "outputId": "13e016cc-0591-47b8-97ef-3c44813bde7e"
      },
      "source": [
        "#Checking the accuracy, precision and f1_score of the final model:\n",
        "print(classification_report(y_test, y_pred))"
      ],
      "execution_count": null,
      "outputs": [
        {
          "output_type": "stream",
          "name": "stdout",
          "text": [
            "              precision    recall  f1-score   support\n",
            "\n",
            " hypothyroid       0.88      0.84      0.86        25\n",
            "    negative       0.99      0.99      0.99       578\n",
            "\n",
            "    accuracy                           0.99       603\n",
            "   macro avg       0.93      0.92      0.93       603\n",
            "weighted avg       0.99      0.99      0.99       603\n",
            "\n"
          ]
        }
      ]
    },
    {
      "cell_type": "code",
      "metadata": {
        "colab": {
          "base_uri": "https://localhost:8080/"
        },
        "id": "41KNakQAIEQ3",
        "outputId": "080e976e-39a7-454e-9798-57791a06c89a"
      },
      "source": [
        "#Using confusion matrix:\n",
        "confusion_matrix(y_test, y_pred)"
      ],
      "execution_count": null,
      "outputs": [
        {
          "output_type": "execute_result",
          "data": {
            "text/plain": [
              "array([[ 21,   4],\n",
              "       [  3, 575]])"
            ]
          },
          "metadata": {},
          "execution_count": 250
        }
      ]
    },
    {
      "cell_type": "markdown",
      "metadata": {
        "id": "G7RvmDqVeKTB"
      },
      "source": [
        "From the performance with additional features, the accuracy score improved to 99%, not a big difference from the 2 features.\n",
        "\n",
        "If the accuracy can still be reached with few features, then its better training the model with the most relevant features so as to make it faster and simpler to predict"
      ]
    },
    {
      "cell_type": "markdown",
      "metadata": {
        "id": "THNRsVIyjHR1"
      },
      "source": [
        "Performance Analysis"
      ]
    },
    {
      "cell_type": "markdown",
      "metadata": {
        "id": "mm45GCyCjMag"
      },
      "source": [
        "- From the Dataset, due to class imbalance, the precision, recall and F1 scores are the best metric to evaluate. \n",
        "- From the SVM the rbf kernel perfomed better as compared to the other models.\n",
        "- From the decision tree models, the Ada boost and random forest are preferred due to nature of the classifiers\n"
      ]
    },
    {
      "cell_type": "markdown",
      "metadata": {
        "id": "1WxixHznlCsi"
      },
      "source": [
        "Conclusions"
      ]
    },
    {
      "cell_type": "markdown",
      "metadata": {
        "id": "x-qh3PJjlGa9"
      },
      "source": [
        "- In terms of the specific data analytics question, the data provided was appropriate. \n",
        "- When it comes to data imbalance,  modelling algorithms that are better at handling imbalanced data such as Random Forests are preferred. The Support Vector Machine algorithm on the other hand is effective for balanced classification."
      ]
    }
  ]
}