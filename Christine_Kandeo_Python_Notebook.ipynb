{
  "nbformat": 4,
  "nbformat_minor": 0,
  "metadata": {
    "colab": {
      "name": "Christine Kandeo Python Notebook",
      "provenance": [],
      "collapsed_sections": [],
      "toc_visible": true,
      "authorship_tag": "ABX9TyNV9JYGk0KDb5r0q4LNaBCe",
      "include_colab_link": true
    },
    "kernelspec": {
      "name": "python3",
      "display_name": "Python 3"
    },
    "language_info": {
      "name": "python"
    }
  },
  "cells": [
    {
      "cell_type": "markdown",
      "metadata": {
        "id": "view-in-github",
        "colab_type": "text"
      },
      "source": [
        "<a href=\"https://colab.research.google.com/github/Kandeo/Core-Week-8/blob/main/Christine_Kandeo_Python_Notebook.ipynb\" target=\"_parent\"><img src=\"https://colab.research.google.com/assets/colab-badge.svg\" alt=\"Open In Colab\"/></a>"
      ]
    },
    {
      "cell_type": "markdown",
      "metadata": {
        "id": "RMAnFYdbqeS8"
      },
      "source": [
        "# **Housing Price Predictive Analysis**\n",
        "\n",
        "**Overview** \n",
        "\n",
        "Hass Consulting Company, a real estate leader with over 25 years of experience has tasked us to study the factors that affect housing prices using information on real estate properties that was collected over the past few months and create a Predictive Model that allows the company to accurately predict the sale of Housing prices upon being provided with the predictor variables. \n",
        "\n",
        "Dataset: http://bit.ly/IndependentProjectWeek7Dataset "
      ]
    },
    {
      "cell_type": "markdown",
      "metadata": {
        "id": "bnZ9PzoVuqpi"
      },
      "source": [
        "# **Defining the Question**"
      ]
    },
    {
      "cell_type": "markdown",
      "metadata": {
        "id": "v-TgEWuUuxpD"
      },
      "source": [
        "**Specific Data Analytics Question**"
      ]
    },
    {
      "cell_type": "markdown",
      "metadata": {
        "id": "dUhM_b-du4we"
      },
      "source": [
        "Building a model that predicts the price of a house from the housing data."
      ]
    },
    {
      "cell_type": "markdown",
      "metadata": {
        "id": "q5xt5fNIvbgO"
      },
      "source": [
        "**Metrics for success**"
      ]
    },
    {
      "cell_type": "markdown",
      "metadata": {
        "id": "OKrAV6O0qPY-"
      },
      "source": [
        "Creating a model that has an Accuracy score of 60% and above when it comes to predicting the price of a house"
      ]
    },
    {
      "cell_type": "markdown",
      "metadata": {
        "id": "7At8TvEuv92c"
      },
      "source": [
        "**Understanding the Context**"
      ]
    },
    {
      "cell_type": "markdown",
      "metadata": {
        "id": "J3-GOI45rmat"
      },
      "source": [
        "The value of a house is primarily based on what a willing buyer in the market can pay. However, there are a number of factors that impact real estate prices, for example:  location, unit size, space, age, condition and upgrades. Examining the Housing data will help establish how different factors majorly impact the prices of dwelling units."
      ]
    },
    {
      "cell_type": "markdown",
      "metadata": {
        "id": "PUiG-AOzxUUr"
      },
      "source": [
        "**Experimental Design**"
      ]
    },
    {
      "cell_type": "markdown",
      "metadata": {
        "id": "RtSmlkgzxXxf"
      },
      "source": [
        "1. Data Loading\n",
        " - Loading Dependencies\n",
        "2. Data Cleaning\n",
        " - Handling missing/duplicate values\n",
        " - Dealing with irrelevant observations\n",
        " - Checking Outliers\n",
        "3. Data Exploration\n",
        " - Univariate analysis\n",
        " - Bivariate analysis\n",
        "  - Multivariate analysis\n",
        "4. Modelling\n",
        " - Multicollinearity\n",
        " - Multiple Linear Regression\n",
        " - Quantile Regression\n",
        " - Ridge Regression\n",
        " - Lasso Regression\n",
        " - Elastic Net Regression\n",
        "5. Performance Analysis\n",
        " -  Conclusions"
      ]
    },
    {
      "cell_type": "markdown",
      "metadata": {
        "id": "xtRqUDZpyRUl"
      },
      "source": [
        "**Data Relevance**\n",
        "\n",
        "- **Price**  :        Price of the house {Prediction Target}\n",
        "- **Bedrooms** :      Number of Bedrooms\n",
        "- **Bathrooms** :     Number of Bathrooms\n",
        "- **Sqft_living** :   Square feet area of living area\n",
        "- **Sqft_lot**  :     Square feet area of the Lot\n",
        "- **Floors** :        Total Floors in the house\n",
        "- **Waterfront** :    House with a view to the Waterfront\n",
        "- **View** :          Number of Views\n",
        "- **Condition** :         How good the condition is overall\n",
        "- **Grade** :         Grade given to the unit\n",
        "- **Sqft_basement** : Square feet area of the basement\n",
        "- **Yr_built** :      Year the house was built\n",
        "- **Yr_renovated** :  Year the house was renovated\n",
        "- **Zipcode** :       Zipcode of the house\n",
        "- **Lat** :           Latitude Coordinates\n",
        "- **Lon** :           Longitude Coordinates\n",
        "\n",
        "\n"
      ]
    },
    {
      "cell_type": "markdown",
      "metadata": {
        "id": "M4yZGIHO0qRZ"
      },
      "source": [
        "# **Data Loading**"
      ]
    },
    {
      "cell_type": "markdown",
      "metadata": {
        "id": "pe3DJ9XQJ4z7"
      },
      "source": [
        "Importing Libraries"
      ]
    },
    {
      "cell_type": "code",
      "metadata": {
        "id": "G1lLWPMJ55_t"
      },
      "source": [
        "#Importing dependencies:\n",
        "\n",
        "#For Data manipulation and EDA:\n",
        "import pandas as pd     \n",
        "import seaborn as sb     \n",
        "import seaborn as sns   \n",
        "import numpy as np      \n",
        "import matplotlib.pyplot as plt\n",
        "\n",
        "#For Model training:\n",
        "from sklearn.model_selection import train_test_split, GridSearchCV\n",
        "from sklearn.preprocessing import StandardScaler, LabelEncoder\n",
        "from sklearn.metrics import accuracy_score, mean_squared_error, r2_score\n",
        "from sklearn import metrics, linear_model\n",
        "import statsmodels.api as sm\n",
        "\n",
        "#For warnings:\n",
        "import warnings\n",
        "warnings.filterwarnings(\"ignore\")\n"
      ],
      "execution_count": null,
      "outputs": []
    },
    {
      "cell_type": "markdown",
      "metadata": {
        "id": "SESGln3c1LNZ"
      },
      "source": [
        "# **Data Cleaning**"
      ]
    },
    {
      "cell_type": "markdown",
      "metadata": {
        "id": "25YfqoDtKbBD"
      },
      "source": [
        "Loading the Dataset"
      ]
    },
    {
      "cell_type": "code",
      "metadata": {
        "colab": {
          "base_uri": "https://localhost:8080/",
          "height": 194
        },
        "id": "dRDd5bta3bBR",
        "outputId": "45959590-8fb2-440d-8aa1-c6e3c04353b8"
      },
      "source": [
        "#Loading and Previewing the Housing dataset:\n",
        "Housing = pd.read_csv('house_data.csv')\n",
        "Housing.head(4)\n"
      ],
      "execution_count": null,
      "outputs": [
        {
          "output_type": "execute_result",
          "data": {
            "text/html": [
              "<div>\n",
              "<style scoped>\n",
              "    .dataframe tbody tr th:only-of-type {\n",
              "        vertical-align: middle;\n",
              "    }\n",
              "\n",
              "    .dataframe tbody tr th {\n",
              "        vertical-align: top;\n",
              "    }\n",
              "\n",
              "    .dataframe thead th {\n",
              "        text-align: right;\n",
              "    }\n",
              "</style>\n",
              "<table border=\"1\" class=\"dataframe\">\n",
              "  <thead>\n",
              "    <tr style=\"text-align: right;\">\n",
              "      <th></th>\n",
              "      <th>id</th>\n",
              "      <th>price</th>\n",
              "      <th>bedrooms</th>\n",
              "      <th>bathrooms</th>\n",
              "      <th>sqft_living</th>\n",
              "      <th>sqft_lot</th>\n",
              "      <th>floors</th>\n",
              "      <th>waterfront</th>\n",
              "      <th>view</th>\n",
              "      <th>condition</th>\n",
              "      <th>grade</th>\n",
              "      <th>sqft_above</th>\n",
              "      <th>sqft_basement</th>\n",
              "      <th>yr_built</th>\n",
              "      <th>yr_renovated</th>\n",
              "      <th>zipcode</th>\n",
              "      <th>lat</th>\n",
              "      <th>long</th>\n",
              "      <th>sqft_living15</th>\n",
              "      <th>sqft_lot15</th>\n",
              "    </tr>\n",
              "  </thead>\n",
              "  <tbody>\n",
              "    <tr>\n",
              "      <th>0</th>\n",
              "      <td>7129300520</td>\n",
              "      <td>221900.0</td>\n",
              "      <td>3</td>\n",
              "      <td>1.00</td>\n",
              "      <td>1180</td>\n",
              "      <td>5650</td>\n",
              "      <td>1.0</td>\n",
              "      <td>0</td>\n",
              "      <td>0</td>\n",
              "      <td>3</td>\n",
              "      <td>7</td>\n",
              "      <td>1180</td>\n",
              "      <td>0</td>\n",
              "      <td>1955</td>\n",
              "      <td>0</td>\n",
              "      <td>98178</td>\n",
              "      <td>47.5112</td>\n",
              "      <td>-122.257</td>\n",
              "      <td>1340</td>\n",
              "      <td>5650</td>\n",
              "    </tr>\n",
              "    <tr>\n",
              "      <th>1</th>\n",
              "      <td>6414100192</td>\n",
              "      <td>538000.0</td>\n",
              "      <td>3</td>\n",
              "      <td>2.25</td>\n",
              "      <td>2570</td>\n",
              "      <td>7242</td>\n",
              "      <td>2.0</td>\n",
              "      <td>0</td>\n",
              "      <td>0</td>\n",
              "      <td>3</td>\n",
              "      <td>7</td>\n",
              "      <td>2170</td>\n",
              "      <td>400</td>\n",
              "      <td>1951</td>\n",
              "      <td>1991</td>\n",
              "      <td>98125</td>\n",
              "      <td>47.7210</td>\n",
              "      <td>-122.319</td>\n",
              "      <td>1690</td>\n",
              "      <td>7639</td>\n",
              "    </tr>\n",
              "    <tr>\n",
              "      <th>2</th>\n",
              "      <td>5631500400</td>\n",
              "      <td>180000.0</td>\n",
              "      <td>2</td>\n",
              "      <td>1.00</td>\n",
              "      <td>770</td>\n",
              "      <td>10000</td>\n",
              "      <td>1.0</td>\n",
              "      <td>0</td>\n",
              "      <td>0</td>\n",
              "      <td>3</td>\n",
              "      <td>6</td>\n",
              "      <td>770</td>\n",
              "      <td>0</td>\n",
              "      <td>1933</td>\n",
              "      <td>0</td>\n",
              "      <td>98028</td>\n",
              "      <td>47.7379</td>\n",
              "      <td>-122.233</td>\n",
              "      <td>2720</td>\n",
              "      <td>8062</td>\n",
              "    </tr>\n",
              "    <tr>\n",
              "      <th>3</th>\n",
              "      <td>2487200875</td>\n",
              "      <td>604000.0</td>\n",
              "      <td>4</td>\n",
              "      <td>3.00</td>\n",
              "      <td>1960</td>\n",
              "      <td>5000</td>\n",
              "      <td>1.0</td>\n",
              "      <td>0</td>\n",
              "      <td>0</td>\n",
              "      <td>5</td>\n",
              "      <td>7</td>\n",
              "      <td>1050</td>\n",
              "      <td>910</td>\n",
              "      <td>1965</td>\n",
              "      <td>0</td>\n",
              "      <td>98136</td>\n",
              "      <td>47.5208</td>\n",
              "      <td>-122.393</td>\n",
              "      <td>1360</td>\n",
              "      <td>5000</td>\n",
              "    </tr>\n",
              "  </tbody>\n",
              "</table>\n",
              "</div>"
            ],
            "text/plain": [
              "           id     price  bedrooms  ...     long  sqft_living15  sqft_lot15\n",
              "0  7129300520  221900.0         3  ... -122.257           1340        5650\n",
              "1  6414100192  538000.0         3  ... -122.319           1690        7639\n",
              "2  5631500400  180000.0         2  ... -122.233           2720        8062\n",
              "3  2487200875  604000.0         4  ... -122.393           1360        5000\n",
              "\n",
              "[4 rows x 20 columns]"
            ]
          },
          "metadata": {},
          "execution_count": 3
        }
      ]
    },
    {
      "cell_type": "code",
      "metadata": {
        "colab": {
          "base_uri": "https://localhost:8080/"
        },
        "id": "soBZv4I_7ZWj",
        "outputId": "6b7b9518-379f-46ba-a1aa-908fb5e68a79"
      },
      "source": [
        "#Checking the shape of the dataset:\n",
        "Housing.shape\n"
      ],
      "execution_count": null,
      "outputs": [
        {
          "output_type": "execute_result",
          "data": {
            "text/plain": [
              "(21613, 20)"
            ]
          },
          "metadata": {},
          "execution_count": 4
        }
      ]
    },
    {
      "cell_type": "markdown",
      "metadata": {
        "id": "AGfNRbepKerl"
      },
      "source": [
        "Missing/duplicate values"
      ]
    },
    {
      "cell_type": "code",
      "metadata": {
        "colab": {
          "base_uri": "https://localhost:8080/"
        },
        "id": "Gh-SILWv7mGL",
        "outputId": "83e52920-ba0b-4bbd-c926-ce91ee40409c"
      },
      "source": [
        "#Checking for any null values:\n",
        "Housing.isnull().sum()\n"
      ],
      "execution_count": null,
      "outputs": [
        {
          "output_type": "execute_result",
          "data": {
            "text/plain": [
              "id               0\n",
              "price            0\n",
              "bedrooms         0\n",
              "bathrooms        0\n",
              "sqft_living      0\n",
              "sqft_lot         0\n",
              "floors           0\n",
              "waterfront       0\n",
              "view             0\n",
              "condition        0\n",
              "grade            0\n",
              "sqft_above       0\n",
              "sqft_basement    0\n",
              "yr_built         0\n",
              "yr_renovated     0\n",
              "zipcode          0\n",
              "lat              0\n",
              "long             0\n",
              "sqft_living15    0\n",
              "sqft_lot15       0\n",
              "dtype: int64"
            ]
          },
          "metadata": {},
          "execution_count": 5
        }
      ]
    },
    {
      "cell_type": "code",
      "metadata": {
        "colab": {
          "base_uri": "https://localhost:8080/"
        },
        "id": "wm4Hf8Sv7tWV",
        "outputId": "e231aafd-406c-467e-bb3c-d68e935da45f"
      },
      "source": [
        "#Checking for duplicates:\n",
        "Housing.duplicated().sum()    #3 duplicates identified\n",
        "\n",
        "#Dropping duplicates:\n",
        "Housing.drop_duplicates(inplace=True)\n",
        "Housing.duplicated().sum()\n"
      ],
      "execution_count": null,
      "outputs": [
        {
          "output_type": "execute_result",
          "data": {
            "text/plain": [
              "0"
            ]
          },
          "metadata": {},
          "execution_count": 6
        }
      ]
    },
    {
      "cell_type": "markdown",
      "metadata": {
        "id": "s3GhtIcyKyzd"
      },
      "source": [
        "Irrelevant Observations"
      ]
    },
    {
      "cell_type": "code",
      "metadata": {
        "colab": {
          "base_uri": "https://localhost:8080/",
          "height": 194
        },
        "id": "e85bzT46K3DC",
        "outputId": "e7cd2444-5a14-4899-ffee-d3ca9f69fc47"
      },
      "source": [
        "#Droppping observations not needed during analysis:\n",
        "#The ID column does not provide any insights into what price a house will sell for hence an irrelevant observation:\n",
        "Housing.drop(Housing.columns[[0]], axis=1, inplace = True)\n",
        "Housing.head(4)\n"
      ],
      "execution_count": null,
      "outputs": [
        {
          "output_type": "execute_result",
          "data": {
            "text/html": [
              "<div>\n",
              "<style scoped>\n",
              "    .dataframe tbody tr th:only-of-type {\n",
              "        vertical-align: middle;\n",
              "    }\n",
              "\n",
              "    .dataframe tbody tr th {\n",
              "        vertical-align: top;\n",
              "    }\n",
              "\n",
              "    .dataframe thead th {\n",
              "        text-align: right;\n",
              "    }\n",
              "</style>\n",
              "<table border=\"1\" class=\"dataframe\">\n",
              "  <thead>\n",
              "    <tr style=\"text-align: right;\">\n",
              "      <th></th>\n",
              "      <th>price</th>\n",
              "      <th>bedrooms</th>\n",
              "      <th>bathrooms</th>\n",
              "      <th>sqft_living</th>\n",
              "      <th>sqft_lot</th>\n",
              "      <th>floors</th>\n",
              "      <th>waterfront</th>\n",
              "      <th>view</th>\n",
              "      <th>condition</th>\n",
              "      <th>grade</th>\n",
              "      <th>sqft_above</th>\n",
              "      <th>sqft_basement</th>\n",
              "      <th>yr_built</th>\n",
              "      <th>yr_renovated</th>\n",
              "      <th>zipcode</th>\n",
              "      <th>lat</th>\n",
              "      <th>long</th>\n",
              "      <th>sqft_living15</th>\n",
              "      <th>sqft_lot15</th>\n",
              "    </tr>\n",
              "  </thead>\n",
              "  <tbody>\n",
              "    <tr>\n",
              "      <th>0</th>\n",
              "      <td>221900.0</td>\n",
              "      <td>3</td>\n",
              "      <td>1.00</td>\n",
              "      <td>1180</td>\n",
              "      <td>5650</td>\n",
              "      <td>1.0</td>\n",
              "      <td>0</td>\n",
              "      <td>0</td>\n",
              "      <td>3</td>\n",
              "      <td>7</td>\n",
              "      <td>1180</td>\n",
              "      <td>0</td>\n",
              "      <td>1955</td>\n",
              "      <td>0</td>\n",
              "      <td>98178</td>\n",
              "      <td>47.5112</td>\n",
              "      <td>-122.257</td>\n",
              "      <td>1340</td>\n",
              "      <td>5650</td>\n",
              "    </tr>\n",
              "    <tr>\n",
              "      <th>1</th>\n",
              "      <td>538000.0</td>\n",
              "      <td>3</td>\n",
              "      <td>2.25</td>\n",
              "      <td>2570</td>\n",
              "      <td>7242</td>\n",
              "      <td>2.0</td>\n",
              "      <td>0</td>\n",
              "      <td>0</td>\n",
              "      <td>3</td>\n",
              "      <td>7</td>\n",
              "      <td>2170</td>\n",
              "      <td>400</td>\n",
              "      <td>1951</td>\n",
              "      <td>1991</td>\n",
              "      <td>98125</td>\n",
              "      <td>47.7210</td>\n",
              "      <td>-122.319</td>\n",
              "      <td>1690</td>\n",
              "      <td>7639</td>\n",
              "    </tr>\n",
              "    <tr>\n",
              "      <th>2</th>\n",
              "      <td>180000.0</td>\n",
              "      <td>2</td>\n",
              "      <td>1.00</td>\n",
              "      <td>770</td>\n",
              "      <td>10000</td>\n",
              "      <td>1.0</td>\n",
              "      <td>0</td>\n",
              "      <td>0</td>\n",
              "      <td>3</td>\n",
              "      <td>6</td>\n",
              "      <td>770</td>\n",
              "      <td>0</td>\n",
              "      <td>1933</td>\n",
              "      <td>0</td>\n",
              "      <td>98028</td>\n",
              "      <td>47.7379</td>\n",
              "      <td>-122.233</td>\n",
              "      <td>2720</td>\n",
              "      <td>8062</td>\n",
              "    </tr>\n",
              "    <tr>\n",
              "      <th>3</th>\n",
              "      <td>604000.0</td>\n",
              "      <td>4</td>\n",
              "      <td>3.00</td>\n",
              "      <td>1960</td>\n",
              "      <td>5000</td>\n",
              "      <td>1.0</td>\n",
              "      <td>0</td>\n",
              "      <td>0</td>\n",
              "      <td>5</td>\n",
              "      <td>7</td>\n",
              "      <td>1050</td>\n",
              "      <td>910</td>\n",
              "      <td>1965</td>\n",
              "      <td>0</td>\n",
              "      <td>98136</td>\n",
              "      <td>47.5208</td>\n",
              "      <td>-122.393</td>\n",
              "      <td>1360</td>\n",
              "      <td>5000</td>\n",
              "    </tr>\n",
              "  </tbody>\n",
              "</table>\n",
              "</div>"
            ],
            "text/plain": [
              "      price  bedrooms  bathrooms  ...     long  sqft_living15  sqft_lot15\n",
              "0  221900.0         3       1.00  ... -122.257           1340        5650\n",
              "1  538000.0         3       2.25  ... -122.319           1690        7639\n",
              "2  180000.0         2       1.00  ... -122.233           2720        8062\n",
              "3  604000.0         4       3.00  ... -122.393           1360        5000\n",
              "\n",
              "[4 rows x 19 columns]"
            ]
          },
          "metadata": {},
          "execution_count": 7
        }
      ]
    },
    {
      "cell_type": "markdown",
      "metadata": {
        "id": "GzMxVvoMKkuz"
      },
      "source": [
        "Checking Outliers"
      ]
    },
    {
      "cell_type": "code",
      "metadata": {
        "colab": {
          "base_uri": "https://localhost:8080/",
          "height": 661
        },
        "id": "4RzXtg3dZK8F",
        "outputId": "6ca048b7-1631-4932-d022-e99bede221dc"
      },
      "source": [
        "# Checking for Outliers:\n",
        "# Creating a dictionary with Features:\n",
        "columns_dict = {'bedrooms': 1, 'bathrooms': 2, 'sqft_living': 3,'floors': 4,'grade': 5, \n",
        "                'sqft_above': 6,'sqft_basement': 7,'sqft_living15': 8}\n",
        "\n",
        "plt.figure(figsize=(20,30))\n",
        "\n",
        "#Visualizing the Information on  a boxplot:\n",
        "for variable,i in columns_dict.items():\n",
        "  plt.subplot(5,4,i)\n",
        "  plt.boxplot(Housing[variable])\n",
        "  plt.title(variable)\n",
        "plt.show()\n"
      ],
      "execution_count": null,
      "outputs": [
        {
          "output_type": "display_data",
          "data": {
            "image/png": "[encoded data removed]",
            "text/plain": [
              "<Figure size 1440x2160 with 8 Axes>"
            ]
          },
          "metadata": {
            "needs_background": "light"
          }
        }
      ]
    },
    {
      "cell_type": "markdown",
      "metadata": {
        "id": "0ocV6W-0SJbr"
      },
      "source": [
        "From the Plots above, Bedroom, Sqft_living and Sqft_basement seem to have distinct outliers calling for further investigations"
      ]
    },
    {
      "cell_type": "code",
      "metadata": {
        "colab": {
          "base_uri": "https://localhost:8080/",
          "height": 300
        },
        "id": "8LBSweb1OSBQ",
        "outputId": "4ef3986b-ef21-415e-f660-b1e275cbb0e9"
      },
      "source": [
        "#Viewing the Descriptive summary to understand the extremities of the outliers in the above features:\n",
        "Outlier_Check = Housing[['bedrooms','bathrooms','sqft_living', 'floors', 'grade', 'sqft_above', 'sqft_basement', 'sqft_living15']].copy()\n",
        "Outlier_Check.describe() \n"
      ],
      "execution_count": null,
      "outputs": [
        {
          "output_type": "execute_result",
          "data": {
            "text/html": [
              "<div>\n",
              "<style scoped>\n",
              "    .dataframe tbody tr th:only-of-type {\n",
              "        vertical-align: middle;\n",
              "    }\n",
              "\n",
              "    .dataframe tbody tr th {\n",
              "        vertical-align: top;\n",
              "    }\n",
              "\n",
              "    .dataframe thead th {\n",
              "        text-align: right;\n",
              "    }\n",
              "</style>\n",
              "<table border=\"1\" class=\"dataframe\">\n",
              "  <thead>\n",
              "    <tr style=\"text-align: right;\">\n",
              "      <th></th>\n",
              "      <th>bedrooms</th>\n",
              "      <th>bathrooms</th>\n",
              "      <th>sqft_living</th>\n",
              "      <th>floors</th>\n",
              "      <th>grade</th>\n",
              "      <th>sqft_above</th>\n",
              "      <th>sqft_basement</th>\n",
              "      <th>sqft_living15</th>\n",
              "    </tr>\n",
              "  </thead>\n",
              "  <tbody>\n",
              "    <tr>\n",
              "      <th>count</th>\n",
              "      <td>21610.000000</td>\n",
              "      <td>21610.000000</td>\n",
              "      <td>21610.000000</td>\n",
              "      <td>21610.000000</td>\n",
              "      <td>21610.000000</td>\n",
              "      <td>21610.000000</td>\n",
              "      <td>21610.000000</td>\n",
              "      <td>21610.000000</td>\n",
              "    </tr>\n",
              "    <tr>\n",
              "      <th>mean</th>\n",
              "      <td>3.370847</td>\n",
              "      <td>2.114739</td>\n",
              "      <td>2079.881212</td>\n",
              "      <td>1.494239</td>\n",
              "      <td>7.656779</td>\n",
              "      <td>1788.347894</td>\n",
              "      <td>291.533318</td>\n",
              "      <td>1986.518695</td>\n",
              "    </tr>\n",
              "    <tr>\n",
              "      <th>std</th>\n",
              "      <td>0.930110</td>\n",
              "      <td>0.770204</td>\n",
              "      <td>918.500299</td>\n",
              "      <td>0.539994</td>\n",
              "      <td>1.175500</td>\n",
              "      <td>828.138723</td>\n",
              "      <td>442.596699</td>\n",
              "      <td>685.425781</td>\n",
              "    </tr>\n",
              "    <tr>\n",
              "      <th>min</th>\n",
              "      <td>0.000000</td>\n",
              "      <td>0.000000</td>\n",
              "      <td>290.000000</td>\n",
              "      <td>1.000000</td>\n",
              "      <td>1.000000</td>\n",
              "      <td>290.000000</td>\n",
              "      <td>0.000000</td>\n",
              "      <td>399.000000</td>\n",
              "    </tr>\n",
              "    <tr>\n",
              "      <th>25%</th>\n",
              "      <td>3.000000</td>\n",
              "      <td>1.750000</td>\n",
              "      <td>1425.500000</td>\n",
              "      <td>1.000000</td>\n",
              "      <td>7.000000</td>\n",
              "      <td>1190.000000</td>\n",
              "      <td>0.000000</td>\n",
              "      <td>1490.000000</td>\n",
              "    </tr>\n",
              "    <tr>\n",
              "      <th>50%</th>\n",
              "      <td>3.000000</td>\n",
              "      <td>2.250000</td>\n",
              "      <td>1910.000000</td>\n",
              "      <td>1.500000</td>\n",
              "      <td>7.000000</td>\n",
              "      <td>1560.000000</td>\n",
              "      <td>0.000000</td>\n",
              "      <td>1840.000000</td>\n",
              "    </tr>\n",
              "    <tr>\n",
              "      <th>75%</th>\n",
              "      <td>4.000000</td>\n",
              "      <td>2.500000</td>\n",
              "      <td>2550.000000</td>\n",
              "      <td>2.000000</td>\n",
              "      <td>8.000000</td>\n",
              "      <td>2210.000000</td>\n",
              "      <td>560.000000</td>\n",
              "      <td>2360.000000</td>\n",
              "    </tr>\n",
              "    <tr>\n",
              "      <th>max</th>\n",
              "      <td>33.000000</td>\n",
              "      <td>8.000000</td>\n",
              "      <td>13540.000000</td>\n",
              "      <td>3.500000</td>\n",
              "      <td>13.000000</td>\n",
              "      <td>9410.000000</td>\n",
              "      <td>4820.000000</td>\n",
              "      <td>6210.000000</td>\n",
              "    </tr>\n",
              "  </tbody>\n",
              "</table>\n",
              "</div>"
            ],
            "text/plain": [
              "           bedrooms     bathrooms  ...  sqft_basement  sqft_living15\n",
              "count  21610.000000  21610.000000  ...   21610.000000   21610.000000\n",
              "mean       3.370847      2.114739  ...     291.533318    1986.518695\n",
              "std        0.930110      0.770204  ...     442.596699     685.425781\n",
              "min        0.000000      0.000000  ...       0.000000     399.000000\n",
              "25%        3.000000      1.750000  ...       0.000000    1490.000000\n",
              "50%        3.000000      2.250000  ...       0.000000    1840.000000\n",
              "75%        4.000000      2.500000  ...     560.000000    2360.000000\n",
              "max       33.000000      8.000000  ...    4820.000000    6210.000000\n",
              "\n",
              "[8 rows x 8 columns]"
            ]
          },
          "metadata": {},
          "execution_count": 9
        }
      ]
    },
    {
      "cell_type": "code",
      "metadata": {
        "colab": {
          "base_uri": "https://localhost:8080/"
        },
        "id": "uvGTYoo8Nj08",
        "outputId": "5e98c437-b37d-4f27-c77f-0d7a91462844"
      },
      "source": [
        "#From the descriptive summary, the highest number of Bedrooms is 33:\n",
        "#Investigating Bedrooms:\n",
        "Housing.bedrooms.sort_values(ascending = False).head(4)\n"
      ],
      "execution_count": null,
      "outputs": [
        {
          "output_type": "execute_result",
          "data": {
            "text/plain": [
              "15870    33\n",
              "8757     11\n",
              "13314    10\n",
              "19254    10\n",
              "Name: bedrooms, dtype: int64"
            ]
          },
          "metadata": {},
          "execution_count": 10
        }
      ]
    },
    {
      "cell_type": "code",
      "metadata": {
        "colab": {
          "base_uri": "https://localhost:8080/"
        },
        "id": "SpDx9x5WOIAI",
        "outputId": "c4b0d23f-5499-4f44-b3a7-012bef342aa4"
      },
      "source": [
        "#Viewing the information on the houses with 33 and 11 bedrooms:\n",
        "print(Housing.loc[[15870]])\n",
        "print(Housing.loc[[8757]])\n"
      ],
      "execution_count": null,
      "outputs": [
        {
          "output_type": "stream",
          "name": "stdout",
          "text": [
            "          price  bedrooms  bathrooms  ...     long  sqft_living15  sqft_lot15\n",
            "15870  640000.0        33       1.75  ... -122.331           1330        4700\n",
            "\n",
            "[1 rows x 19 columns]\n",
            "         price  bedrooms  bathrooms  ...     long  sqft_living15  sqft_lot15\n",
            "8757  520000.0        11        3.0  ... -122.363           1420        4960\n",
            "\n",
            "[1 rows x 19 columns]\n"
          ]
        }
      ]
    },
    {
      "cell_type": "code",
      "metadata": {
        "id": "9xTcb34mV5VW"
      },
      "source": [
        "#Dropping the observations as its not logical having 33 bedrooms with 1.75 bathroms and sqft_living of 1330:\n",
        "Housing = Housing[Housing.bedrooms <= 10]\n"
      ],
      "execution_count": null,
      "outputs": []
    },
    {
      "cell_type": "code",
      "metadata": {
        "colab": {
          "base_uri": "https://localhost:8080/"
        },
        "id": "60pmN7Y51UWC",
        "outputId": "78b8fff0-9526-4c98-fa1a-38a2bb16801d"
      },
      "source": [
        "#Investigating Sqft_basement:\n",
        "Housing.sqft_basement.sort_values(ascending = False).head(4)\n"
      ],
      "execution_count": null,
      "outputs": [
        {
          "output_type": "execute_result",
          "data": {
            "text/plain": [
              "8092     4820\n",
              "12777    4130\n",
              "15482    3500\n",
              "7252     3480\n",
              "Name: sqft_basement, dtype: int64"
            ]
          },
          "metadata": {},
          "execution_count": 13
        }
      ]
    },
    {
      "cell_type": "code",
      "metadata": {
        "colab": {
          "base_uri": "https://localhost:8080/"
        },
        "id": "xYDfh-WOTof_",
        "outputId": "7c3a0e40-5f2f-4ac3-c75f-054bea0e9c66"
      },
      "source": [
        "#Investigating Sqft_living:\n",
        "Housing.sqft_living.sort_values(ascending = False).head(4)\n"
      ],
      "execution_count": null,
      "outputs": [
        {
          "output_type": "execute_result",
          "data": {
            "text/plain": [
              "12777    13540\n",
              "7252     12050\n",
              "3914     10040\n",
              "9254      9890\n",
              "Name: sqft_living, dtype: int64"
            ]
          },
          "metadata": {},
          "execution_count": 14
        }
      ]
    },
    {
      "cell_type": "code",
      "metadata": {
        "colab": {
          "base_uri": "https://localhost:8080/"
        },
        "id": "sPFwyodXO9Uv",
        "outputId": "3081f1b9-6153-495d-cb53-f0b77c66111c"
      },
      "source": [
        "#Viewing the information on the houses with the highest sqft_living:\n",
        "print(Housing.loc[[12777]])\n",
        "print(Housing.loc[[7252]])\n"
      ],
      "execution_count": null,
      "outputs": [
        {
          "output_type": "stream",
          "name": "stdout",
          "text": [
            "           price  bedrooms  bathrooms  ...     long  sqft_living15  sqft_lot15\n",
            "12777  2280000.0         7        8.0  ... -121.986           4850      217800\n",
            "\n",
            "[1 rows x 19 columns]\n",
            "          price  bedrooms  bathrooms  ...     long  sqft_living15  sqft_lot15\n",
            "7252  7700000.0         6        8.0  ... -122.323           3940        8800\n",
            "\n",
            "[1 rows x 19 columns]\n"
          ]
        }
      ]
    },
    {
      "cell_type": "code",
      "metadata": {
        "id": "RyT_4nX6WbSn"
      },
      "source": [
        "#For such a big living area of 13,540, the Price of 2,280,000 looks low:\n",
        "#Dropping the observation on row 12,777 for both Sqft_living and Sqft_basement:\n",
        "Housing = Housing[Housing.sqft_living < 13540]\n"
      ],
      "execution_count": null,
      "outputs": []
    },
    {
      "cell_type": "markdown",
      "metadata": {
        "id": "VV9GrKxtYUTM"
      },
      "source": [
        "For the remaining observations, no outlier is dropped as there's no basis to assume they are not valid entries"
      ]
    },
    {
      "cell_type": "markdown",
      "metadata": {
        "id": "PUx4vSj-QjEB"
      },
      "source": [
        "# **Exploratory Data Analysis**"
      ]
    },
    {
      "cell_type": "markdown",
      "metadata": {
        "id": "dDQxWCJxR9vV"
      },
      "source": [
        "1. **Univariate Analysis**"
      ]
    },
    {
      "cell_type": "markdown",
      "metadata": {
        "id": "jk2CtohOR5Ik"
      },
      "source": [
        "This analysis is performed with the aim of finding patterns that exist within the data"
      ]
    },
    {
      "cell_type": "markdown",
      "metadata": {
        "id": "qzyuHgQjY62q"
      },
      "source": [
        " The process shall involve analyzing the data to summarize their main characteristics. Distinguishing the Categorical Variables {Lack numerical meaning} and Numerical Variables {Continous in Nature};\n",
        " 1. Categorical Variables: Waterfront, View, Condition, Zipcode, Grade and Year renovated\n",
        " 2. Numerical Variables: Price, Bedroom, Bathroom, Sqft_living, Sqft_lot, Floors, Sqft_above, Sqft_Basement, Lat, Long, Sqft_living 15 and Sqft_lot15"
      ]
    },
    {
      "cell_type": "markdown",
      "metadata": {
        "id": "_7221QGsO6nR"
      },
      "source": [
        "Converting View and Year renovated to Categorial 0 and 1 where;\n",
        "\n",
        "0 - Not viewed/ Not renovated\n",
        "\n",
        "1 - Viewed/ Renovated"
      ]
    },
    {
      "cell_type": "markdown",
      "metadata": {
        "id": "A-7_3m6mbEIo"
      },
      "source": [
        " - House Renovations"
      ]
    },
    {
      "cell_type": "code",
      "metadata": {
        "id": "2XuREpkl5pLJ"
      },
      "source": [
        "#Converting Year renovated to an Object:\n",
        "Housing['yr_renovated'] = Housing['yr_renovated'].astype('str')\n"
      ],
      "execution_count": null,
      "outputs": []
    },
    {
      "cell_type": "code",
      "metadata": {
        "colab": {
          "base_uri": "https://localhost:8080/",
          "height": 194
        },
        "id": "w88iFReY2bj4",
        "outputId": "e6f996e8-1d0e-421f-c1a5-d7eb2a82e5a3"
      },
      "source": [
        "#Dividing into 0 and 1:\n",
        "def Check(Housing):\n",
        "   if Housing['yr_renovated'] == '0':\n",
        "      return 0\n",
        "   elif Housing['yr_renovated'] != '0':\n",
        "      return 1\n",
        "   else:\n",
        "     return 'Missing'\n",
        "\n",
        "Housing['yr_renovated'] = Housing.apply(Check, axis=1)\n",
        "Housing.head(4)\n"
      ],
      "execution_count": null,
      "outputs": [
        {
          "output_type": "execute_result",
          "data": {
            "text/html": [
              "<div>\n",
              "<style scoped>\n",
              "    .dataframe tbody tr th:only-of-type {\n",
              "        vertical-align: middle;\n",
              "    }\n",
              "\n",
              "    .dataframe tbody tr th {\n",
              "        vertical-align: top;\n",
              "    }\n",
              "\n",
              "    .dataframe thead th {\n",
              "        text-align: right;\n",
              "    }\n",
              "</style>\n",
              "<table border=\"1\" class=\"dataframe\">\n",
              "  <thead>\n",
              "    <tr style=\"text-align: right;\">\n",
              "      <th></th>\n",
              "      <th>price</th>\n",
              "      <th>bedrooms</th>\n",
              "      <th>bathrooms</th>\n",
              "      <th>sqft_living</th>\n",
              "      <th>sqft_lot</th>\n",
              "      <th>floors</th>\n",
              "      <th>waterfront</th>\n",
              "      <th>view</th>\n",
              "      <th>condition</th>\n",
              "      <th>grade</th>\n",
              "      <th>sqft_above</th>\n",
              "      <th>sqft_basement</th>\n",
              "      <th>yr_built</th>\n",
              "      <th>yr_renovated</th>\n",
              "      <th>zipcode</th>\n",
              "      <th>lat</th>\n",
              "      <th>long</th>\n",
              "      <th>sqft_living15</th>\n",
              "      <th>sqft_lot15</th>\n",
              "    </tr>\n",
              "  </thead>\n",
              "  <tbody>\n",
              "    <tr>\n",
              "      <th>0</th>\n",
              "      <td>221900.0</td>\n",
              "      <td>3</td>\n",
              "      <td>1.00</td>\n",
              "      <td>1180</td>\n",
              "      <td>5650</td>\n",
              "      <td>1.0</td>\n",
              "      <td>0</td>\n",
              "      <td>0</td>\n",
              "      <td>3</td>\n",
              "      <td>7</td>\n",
              "      <td>1180</td>\n",
              "      <td>0</td>\n",
              "      <td>1955</td>\n",
              "      <td>0</td>\n",
              "      <td>98178</td>\n",
              "      <td>47.5112</td>\n",
              "      <td>-122.257</td>\n",
              "      <td>1340</td>\n",
              "      <td>5650</td>\n",
              "    </tr>\n",
              "    <tr>\n",
              "      <th>1</th>\n",
              "      <td>538000.0</td>\n",
              "      <td>3</td>\n",
              "      <td>2.25</td>\n",
              "      <td>2570</td>\n",
              "      <td>7242</td>\n",
              "      <td>2.0</td>\n",
              "      <td>0</td>\n",
              "      <td>0</td>\n",
              "      <td>3</td>\n",
              "      <td>7</td>\n",
              "      <td>2170</td>\n",
              "      <td>400</td>\n",
              "      <td>1951</td>\n",
              "      <td>1</td>\n",
              "      <td>98125</td>\n",
              "      <td>47.7210</td>\n",
              "      <td>-122.319</td>\n",
              "      <td>1690</td>\n",
              "      <td>7639</td>\n",
              "    </tr>\n",
              "    <tr>\n",
              "      <th>2</th>\n",
              "      <td>180000.0</td>\n",
              "      <td>2</td>\n",
              "      <td>1.00</td>\n",
              "      <td>770</td>\n",
              "      <td>10000</td>\n",
              "      <td>1.0</td>\n",
              "      <td>0</td>\n",
              "      <td>0</td>\n",
              "      <td>3</td>\n",
              "      <td>6</td>\n",
              "      <td>770</td>\n",
              "      <td>0</td>\n",
              "      <td>1933</td>\n",
              "      <td>0</td>\n",
              "      <td>98028</td>\n",
              "      <td>47.7379</td>\n",
              "      <td>-122.233</td>\n",
              "      <td>2720</td>\n",
              "      <td>8062</td>\n",
              "    </tr>\n",
              "    <tr>\n",
              "      <th>3</th>\n",
              "      <td>604000.0</td>\n",
              "      <td>4</td>\n",
              "      <td>3.00</td>\n",
              "      <td>1960</td>\n",
              "      <td>5000</td>\n",
              "      <td>1.0</td>\n",
              "      <td>0</td>\n",
              "      <td>0</td>\n",
              "      <td>5</td>\n",
              "      <td>7</td>\n",
              "      <td>1050</td>\n",
              "      <td>910</td>\n",
              "      <td>1965</td>\n",
              "      <td>0</td>\n",
              "      <td>98136</td>\n",
              "      <td>47.5208</td>\n",
              "      <td>-122.393</td>\n",
              "      <td>1360</td>\n",
              "      <td>5000</td>\n",
              "    </tr>\n",
              "  </tbody>\n",
              "</table>\n",
              "</div>"
            ],
            "text/plain": [
              "      price  bedrooms  bathrooms  ...     long  sqft_living15  sqft_lot15\n",
              "0  221900.0         3       1.00  ... -122.257           1340        5650\n",
              "1  538000.0         3       2.25  ... -122.319           1690        7639\n",
              "2  180000.0         2       1.00  ... -122.233           2720        8062\n",
              "3  604000.0         4       3.00  ... -122.393           1360        5000\n",
              "\n",
              "[4 rows x 19 columns]"
            ]
          },
          "metadata": {},
          "execution_count": 18
        }
      ]
    },
    {
      "cell_type": "code",
      "metadata": {
        "colab": {
          "base_uri": "https://localhost:8080/",
          "height": 319
        },
        "id": "FTlK0GgNN0lG",
        "outputId": "c69587ea-bf7b-404d-9ae3-b397dd1f67e4"
      },
      "source": [
        "#Viewing the Distribution of renovations done in the houses:\n",
        "Renovations = Housing['yr_renovated'].value_counts()\n",
        "Renovations\n",
        "# 0: 20, 695     1:  912\n",
        "\n",
        "#Visualising the information on a pie chart:\n",
        "labels= ['False','True']\n",
        "colors=['lightslategray', 'lightsteelblue']\n",
        "plt.figure(figsize= (9, 5))\n",
        "plt.title('Distribution of House Renovations')\n",
        "plt.pie(Renovations,labels=labels, colors=colors, startangle=180, shadow=True,explode=(0.1, 0.1), autopct='%1.2f%%')\n",
        "plt.axis('equal')\n",
        "plt.show()\n"
      ],
      "execution_count": null,
      "outputs": [
        {
          "output_type": "display_data",
          "data": {
            "image/png": "[encoded data removed]",
            "text/plain": [
              "<Figure size 648x360 with 1 Axes>"
            ]
          },
          "metadata": {}
        }
      ]
    },
    {
      "cell_type": "markdown",
      "metadata": {
        "id": "2jD8dFVtZBsL"
      },
      "source": [
        "4% of the houses sampled have undergone renovations"
      ]
    },
    {
      "cell_type": "markdown",
      "metadata": {
        "id": "RDVPAMkNbNcq"
      },
      "source": [
        " - Viewed dwelling units"
      ]
    },
    {
      "cell_type": "code",
      "metadata": {
        "id": "x1-hKRlNN8G7"
      },
      "source": [
        "#Converting View column from integer to object:\n",
        "Housing['view'] = Housing['view'].astype('str')\n"
      ],
      "execution_count": null,
      "outputs": []
    },
    {
      "cell_type": "code",
      "metadata": {
        "colab": {
          "base_uri": "https://localhost:8080/",
          "height": 194
        },
        "id": "MdcTpSNLOJIc",
        "outputId": "826f6e30-6ad8-49f0-a383-4ef64b3655f9"
      },
      "source": [
        "#Dividing into 0 and 1:\n",
        "def Check(Housing):\n",
        "   if Housing['view'] == '0':\n",
        "      return 0\n",
        "   elif Housing['view'] != '0':\n",
        "      return 1\n",
        "   else:\n",
        "     return 'Missing'\n",
        "\n",
        "Housing['view'] = Housing.apply(Check, axis=1)\n",
        "Housing.head(4)\n"
      ],
      "execution_count": null,
      "outputs": [
        {
          "output_type": "execute_result",
          "data": {
            "text/html": [
              "<div>\n",
              "<style scoped>\n",
              "    .dataframe tbody tr th:only-of-type {\n",
              "        vertical-align: middle;\n",
              "    }\n",
              "\n",
              "    .dataframe tbody tr th {\n",
              "        vertical-align: top;\n",
              "    }\n",
              "\n",
              "    .dataframe thead th {\n",
              "        text-align: right;\n",
              "    }\n",
              "</style>\n",
              "<table border=\"1\" class=\"dataframe\">\n",
              "  <thead>\n",
              "    <tr style=\"text-align: right;\">\n",
              "      <th></th>\n",
              "      <th>price</th>\n",
              "      <th>bedrooms</th>\n",
              "      <th>bathrooms</th>\n",
              "      <th>sqft_living</th>\n",
              "      <th>sqft_lot</th>\n",
              "      <th>floors</th>\n",
              "      <th>waterfront</th>\n",
              "      <th>view</th>\n",
              "      <th>condition</th>\n",
              "      <th>grade</th>\n",
              "      <th>sqft_above</th>\n",
              "      <th>sqft_basement</th>\n",
              "      <th>yr_built</th>\n",
              "      <th>yr_renovated</th>\n",
              "      <th>zipcode</th>\n",
              "      <th>lat</th>\n",
              "      <th>long</th>\n",
              "      <th>sqft_living15</th>\n",
              "      <th>sqft_lot15</th>\n",
              "    </tr>\n",
              "  </thead>\n",
              "  <tbody>\n",
              "    <tr>\n",
              "      <th>0</th>\n",
              "      <td>221900.0</td>\n",
              "      <td>3</td>\n",
              "      <td>1.00</td>\n",
              "      <td>1180</td>\n",
              "      <td>5650</td>\n",
              "      <td>1.0</td>\n",
              "      <td>0</td>\n",
              "      <td>0</td>\n",
              "      <td>3</td>\n",
              "      <td>7</td>\n",
              "      <td>1180</td>\n",
              "      <td>0</td>\n",
              "      <td>1955</td>\n",
              "      <td>0</td>\n",
              "      <td>98178</td>\n",
              "      <td>47.5112</td>\n",
              "      <td>-122.257</td>\n",
              "      <td>1340</td>\n",
              "      <td>5650</td>\n",
              "    </tr>\n",
              "    <tr>\n",
              "      <th>1</th>\n",
              "      <td>538000.0</td>\n",
              "      <td>3</td>\n",
              "      <td>2.25</td>\n",
              "      <td>2570</td>\n",
              "      <td>7242</td>\n",
              "      <td>2.0</td>\n",
              "      <td>0</td>\n",
              "      <td>0</td>\n",
              "      <td>3</td>\n",
              "      <td>7</td>\n",
              "      <td>2170</td>\n",
              "      <td>400</td>\n",
              "      <td>1951</td>\n",
              "      <td>1</td>\n",
              "      <td>98125</td>\n",
              "      <td>47.7210</td>\n",
              "      <td>-122.319</td>\n",
              "      <td>1690</td>\n",
              "      <td>7639</td>\n",
              "    </tr>\n",
              "    <tr>\n",
              "      <th>2</th>\n",
              "      <td>180000.0</td>\n",
              "      <td>2</td>\n",
              "      <td>1.00</td>\n",
              "      <td>770</td>\n",
              "      <td>10000</td>\n",
              "      <td>1.0</td>\n",
              "      <td>0</td>\n",
              "      <td>0</td>\n",
              "      <td>3</td>\n",
              "      <td>6</td>\n",
              "      <td>770</td>\n",
              "      <td>0</td>\n",
              "      <td>1933</td>\n",
              "      <td>0</td>\n",
              "      <td>98028</td>\n",
              "      <td>47.7379</td>\n",
              "      <td>-122.233</td>\n",
              "      <td>2720</td>\n",
              "      <td>8062</td>\n",
              "    </tr>\n",
              "    <tr>\n",
              "      <th>3</th>\n",
              "      <td>604000.0</td>\n",
              "      <td>4</td>\n",
              "      <td>3.00</td>\n",
              "      <td>1960</td>\n",
              "      <td>5000</td>\n",
              "      <td>1.0</td>\n",
              "      <td>0</td>\n",
              "      <td>0</td>\n",
              "      <td>5</td>\n",
              "      <td>7</td>\n",
              "      <td>1050</td>\n",
              "      <td>910</td>\n",
              "      <td>1965</td>\n",
              "      <td>0</td>\n",
              "      <td>98136</td>\n",
              "      <td>47.5208</td>\n",
              "      <td>-122.393</td>\n",
              "      <td>1360</td>\n",
              "      <td>5000</td>\n",
              "    </tr>\n",
              "  </tbody>\n",
              "</table>\n",
              "</div>"
            ],
            "text/plain": [
              "      price  bedrooms  bathrooms  ...     long  sqft_living15  sqft_lot15\n",
              "0  221900.0         3       1.00  ... -122.257           1340        5650\n",
              "1  538000.0         3       2.25  ... -122.319           1690        7639\n",
              "2  180000.0         2       1.00  ... -122.233           2720        8062\n",
              "3  604000.0         4       3.00  ... -122.393           1360        5000\n",
              "\n",
              "[4 rows x 19 columns]"
            ]
          },
          "metadata": {},
          "execution_count": 21
        }
      ]
    },
    {
      "cell_type": "code",
      "metadata": {
        "colab": {
          "base_uri": "https://localhost:8080/",
          "height": 316
        },
        "id": "UOY3cvAoRJiC",
        "outputId": "1c6e556a-44a2-49c4-bf0f-68b20d214945"
      },
      "source": [
        "#Viewing the Distribution:\n",
        "View = Housing['view'].value_counts()\n",
        "View\n",
        "# 0: 19,485     1: 2,122\n",
        "\n",
        "#Visualizing the information:\n",
        "sns.set(font_scale=1.2)\n",
        "Housing['view'].value_counts().plot(kind='bar', figsize=(5, 4), rot=0, color= ('C7','C8'))\n",
        "plt.xlabel(\"Viewed/Not Viewed\", labelpad=10)\n",
        "plt.ylabel(\"Frequency\", labelpad=10)\n",
        "plt.title(\"Units Viewed Status\", y=1.02);\n"
      ],
      "execution_count": null,
      "outputs": [
        {
          "output_type": "display_data",
          "data": {
            "image/png": "[encoded data removed]",
            "text/plain": [
              "<Figure size 360x288 with 1 Axes>"
            ]
          },
          "metadata": {}
        }
      ]
    },
    {
      "cell_type": "markdown",
      "metadata": {
        "id": "jTTVIrorclGA"
      },
      "source": [
        "Majority of the Houses have not been viewed"
      ]
    },
    {
      "cell_type": "markdown",
      "metadata": {
        "id": "GZFvX0fcWzB0"
      },
      "source": [
        " -  Distribution of Houses with a view to a waterfront"
      ]
    },
    {
      "cell_type": "code",
      "metadata": {
        "colab": {
          "base_uri": "https://localhost:8080/"
        },
        "id": "e8Fe-_x9VFOG",
        "outputId": "20803f9f-0e60-4edd-ce98-1a56e6573667"
      },
      "source": [
        "#To find out if majority of the houses a waterfront or not:\n",
        "Waterfront = Housing['waterfront'].value_counts(normalize=True)*100\n",
        "Waterfront\n",
        "# 0: 21,444     1:  163\n"
      ],
      "execution_count": null,
      "outputs": [
        {
          "output_type": "execute_result",
          "data": {
            "text/plain": [
              "0    99.245615\n",
              "1     0.754385\n",
              "Name: waterfront, dtype: float64"
            ]
          },
          "metadata": {},
          "execution_count": 23
        }
      ]
    },
    {
      "cell_type": "markdown",
      "metadata": {
        "id": "WUfdb0sIX0pl"
      },
      "source": [
        "99% of the Houses have no view to a waterfront"
      ]
    },
    {
      "cell_type": "markdown",
      "metadata": {
        "id": "l_qirGJXY4qi"
      },
      "source": [
        " -  Overall Condition of the Dwelling units"
      ]
    },
    {
      "cell_type": "code",
      "metadata": {
        "colab": {
          "base_uri": "https://localhost:8080/",
          "height": 451
        },
        "id": "rwnZS_NBVIv0",
        "outputId": "fb974495-b182-4887-a474-0a266aa0df3e"
      },
      "source": [
        "#Viewing the overall condition of dwelling units:\n",
        "Condition = Housing.condition.value_counts().sort_values(ascending=False).head(5)\n",
        "Condition\n",
        "# 3: 14,027   4: 5,678  5: 1,700  2: 172  1: 30\n",
        "\n",
        "#Plotting observations:\n",
        "plt.figure(figsize= (9,7))\n",
        "plt.title('Overall Condition of the Houses')\n",
        "sns.barplot(x=Condition.index, y=Condition, palette='crest');\n"
      ],
      "execution_count": null,
      "outputs": [
        {
          "output_type": "display_data",
          "data": {
            "image/png": "[encoded data removed]",
            "text/plain": [
              "<Figure size 648x504 with 1 Axes>"
            ]
          },
          "metadata": {}
        }
      ]
    },
    {
      "cell_type": "markdown",
      "metadata": {
        "id": "1DlnvzE7gH9O"
      },
      "source": [
        "Most Houses rank 3 in terms of the overall condition"
      ]
    },
    {
      "cell_type": "markdown",
      "metadata": {
        "id": "Y_y2FnXqjOvs"
      },
      "source": [
        " - Descriptive Summary"
      ]
    },
    {
      "cell_type": "code",
      "metadata": {
        "colab": {
          "base_uri": "https://localhost:8080/",
          "height": 320
        },
        "id": "UBsEkROOjUku",
        "outputId": "bda73f76-c6b1-4759-823d-7c23ba2c0914"
      },
      "source": [
        "#A descriptive summary of the numerical variables:\n",
        "Housing.describe()"
      ],
      "execution_count": null,
      "outputs": [
        {
          "output_type": "execute_result",
          "data": {
            "text/html": [
              "<div>\n",
              "<style scoped>\n",
              "    .dataframe tbody tr th:only-of-type {\n",
              "        vertical-align: middle;\n",
              "    }\n",
              "\n",
              "    .dataframe tbody tr th {\n",
              "        vertical-align: top;\n",
              "    }\n",
              "\n",
              "    .dataframe thead th {\n",
              "        text-align: right;\n",
              "    }\n",
              "</style>\n",
              "<table border=\"1\" class=\"dataframe\">\n",
              "  <thead>\n",
              "    <tr style=\"text-align: right;\">\n",
              "      <th></th>\n",
              "      <th>price</th>\n",
              "      <th>bedrooms</th>\n",
              "      <th>bathrooms</th>\n",
              "      <th>sqft_living</th>\n",
              "      <th>sqft_lot</th>\n",
              "      <th>floors</th>\n",
              "      <th>waterfront</th>\n",
              "      <th>view</th>\n",
              "      <th>condition</th>\n",
              "      <th>grade</th>\n",
              "      <th>sqft_above</th>\n",
              "      <th>sqft_basement</th>\n",
              "      <th>yr_built</th>\n",
              "      <th>yr_renovated</th>\n",
              "      <th>zipcode</th>\n",
              "      <th>lat</th>\n",
              "      <th>long</th>\n",
              "      <th>sqft_living15</th>\n",
              "      <th>sqft_lot15</th>\n",
              "    </tr>\n",
              "  </thead>\n",
              "  <tbody>\n",
              "    <tr>\n",
              "      <th>count</th>\n",
              "      <td>2.160700e+04</td>\n",
              "      <td>21607.000000</td>\n",
              "      <td>21607.000000</td>\n",
              "      <td>21607.000000</td>\n",
              "      <td>2.160700e+04</td>\n",
              "      <td>21607.000000</td>\n",
              "      <td>21607.000000</td>\n",
              "      <td>21607.000000</td>\n",
              "      <td>21607.000000</td>\n",
              "      <td>21607.000000</td>\n",
              "      <td>21607.000000</td>\n",
              "      <td>21607.000000</td>\n",
              "      <td>21607.000000</td>\n",
              "      <td>21607.000000</td>\n",
              "      <td>21607.000000</td>\n",
              "      <td>21607.000000</td>\n",
              "      <td>21607.000000</td>\n",
              "      <td>21607.000000</td>\n",
              "      <td>21607.000000</td>\n",
              "    </tr>\n",
              "    <tr>\n",
              "      <th>mean</th>\n",
              "      <td>5.400947e+05</td>\n",
              "      <td>3.368955</td>\n",
              "      <td>2.114442</td>\n",
              "      <td>2079.329523</td>\n",
              "      <td>1.509564e+04</td>\n",
              "      <td>1.494169</td>\n",
              "      <td>0.007544</td>\n",
              "      <td>0.098209</td>\n",
              "      <td>3.409404</td>\n",
              "      <td>7.656639</td>\n",
              "      <td>1788.001481</td>\n",
              "      <td>291.328042</td>\n",
              "      <td>1971.005878</td>\n",
              "      <td>0.042209</td>\n",
              "      <td>98077.944370</td>\n",
              "      <td>47.560038</td>\n",
              "      <td>-122.213908</td>\n",
              "      <td>1986.442773</td>\n",
              "      <td>12760.277734</td>\n",
              "    </tr>\n",
              "    <tr>\n",
              "      <th>std</th>\n",
              "      <td>3.672217e+05</td>\n",
              "      <td>0.906248</td>\n",
              "      <td>0.769188</td>\n",
              "      <td>915.222409</td>\n",
              "      <td>4.137813e+04</td>\n",
              "      <td>0.539912</td>\n",
              "      <td>0.086529</td>\n",
              "      <td>0.297604</td>\n",
              "      <td>0.650707</td>\n",
              "      <td>1.175193</td>\n",
              "      <td>826.545238</td>\n",
              "      <td>441.847041</td>\n",
              "      <td>29.371393</td>\n",
              "      <td>0.201069</td>\n",
              "      <td>53.508207</td>\n",
              "      <td>0.138577</td>\n",
              "      <td>0.140828</td>\n",
              "      <td>685.171090</td>\n",
              "      <td>27272.112119</td>\n",
              "    </tr>\n",
              "    <tr>\n",
              "      <th>min</th>\n",
              "      <td>7.500000e+04</td>\n",
              "      <td>0.000000</td>\n",
              "      <td>0.000000</td>\n",
              "      <td>290.000000</td>\n",
              "      <td>5.200000e+02</td>\n",
              "      <td>1.000000</td>\n",
              "      <td>0.000000</td>\n",
              "      <td>0.000000</td>\n",
              "      <td>1.000000</td>\n",
              "      <td>1.000000</td>\n",
              "      <td>290.000000</td>\n",
              "      <td>0.000000</td>\n",
              "      <td>1900.000000</td>\n",
              "      <td>0.000000</td>\n",
              "      <td>98001.000000</td>\n",
              "      <td>47.155900</td>\n",
              "      <td>-122.519000</td>\n",
              "      <td>399.000000</td>\n",
              "      <td>651.000000</td>\n",
              "    </tr>\n",
              "    <tr>\n",
              "      <th>25%</th>\n",
              "      <td>3.215000e+05</td>\n",
              "      <td>3.000000</td>\n",
              "      <td>1.750000</td>\n",
              "      <td>1423.500000</td>\n",
              "      <td>5.040000e+03</td>\n",
              "      <td>1.000000</td>\n",
              "      <td>0.000000</td>\n",
              "      <td>0.000000</td>\n",
              "      <td>3.000000</td>\n",
              "      <td>7.000000</td>\n",
              "      <td>1190.000000</td>\n",
              "      <td>0.000000</td>\n",
              "      <td>1951.000000</td>\n",
              "      <td>0.000000</td>\n",
              "      <td>98033.000000</td>\n",
              "      <td>47.470850</td>\n",
              "      <td>-122.328000</td>\n",
              "      <td>1490.000000</td>\n",
              "      <td>5100.000000</td>\n",
              "    </tr>\n",
              "    <tr>\n",
              "      <th>50%</th>\n",
              "      <td>4.500000e+05</td>\n",
              "      <td>3.000000</td>\n",
              "      <td>2.250000</td>\n",
              "      <td>1910.000000</td>\n",
              "      <td>7.620000e+03</td>\n",
              "      <td>1.500000</td>\n",
              "      <td>0.000000</td>\n",
              "      <td>0.000000</td>\n",
              "      <td>3.000000</td>\n",
              "      <td>7.000000</td>\n",
              "      <td>1560.000000</td>\n",
              "      <td>0.000000</td>\n",
              "      <td>1975.000000</td>\n",
              "      <td>0.000000</td>\n",
              "      <td>98065.000000</td>\n",
              "      <td>47.571800</td>\n",
              "      <td>-122.231000</td>\n",
              "      <td>1840.000000</td>\n",
              "      <td>7620.000000</td>\n",
              "    </tr>\n",
              "    <tr>\n",
              "      <th>75%</th>\n",
              "      <td>6.450000e+05</td>\n",
              "      <td>4.000000</td>\n",
              "      <td>2.500000</td>\n",
              "      <td>2550.000000</td>\n",
              "      <td>1.068850e+04</td>\n",
              "      <td>2.000000</td>\n",
              "      <td>0.000000</td>\n",
              "      <td>0.000000</td>\n",
              "      <td>4.000000</td>\n",
              "      <td>8.000000</td>\n",
              "      <td>2210.000000</td>\n",
              "      <td>560.000000</td>\n",
              "      <td>1997.000000</td>\n",
              "      <td>0.000000</td>\n",
              "      <td>98118.000000</td>\n",
              "      <td>47.678000</td>\n",
              "      <td>-122.125000</td>\n",
              "      <td>2360.000000</td>\n",
              "      <td>10083.000000</td>\n",
              "    </tr>\n",
              "    <tr>\n",
              "      <th>max</th>\n",
              "      <td>7.700000e+06</td>\n",
              "      <td>10.000000</td>\n",
              "      <td>8.000000</td>\n",
              "      <td>12050.000000</td>\n",
              "      <td>1.651359e+06</td>\n",
              "      <td>3.500000</td>\n",
              "      <td>1.000000</td>\n",
              "      <td>1.000000</td>\n",
              "      <td>5.000000</td>\n",
              "      <td>13.000000</td>\n",
              "      <td>8860.000000</td>\n",
              "      <td>4820.000000</td>\n",
              "      <td>2015.000000</td>\n",
              "      <td>1.000000</td>\n",
              "      <td>98199.000000</td>\n",
              "      <td>47.777600</td>\n",
              "      <td>-121.315000</td>\n",
              "      <td>6210.000000</td>\n",
              "      <td>871200.000000</td>\n",
              "    </tr>\n",
              "  </tbody>\n",
              "</table>\n",
              "</div>"
            ],
            "text/plain": [
              "              price      bedrooms  ...  sqft_living15     sqft_lot15\n",
              "count  2.160700e+04  21607.000000  ...   21607.000000   21607.000000\n",
              "mean   5.400947e+05      3.368955  ...    1986.442773   12760.277734\n",
              "std    3.672217e+05      0.906248  ...     685.171090   27272.112119\n",
              "min    7.500000e+04      0.000000  ...     399.000000     651.000000\n",
              "25%    3.215000e+05      3.000000  ...    1490.000000    5100.000000\n",
              "50%    4.500000e+05      3.000000  ...    1840.000000    7620.000000\n",
              "75%    6.450000e+05      4.000000  ...    2360.000000   10083.000000\n",
              "max    7.700000e+06     10.000000  ...    6210.000000  871200.000000\n",
              "\n",
              "[8 rows x 19 columns]"
            ]
          },
          "metadata": {},
          "execution_count": 25
        }
      ]
    },
    {
      "cell_type": "markdown",
      "metadata": {
        "id": "9lmBpQm7juKn"
      },
      "source": [
        "Findings:\n",
        "- 96% of the houses have not undergone any renovations\n",
        "- Most units had not been viewed at all\n",
        "- Majority of the houses rank 3 in terms of overall condition\n",
        "- The average number of bedrooms and bathrooms is 3 and 2 respectively.\n",
        "\n",
        "Recommendation:\n",
        "- Further analysis to be done to establish if there is any relationship between the variables."
      ]
    },
    {
      "cell_type": "markdown",
      "metadata": {
        "id": "mGexxM8uaUx8"
      },
      "source": [
        "2. **Bivariate Analysis**"
      ]
    },
    {
      "cell_type": "markdown",
      "metadata": {
        "id": "AAgqUyXekjwU"
      },
      "source": [
        "This analysis aims to determine whether a statistical association exists between any two given variables."
      ]
    },
    {
      "cell_type": "markdown",
      "metadata": {
        "id": "T72TleMPk92O"
      },
      "source": [
        " - Correlation Test"
      ]
    },
    {
      "cell_type": "code",
      "metadata": {
        "colab": {
          "base_uri": "https://localhost:8080/",
          "height": 537
        },
        "id": "uUDZ51XCksOG",
        "outputId": "2ddb2335-c9e3-4c04-926f-18e795bb0f7d"
      },
      "source": [
        "#To check for correlation between the variables:\n",
        "plt.figure(figsize = (22, 8))\n",
        "Corr = Housing.corr()\n",
        "sns.heatmap(Corr, cmap = 'Greys', annot = True)\n",
        "plt.title('CORRELATION MATRIX', y=1.5)\n",
        "plt.show()"
      ],
      "execution_count": null,
      "outputs": [
        {
          "output_type": "display_data",
          "data": {
            "image/png": "[encoded data removed]",
            "text/plain": [
              "<Figure size 1584x576 with 2 Axes>"
            ]
          },
          "metadata": {}
        }
      ]
    },
    {
      "cell_type": "markdown",
      "metadata": {
        "id": "yt62VFhkmCdF"
      },
      "source": [
        "From the Matrix above, the following features are highly correlated with price;\n",
        "- Sqft_Living (0.70)\n",
        "- Grade (0.67)\n",
        "- Sqft_above (0.61)\n",
        "- Sqft_living15 (0.59)\n",
        "- Bathrooms (0.52)\n",
        "\n",
        "Its Important to note that some of the features above are highly correlated to each other. Precisely;\n",
        "- Bathroom and Sqft_living (0.75)\n",
        "- Sqft_living and Grade (0.76)\n",
        "- Sqft_living and Sqft_above ( 0.88)\n",
        "- Sqft_living and Sqft_living15 (0.76)\n",
        "- Grade and Sqft_above (0.76)\n",
        "- Grade and Sqft_living15 (0.71)\n",
        "- Sqft_above and Sqft_living15 (0.73)\n",
        "- Sqft_lot15 and Sqft_lot (0.72)\n",
        "\n"
      ]
    },
    {
      "cell_type": "code",
      "metadata": {
        "id": "UBNvMwlp2Qpo",
        "colab": {
          "base_uri": "https://localhost:8080/"
        },
        "outputId": "f26db5ce-6b62-4fce-e209-65dd40a95d93"
      },
      "source": [
        "#Viewing how each feature is related to the price of a house:\n",
        "Housing.corr()['price'].sort_values(ascending=False)"
      ],
      "execution_count": null,
      "outputs": [
        {
          "output_type": "execute_result",
          "data": {
            "text/plain": [
              "price            1.000000\n",
              "sqft_living      0.702239\n",
              "grade            0.667242\n",
              "sqft_above       0.605086\n",
              "sqft_living15    0.585039\n",
              "bathrooms        0.524475\n",
              "view             0.358857\n",
              "sqft_basement    0.322678\n",
              "bedrooms         0.315383\n",
              "lat              0.306910\n",
              "waterfront       0.266490\n",
              "floors           0.256386\n",
              "yr_renovated     0.126356\n",
              "sqft_lot         0.088260\n",
              "sqft_lot15       0.080963\n",
              "yr_built         0.053811\n",
              "condition        0.036527\n",
              "long             0.021234\n",
              "zipcode         -0.053093\n",
              "Name: price, dtype: float64"
            ]
          },
          "metadata": {},
          "execution_count": 27
        }
      ]
    },
    {
      "cell_type": "markdown",
      "metadata": {
        "id": "EPthphPUp59K"
      },
      "source": [
        "A value greater than 0.7 indicates a strong positive relationship. From the observations above, Sqft_living makes a good predictor of housing price.\n",
        "\n",
        "Sqft_lot, Yr_built, Long and Sqft_loft15 are poorly related to price.\n",
        "\n"
      ]
    },
    {
      "cell_type": "code",
      "metadata": {
        "colab": {
          "base_uri": "https://localhost:8080/",
          "height": 343
        },
        "id": "CFSV-oE62hAX",
        "outputId": "62633d0b-eaf5-4cad-83ab-f5147454c9c9"
      },
      "source": [
        "#Plotting the relationship between Price and sqft_living:\n",
        "Housing.plot(x = 'sqft_living', y = 'price', kind='scatter')\n",
        "plt.title('Sqft_living over Price')\n",
        "plt.xlabel('Sqft_living')\n",
        "plt.ylabel('Price')\n",
        "plt.show()"
      ],
      "execution_count": null,
      "outputs": [
        {
          "output_type": "stream",
          "name": "stderr",
          "text": [
            "*c* argument looks like a single numeric RGB or RGBA sequence, which should be avoided as value-mapping will have precedence in case its length matches with *x* & *y*.  Please use the *color* keyword-argument or provide a 2-D array with a single row if you intend to specify the same RGB or RGBA value for all points.\n"
          ]
        },
        {
          "output_type": "display_data",
          "data": {
            "image/png": "[encoded data removed]",
            "text/plain": [
              "<Figure size 432x288 with 1 Axes>"
            ]
          },
          "metadata": {}
        }
      ]
    },
    {
      "cell_type": "markdown",
      "metadata": {
        "id": "QtGaY6aGkJPt"
      },
      "source": [
        "The Plot indicates a positive correlation. As the square footage of the house changes so does the Price. Hence their is a strong relationship between change in square footage and Price of a unit"
      ]
    },
    {
      "cell_type": "markdown",
      "metadata": {
        "id": "RidD78OnmJ2I"
      },
      "source": [
        " - Waterfront View and Overall condition ranking"
      ]
    },
    {
      "cell_type": "code",
      "metadata": {
        "colab": {
          "base_uri": "https://localhost:8080/",
          "height": 470
        },
        "id": "lWSzvh2wkxdR",
        "outputId": "2f17647a-3b26-4dbe-a2a6-b535d65b43aa"
      },
      "source": [
        "#To understand the relationship between waterfront view and overall ranking:\n",
        "C=pd.crosstab(index=Housing['waterfront'],columns=Housing['condition'])\n",
        "C.plot.bar(figsize=(12,7), rot=0)"
      ],
      "execution_count": null,
      "outputs": [
        {
          "output_type": "execute_result",
          "data": {
            "text/plain": [
              "<matplotlib.axes._subplots.AxesSubplot at 0x7fdbfb429750>"
            ]
          },
          "metadata": {},
          "execution_count": 29
        },
        {
          "output_type": "display_data",
          "data": {
            "image/png": "[encoded data removed]",
            "text/plain": [
              "<Figure size 864x504 with 1 Axes>"
            ]
          },
          "metadata": {}
        }
      ]
    },
    {
      "cell_type": "markdown",
      "metadata": {
        "id": "0XTpZFMtnZE1"
      },
      "source": [
        "Most of the houses that lack a waterfront view have an overall ranking of 3"
      ]
    },
    {
      "cell_type": "markdown",
      "metadata": {
        "id": "pltaiTElnIqI"
      },
      "source": [
        " - Renovations and Viewings"
      ]
    },
    {
      "cell_type": "code",
      "metadata": {
        "colab": {
          "base_uri": "https://localhost:8080/",
          "height": 470
        },
        "id": "paIIma1TmtwB",
        "outputId": "9bf02afe-9e2c-4c73-9b97-6c68c5d55c70"
      },
      "source": [
        "#To understand the relationship between renovations and  viewership:\n",
        "C=pd.crosstab(index=Housing['view'],columns=Housing['yr_renovated'])\n",
        "C.plot.bar(figsize=(12,7), rot=0)"
      ],
      "execution_count": null,
      "outputs": [
        {
          "output_type": "execute_result",
          "data": {
            "text/plain": [
              "<matplotlib.axes._subplots.AxesSubplot at 0x7fdbfb0e2490>"
            ]
          },
          "metadata": {},
          "execution_count": 30
        },
        {
          "output_type": "display_data",
          "data": {
            "image/png": "[encoded data removed]",
            "text/plain": [
              "<Figure size 864x504 with 1 Axes>"
            ]
          },
          "metadata": {}
        }
      ]
    },
    {
      "cell_type": "markdown",
      "metadata": {
        "id": "AqAa8Xk8nSDa"
      },
      "source": [
        "Houses that have no renovations done lacked viewings too"
      ]
    },
    {
      "cell_type": "markdown",
      "metadata": {
        "id": "PK2q-fpeqDSJ"
      },
      "source": [
        "Recommendation;\n",
        "- During Model training, some of the correlated features need to be dropped to avoid overfitting"
      ]
    },
    {
      "cell_type": "markdown",
      "metadata": {
        "id": "V9zyeBbRlhdL"
      },
      "source": [
        "**Multivariate Analysis**"
      ]
    },
    {
      "cell_type": "markdown",
      "metadata": {
        "id": "oJrUlxlREAI2"
      },
      "source": [
        " More input features often make a predictive modeling task more challenging to model. \n",
        "For the different dimensionality reduction techniques:\n",
        " - Linear discriminant analysis is related to classification problems\n",
        " - Principal Component Analysis is used on unsupervised learning\n",
        "\n",
        "For the housing data, no dimensionality reduction is performed as most of the features are highly correlated hence can easily be dropped\n"
      ]
    },
    {
      "cell_type": "markdown",
      "metadata": {
        "id": "0yhJkntzjB1Z"
      },
      "source": [
        "# **Modelling**"
      ]
    },
    {
      "cell_type": "code",
      "metadata": {
        "id": "xDB4PCUFUXMI"
      },
      "source": [
        "#Importing Libraries:\n",
        "from sklearn.linear_model import LinearRegression, Ridge, RidgeCV, Lasso, LassoCV, ElasticNet, ElasticNetCV\n",
        "from statsmodels.stats.outliers_influence import variance_inflation_factor\n",
        "import statsmodels.formula.api as smf\n",
        "import statsmodels.regression.quantile_regression as Q_reg\n",
        "import scipy as sp"
      ],
      "execution_count": null,
      "outputs": []
    },
    {
      "cell_type": "code",
      "metadata": {
        "colab": {
          "base_uri": "https://localhost:8080/",
          "height": 194
        },
        "id": "l6J6t0Qu9cAc",
        "outputId": "e6a5c3e4-dc87-4e1d-caaa-f7d658bac802"
      },
      "source": [
        "#Creating the modelling dataframe: \n",
        "Housing1 = Housing[['price','bedrooms','bathrooms', 'sqft_living' ,'sqft_lot','floors','waterfront', 'view', 'condition','grade',\n",
        "                 'sqft_above', 'sqft_basement','yr_built', 'yr_renovated', 'zipcode', 'lat','long', 'sqft_living15', 'sqft_lot15']].copy()\n",
        "Housing1.head(4)"
      ],
      "execution_count": null,
      "outputs": [
        {
          "output_type": "execute_result",
          "data": {
            "text/html": [
              "<div>\n",
              "<style scoped>\n",
              "    .dataframe tbody tr th:only-of-type {\n",
              "        vertical-align: middle;\n",
              "    }\n",
              "\n",
              "    .dataframe tbody tr th {\n",
              "        vertical-align: top;\n",
              "    }\n",
              "\n",
              "    .dataframe thead th {\n",
              "        text-align: right;\n",
              "    }\n",
              "</style>\n",
              "<table border=\"1\" class=\"dataframe\">\n",
              "  <thead>\n",
              "    <tr style=\"text-align: right;\">\n",
              "      <th></th>\n",
              "      <th>price</th>\n",
              "      <th>bedrooms</th>\n",
              "      <th>bathrooms</th>\n",
              "      <th>sqft_living</th>\n",
              "      <th>sqft_lot</th>\n",
              "      <th>floors</th>\n",
              "      <th>waterfront</th>\n",
              "      <th>view</th>\n",
              "      <th>condition</th>\n",
              "      <th>grade</th>\n",
              "      <th>sqft_above</th>\n",
              "      <th>sqft_basement</th>\n",
              "      <th>yr_built</th>\n",
              "      <th>yr_renovated</th>\n",
              "      <th>zipcode</th>\n",
              "      <th>lat</th>\n",
              "      <th>long</th>\n",
              "      <th>sqft_living15</th>\n",
              "      <th>sqft_lot15</th>\n",
              "    </tr>\n",
              "  </thead>\n",
              "  <tbody>\n",
              "    <tr>\n",
              "      <th>0</th>\n",
              "      <td>221900.0</td>\n",
              "      <td>3</td>\n",
              "      <td>1.00</td>\n",
              "      <td>1180</td>\n",
              "      <td>5650</td>\n",
              "      <td>1.0</td>\n",
              "      <td>0</td>\n",
              "      <td>0</td>\n",
              "      <td>3</td>\n",
              "      <td>7</td>\n",
              "      <td>1180</td>\n",
              "      <td>0</td>\n",
              "      <td>1955</td>\n",
              "      <td>0</td>\n",
              "      <td>98178</td>\n",
              "      <td>47.5112</td>\n",
              "      <td>-122.257</td>\n",
              "      <td>1340</td>\n",
              "      <td>5650</td>\n",
              "    </tr>\n",
              "    <tr>\n",
              "      <th>1</th>\n",
              "      <td>538000.0</td>\n",
              "      <td>3</td>\n",
              "      <td>2.25</td>\n",
              "      <td>2570</td>\n",
              "      <td>7242</td>\n",
              "      <td>2.0</td>\n",
              "      <td>0</td>\n",
              "      <td>0</td>\n",
              "      <td>3</td>\n",
              "      <td>7</td>\n",
              "      <td>2170</td>\n",
              "      <td>400</td>\n",
              "      <td>1951</td>\n",
              "      <td>1</td>\n",
              "      <td>98125</td>\n",
              "      <td>47.7210</td>\n",
              "      <td>-122.319</td>\n",
              "      <td>1690</td>\n",
              "      <td>7639</td>\n",
              "    </tr>\n",
              "    <tr>\n",
              "      <th>2</th>\n",
              "      <td>180000.0</td>\n",
              "      <td>2</td>\n",
              "      <td>1.00</td>\n",
              "      <td>770</td>\n",
              "      <td>10000</td>\n",
              "      <td>1.0</td>\n",
              "      <td>0</td>\n",
              "      <td>0</td>\n",
              "      <td>3</td>\n",
              "      <td>6</td>\n",
              "      <td>770</td>\n",
              "      <td>0</td>\n",
              "      <td>1933</td>\n",
              "      <td>0</td>\n",
              "      <td>98028</td>\n",
              "      <td>47.7379</td>\n",
              "      <td>-122.233</td>\n",
              "      <td>2720</td>\n",
              "      <td>8062</td>\n",
              "    </tr>\n",
              "    <tr>\n",
              "      <th>3</th>\n",
              "      <td>604000.0</td>\n",
              "      <td>4</td>\n",
              "      <td>3.00</td>\n",
              "      <td>1960</td>\n",
              "      <td>5000</td>\n",
              "      <td>1.0</td>\n",
              "      <td>0</td>\n",
              "      <td>0</td>\n",
              "      <td>5</td>\n",
              "      <td>7</td>\n",
              "      <td>1050</td>\n",
              "      <td>910</td>\n",
              "      <td>1965</td>\n",
              "      <td>0</td>\n",
              "      <td>98136</td>\n",
              "      <td>47.5208</td>\n",
              "      <td>-122.393</td>\n",
              "      <td>1360</td>\n",
              "      <td>5000</td>\n",
              "    </tr>\n",
              "  </tbody>\n",
              "</table>\n",
              "</div>"
            ],
            "text/plain": [
              "      price  bedrooms  bathrooms  ...     long  sqft_living15  sqft_lot15\n",
              "0  221900.0         3       1.00  ... -122.257           1340        5650\n",
              "1  538000.0         3       2.25  ... -122.319           1690        7639\n",
              "2  180000.0         2       1.00  ... -122.233           2720        8062\n",
              "3  604000.0         4       3.00  ... -122.393           1360        5000\n",
              "\n",
              "[4 rows x 19 columns]"
            ]
          },
          "metadata": {},
          "execution_count": 32
        }
      ]
    },
    {
      "cell_type": "markdown",
      "metadata": {
        "id": "bxIYpAe1rEz3"
      },
      "source": [
        "**Multicollinearity**"
      ]
    },
    {
      "cell_type": "markdown",
      "metadata": {
        "id": "GKVnKWwn6QEL"
      },
      "source": [
        "Multicollinearity occurs when the model includes multiple factors \n",
        "that are correlated to each other. It increases the standard errors of the coefficients making some variables insignificantly different form 0.\n"
      ]
    },
    {
      "cell_type": "markdown",
      "metadata": {
        "id": "FpHKuP_57VFW"
      },
      "source": [
        "To avoid redundancy in information, 1 feature out of 2 or more that are highly correlated  need to be removed.\n",
        "Since there is a high level of correlation between Price and Sqft_Living, investigating on how the other features relate to Sqft_living:"
      ]
    },
    {
      "cell_type": "code",
      "metadata": {
        "colab": {
          "base_uri": "https://localhost:8080/"
        },
        "id": "4HHEQym_h2Cr",
        "outputId": "cd48fc82-8f70-462d-db2f-1222323c7a22"
      },
      "source": [
        "#Viewing how each feature is related to Sqft_living:\n",
        "Housing1.corr()['sqft_living'].sort_values(ascending=False)"
      ],
      "execution_count": null,
      "outputs": [
        {
          "output_type": "execute_result",
          "data": {
            "text/plain": [
              "sqft_living      1.000000\n",
              "sqft_above       0.876159\n",
              "grade            0.763628\n",
              "sqft_living15    0.757110\n",
              "bathrooms        0.753997\n",
              "price            0.702239\n",
              "bedrooms         0.592107\n",
              "sqft_basement    0.432361\n",
              "floors           0.353643\n",
              "yr_built         0.318809\n",
              "view             0.270218\n",
              "long             0.240215\n",
              "sqft_lot15       0.179845\n",
              "sqft_lot         0.169570\n",
              "waterfront       0.104252\n",
              "yr_renovated     0.055170\n",
              "lat              0.052288\n",
              "condition       -0.058541\n",
              "zipcode         -0.199910\n",
              "Name: sqft_living, dtype: float64"
            ]
          },
          "metadata": {},
          "execution_count": 33
        }
      ]
    },
    {
      "cell_type": "markdown",
      "metadata": {
        "id": "xnjR-5H1oLj5"
      },
      "source": [
        "Sqft_above, Grade, Sqft_living15, Bathrooms and Bedrooms have a strong relationship with Sqft_living. Since they tend to explain the same variance within the data, the features need to be dropped to avoid building a model with high multicollinearity.\n",
        "\n",
        "Condition and Zipcode have a negative relation with Sqft_living. The 2 columns can also be dropped"
      ]
    },
    {
      "cell_type": "code",
      "metadata": {
        "colab": {
          "base_uri": "https://localhost:8080/",
          "height": 112
        },
        "id": "0SdWOdOehhP0",
        "outputId": "32e88d50-2222-4b8a-8871-7dc0bef06c1b"
      },
      "source": [
        "#Picking features to be used in the model:\n",
        "Final = Housing1[['price','sqft_living', 'sqft_lot', 'waterfront', 'view', 'sqft_basement','yr_renovated', 'sqft_lot15']]\n",
        "Final.head(2)"
      ],
      "execution_count": null,
      "outputs": [
        {
          "output_type": "execute_result",
          "data": {
            "text/html": [
              "<div>\n",
              "<style scoped>\n",
              "    .dataframe tbody tr th:only-of-type {\n",
              "        vertical-align: middle;\n",
              "    }\n",
              "\n",
              "    .dataframe tbody tr th {\n",
              "        vertical-align: top;\n",
              "    }\n",
              "\n",
              "    .dataframe thead th {\n",
              "        text-align: right;\n",
              "    }\n",
              "</style>\n",
              "<table border=\"1\" class=\"dataframe\">\n",
              "  <thead>\n",
              "    <tr style=\"text-align: right;\">\n",
              "      <th></th>\n",
              "      <th>price</th>\n",
              "      <th>sqft_living</th>\n",
              "      <th>sqft_lot</th>\n",
              "      <th>waterfront</th>\n",
              "      <th>view</th>\n",
              "      <th>sqft_basement</th>\n",
              "      <th>yr_renovated</th>\n",
              "      <th>sqft_lot15</th>\n",
              "    </tr>\n",
              "  </thead>\n",
              "  <tbody>\n",
              "    <tr>\n",
              "      <th>0</th>\n",
              "      <td>221900.0</td>\n",
              "      <td>1180</td>\n",
              "      <td>5650</td>\n",
              "      <td>0</td>\n",
              "      <td>0</td>\n",
              "      <td>0</td>\n",
              "      <td>0</td>\n",
              "      <td>5650</td>\n",
              "    </tr>\n",
              "    <tr>\n",
              "      <th>1</th>\n",
              "      <td>538000.0</td>\n",
              "      <td>2570</td>\n",
              "      <td>7242</td>\n",
              "      <td>0</td>\n",
              "      <td>0</td>\n",
              "      <td>400</td>\n",
              "      <td>1</td>\n",
              "      <td>7639</td>\n",
              "    </tr>\n",
              "  </tbody>\n",
              "</table>\n",
              "</div>"
            ],
            "text/plain": [
              "      price  sqft_living  sqft_lot  ...  sqft_basement  yr_renovated  sqft_lot15\n",
              "0  221900.0         1180      5650  ...              0             0        5650\n",
              "1  538000.0         2570      7242  ...            400             1        7639\n",
              "\n",
              "[2 rows x 8 columns]"
            ]
          },
          "metadata": {},
          "execution_count": 34
        }
      ]
    },
    {
      "cell_type": "markdown",
      "metadata": {
        "id": "ZpgEzXW_6wIr"
      },
      "source": [
        "Checking for multiple correlations using:"
      ]
    },
    {
      "cell_type": "markdown",
      "metadata": {
        "id": "YkCrGYrnIOwH"
      },
      "source": [
        "**Variance Inflation Factor**"
      ]
    },
    {
      "cell_type": "code",
      "metadata": {
        "colab": {
          "base_uri": "https://localhost:8080/",
          "height": 269
        },
        "id": "TGluAF2MtXe-",
        "outputId": "903935e4-976e-43b7-db3b-c27314370e21"
      },
      "source": [
        "#The VIF estimates how much the variance of a regression coefficient is inflated due to multicollinearity in the model.\n",
        "# 1 - Not correlated    1-5 - Moderately correlated   5 and Above - Highly correlated\n",
        "#Checking the VIF:\n",
        "\n",
        "independent1 = Final.drop('price', axis = 1)\n",
        "Cor = independent1.corr()\n",
        "pd.DataFrame(np.linalg.inv(Cor.values), index = Cor.index, columns=Cor.columns)\n"
      ],
      "execution_count": null,
      "outputs": [
        {
          "output_type": "execute_result",
          "data": {
            "text/html": [
              "<div>\n",
              "<style scoped>\n",
              "    .dataframe tbody tr th:only-of-type {\n",
              "        vertical-align: middle;\n",
              "    }\n",
              "\n",
              "    .dataframe tbody tr th {\n",
              "        vertical-align: top;\n",
              "    }\n",
              "\n",
              "    .dataframe thead th {\n",
              "        text-align: right;\n",
              "    }\n",
              "</style>\n",
              "<table border=\"1\" class=\"dataframe\">\n",
              "  <thead>\n",
              "    <tr style=\"text-align: right;\">\n",
              "      <th></th>\n",
              "      <th>sqft_living</th>\n",
              "      <th>sqft_lot</th>\n",
              "      <th>waterfront</th>\n",
              "      <th>view</th>\n",
              "      <th>sqft_basement</th>\n",
              "      <th>yr_renovated</th>\n",
              "      <th>sqft_lot15</th>\n",
              "    </tr>\n",
              "  </thead>\n",
              "  <tbody>\n",
              "    <tr>\n",
              "      <th>sqft_living</th>\n",
              "      <td>1.319919</td>\n",
              "      <td>-0.099471</td>\n",
              "      <td>-0.038549</td>\n",
              "      <td>-0.188888</td>\n",
              "      <td>-0.511436</td>\n",
              "      <td>-0.013031</td>\n",
              "      <td>-0.145394</td>\n",
              "    </tr>\n",
              "    <tr>\n",
              "      <th>sqft_lot</th>\n",
              "      <td>-0.099471</td>\n",
              "      <td>2.072964</td>\n",
              "      <td>0.016471</td>\n",
              "      <td>-0.035982</td>\n",
              "      <td>0.046735</td>\n",
              "      <td>-0.000541</td>\n",
              "      <td>-1.469110</td>\n",
              "    </tr>\n",
              "    <tr>\n",
              "      <th>waterfront</th>\n",
              "      <td>-0.038549</td>\n",
              "      <td>0.016471</td>\n",
              "      <td>1.081994</td>\n",
              "      <td>-0.270701</td>\n",
              "      <td>0.008977</td>\n",
              "      <td>-0.073928</td>\n",
              "      <td>-0.020561</td>\n",
              "    </tr>\n",
              "    <tr>\n",
              "      <th>view</th>\n",
              "      <td>-0.188888</td>\n",
              "      <td>-0.035982</td>\n",
              "      <td>-0.270701</td>\n",
              "      <td>1.191101</td>\n",
              "      <td>-0.218793</td>\n",
              "      <td>-0.061221</td>\n",
              "      <td>-0.003734</td>\n",
              "    </tr>\n",
              "    <tr>\n",
              "      <th>sqft_basement</th>\n",
              "      <td>-0.511436</td>\n",
              "      <td>0.046735</td>\n",
              "      <td>0.008977</td>\n",
              "      <td>-0.218793</td>\n",
              "      <td>1.282257</td>\n",
              "      <td>-0.043825</td>\n",
              "      <td>0.054026</td>\n",
              "    </tr>\n",
              "    <tr>\n",
              "      <th>yr_renovated</th>\n",
              "      <td>-0.013031</td>\n",
              "      <td>-0.000541</td>\n",
              "      <td>-0.073928</td>\n",
              "      <td>-0.061221</td>\n",
              "      <td>-0.043825</td>\n",
              "      <td>1.016531</td>\n",
              "      <td>0.001330</td>\n",
              "    </tr>\n",
              "    <tr>\n",
              "      <th>sqft_lot15</th>\n",
              "      <td>-0.145394</td>\n",
              "      <td>-1.469110</td>\n",
              "      <td>-0.020561</td>\n",
              "      <td>-0.003734</td>\n",
              "      <td>0.054026</td>\n",
              "      <td>0.001330</td>\n",
              "      <td>2.080857</td>\n",
              "    </tr>\n",
              "  </tbody>\n",
              "</table>\n",
              "</div>"
            ],
            "text/plain": [
              "               sqft_living  sqft_lot  ...  yr_renovated  sqft_lot15\n",
              "sqft_living       1.319919 -0.099471  ...     -0.013031   -0.145394\n",
              "sqft_lot         -0.099471  2.072964  ...     -0.000541   -1.469110\n",
              "waterfront       -0.038549  0.016471  ...     -0.073928   -0.020561\n",
              "view             -0.188888 -0.035982  ...     -0.061221   -0.003734\n",
              "sqft_basement    -0.511436  0.046735  ...     -0.043825    0.054026\n",
              "yr_renovated     -0.013031 -0.000541  ...      1.016531    0.001330\n",
              "sqft_lot15       -0.145394 -1.469110  ...      0.001330    2.080857\n",
              "\n",
              "[7 rows x 7 columns]"
            ]
          },
          "metadata": {},
          "execution_count": 35
        }
      ]
    },
    {
      "cell_type": "markdown",
      "metadata": {
        "id": "pM56HJ7duitN"
      },
      "source": [
        "The more the VIF increases, the less reliable the regression results will be. A VIF above 5 indicates high correlation.\n",
        "From the table above, the highest factor is that of 2.0"
      ]
    },
    {
      "cell_type": "code",
      "metadata": {
        "colab": {
          "base_uri": "https://localhost:8080/",
          "height": 269
        },
        "id": "7IVUFl8eLSSv",
        "outputId": "7d06ff3c-58c6-4a7e-e0a2-84fa4fed736c"
      },
      "source": [
        "# Alternaltevly, defining the independent variables:\n",
        "Independents = Final[['sqft_living', 'sqft_lot', 'waterfront','view', 'sqft_basement','yr_renovated', 'sqft_lot15']]\n",
        "  \n",
        "# Creating the VIF dataframe:\n",
        "vif_data = pd.DataFrame()\n",
        "vif_data[\"feature\"] = Independents.columns\n",
        "  \n",
        "#Calculating the VIF for each feature:\n",
        "vif_data[\"VIF\"] = [variance_inflation_factor(Independents.values, i)\n",
        "                          for i in range(len(Independents.columns))]\n",
        "vif_data.round(2)"
      ],
      "execution_count": null,
      "outputs": [
        {
          "output_type": "execute_result",
          "data": {
            "text/html": [
              "<div>\n",
              "<style scoped>\n",
              "    .dataframe tbody tr th:only-of-type {\n",
              "        vertical-align: middle;\n",
              "    }\n",
              "\n",
              "    .dataframe tbody tr th {\n",
              "        vertical-align: top;\n",
              "    }\n",
              "\n",
              "    .dataframe thead th {\n",
              "        text-align: right;\n",
              "    }\n",
              "</style>\n",
              "<table border=\"1\" class=\"dataframe\">\n",
              "  <thead>\n",
              "    <tr style=\"text-align: right;\">\n",
              "      <th></th>\n",
              "      <th>feature</th>\n",
              "      <th>VIF</th>\n",
              "    </tr>\n",
              "  </thead>\n",
              "  <tbody>\n",
              "    <tr>\n",
              "      <th>0</th>\n",
              "      <td>sqft_living</td>\n",
              "      <td>2.15</td>\n",
              "    </tr>\n",
              "    <tr>\n",
              "      <th>1</th>\n",
              "      <td>sqft_lot</td>\n",
              "      <td>2.35</td>\n",
              "    </tr>\n",
              "    <tr>\n",
              "      <th>2</th>\n",
              "      <td>waterfront</td>\n",
              "      <td>1.09</td>\n",
              "    </tr>\n",
              "    <tr>\n",
              "      <th>3</th>\n",
              "      <td>view</td>\n",
              "      <td>1.31</td>\n",
              "    </tr>\n",
              "    <tr>\n",
              "      <th>4</th>\n",
              "      <td>sqft_basement</td>\n",
              "      <td>1.81</td>\n",
              "    </tr>\n",
              "    <tr>\n",
              "      <th>5</th>\n",
              "      <td>yr_renovated</td>\n",
              "      <td>1.06</td>\n",
              "    </tr>\n",
              "    <tr>\n",
              "      <th>6</th>\n",
              "      <td>sqft_lot15</td>\n",
              "      <td>2.53</td>\n",
              "    </tr>\n",
              "  </tbody>\n",
              "</table>\n",
              "</div>"
            ],
            "text/plain": [
              "         feature   VIF\n",
              "0    sqft_living  2.15\n",
              "1       sqft_lot  2.35\n",
              "2     waterfront  1.09\n",
              "3           view  1.31\n",
              "4  sqft_basement  1.81\n",
              "5   yr_renovated  1.06\n",
              "6     sqft_lot15  2.53"
            ]
          },
          "metadata": {},
          "execution_count": 36
        }
      ]
    },
    {
      "cell_type": "markdown",
      "metadata": {
        "id": "-Ua7s-Mcpwgs"
      },
      "source": [
        "None of the features above have a VIF greater than 4"
      ]
    },
    {
      "cell_type": "markdown",
      "metadata": {
        "id": "thts7O-fLH_Y"
      },
      "source": [
        "**Model Training**"
      ]
    },
    {
      "cell_type": "code",
      "metadata": {
        "colab": {
          "base_uri": "https://localhost:8080/",
          "height": 174
        },
        "id": "kL8wsU1ANVLn",
        "outputId": "f8cefb15-ee49-44be-d58a-4a6ee66b9db3"
      },
      "source": [
        "#Creating a dataframe for from the Final Dataframe:\n",
        "Model = Final[['price','sqft_living', 'sqft_lot', 'waterfront', 'view', 'sqft_basement','yr_renovated', 'sqft_lot15']].copy()\n",
        "Model.head(4)"
      ],
      "execution_count": null,
      "outputs": [
        {
          "output_type": "execute_result",
          "data": {
            "text/html": [
              "<div>\n",
              "<style scoped>\n",
              "    .dataframe tbody tr th:only-of-type {\n",
              "        vertical-align: middle;\n",
              "    }\n",
              "\n",
              "    .dataframe tbody tr th {\n",
              "        vertical-align: top;\n",
              "    }\n",
              "\n",
              "    .dataframe thead th {\n",
              "        text-align: right;\n",
              "    }\n",
              "</style>\n",
              "<table border=\"1\" class=\"dataframe\">\n",
              "  <thead>\n",
              "    <tr style=\"text-align: right;\">\n",
              "      <th></th>\n",
              "      <th>price</th>\n",
              "      <th>sqft_living</th>\n",
              "      <th>sqft_lot</th>\n",
              "      <th>waterfront</th>\n",
              "      <th>view</th>\n",
              "      <th>sqft_basement</th>\n",
              "      <th>yr_renovated</th>\n",
              "      <th>sqft_lot15</th>\n",
              "    </tr>\n",
              "  </thead>\n",
              "  <tbody>\n",
              "    <tr>\n",
              "      <th>0</th>\n",
              "      <td>221900.0</td>\n",
              "      <td>1180</td>\n",
              "      <td>5650</td>\n",
              "      <td>0</td>\n",
              "      <td>0</td>\n",
              "      <td>0</td>\n",
              "      <td>0</td>\n",
              "      <td>5650</td>\n",
              "    </tr>\n",
              "    <tr>\n",
              "      <th>1</th>\n",
              "      <td>538000.0</td>\n",
              "      <td>2570</td>\n",
              "      <td>7242</td>\n",
              "      <td>0</td>\n",
              "      <td>0</td>\n",
              "      <td>400</td>\n",
              "      <td>1</td>\n",
              "      <td>7639</td>\n",
              "    </tr>\n",
              "    <tr>\n",
              "      <th>2</th>\n",
              "      <td>180000.0</td>\n",
              "      <td>770</td>\n",
              "      <td>10000</td>\n",
              "      <td>0</td>\n",
              "      <td>0</td>\n",
              "      <td>0</td>\n",
              "      <td>0</td>\n",
              "      <td>8062</td>\n",
              "    </tr>\n",
              "    <tr>\n",
              "      <th>3</th>\n",
              "      <td>604000.0</td>\n",
              "      <td>1960</td>\n",
              "      <td>5000</td>\n",
              "      <td>0</td>\n",
              "      <td>0</td>\n",
              "      <td>910</td>\n",
              "      <td>0</td>\n",
              "      <td>5000</td>\n",
              "    </tr>\n",
              "  </tbody>\n",
              "</table>\n",
              "</div>"
            ],
            "text/plain": [
              "      price  sqft_living  sqft_lot  ...  sqft_basement  yr_renovated  sqft_lot15\n",
              "0  221900.0         1180      5650  ...              0             0        5650\n",
              "1  538000.0         2570      7242  ...            400             1        7639\n",
              "2  180000.0          770     10000  ...              0             0        8062\n",
              "3  604000.0         1960      5000  ...            910             0        5000\n",
              "\n",
              "[4 rows x 8 columns]"
            ]
          },
          "metadata": {},
          "execution_count": 37
        }
      ]
    },
    {
      "cell_type": "markdown",
      "metadata": {
        "id": "D6nTLVYxOkit"
      },
      "source": [
        "Label Encoding"
      ]
    },
    {
      "cell_type": "code",
      "metadata": {
        "colab": {
          "base_uri": "https://localhost:8080/",
          "height": 174
        },
        "id": "CRm_bxjuLMfH",
        "outputId": "d9af1905-0777-4385-e740-a0f7d60ff446"
      },
      "source": [
        "#Encoding the Categorical Variables to a machine readable format:\n",
        "le = LabelEncoder()\n",
        "Model['waterfront'] = le.fit_transform (Model['waterfront'])\n",
        "Model['view'] = le.fit_transform (Model['view'])\n",
        "Model['yr_renovated'] = le.fit_transform (Model['yr_renovated'])\n",
        "Model.head(4)"
      ],
      "execution_count": null,
      "outputs": [
        {
          "output_type": "execute_result",
          "data": {
            "text/html": [
              "<div>\n",
              "<style scoped>\n",
              "    .dataframe tbody tr th:only-of-type {\n",
              "        vertical-align: middle;\n",
              "    }\n",
              "\n",
              "    .dataframe tbody tr th {\n",
              "        vertical-align: top;\n",
              "    }\n",
              "\n",
              "    .dataframe thead th {\n",
              "        text-align: right;\n",
              "    }\n",
              "</style>\n",
              "<table border=\"1\" class=\"dataframe\">\n",
              "  <thead>\n",
              "    <tr style=\"text-align: right;\">\n",
              "      <th></th>\n",
              "      <th>price</th>\n",
              "      <th>sqft_living</th>\n",
              "      <th>sqft_lot</th>\n",
              "      <th>waterfront</th>\n",
              "      <th>view</th>\n",
              "      <th>sqft_basement</th>\n",
              "      <th>yr_renovated</th>\n",
              "      <th>sqft_lot15</th>\n",
              "    </tr>\n",
              "  </thead>\n",
              "  <tbody>\n",
              "    <tr>\n",
              "      <th>0</th>\n",
              "      <td>221900.0</td>\n",
              "      <td>1180</td>\n",
              "      <td>5650</td>\n",
              "      <td>0</td>\n",
              "      <td>0</td>\n",
              "      <td>0</td>\n",
              "      <td>0</td>\n",
              "      <td>5650</td>\n",
              "    </tr>\n",
              "    <tr>\n",
              "      <th>1</th>\n",
              "      <td>538000.0</td>\n",
              "      <td>2570</td>\n",
              "      <td>7242</td>\n",
              "      <td>0</td>\n",
              "      <td>0</td>\n",
              "      <td>400</td>\n",
              "      <td>1</td>\n",
              "      <td>7639</td>\n",
              "    </tr>\n",
              "    <tr>\n",
              "      <th>2</th>\n",
              "      <td>180000.0</td>\n",
              "      <td>770</td>\n",
              "      <td>10000</td>\n",
              "      <td>0</td>\n",
              "      <td>0</td>\n",
              "      <td>0</td>\n",
              "      <td>0</td>\n",
              "      <td>8062</td>\n",
              "    </tr>\n",
              "    <tr>\n",
              "      <th>3</th>\n",
              "      <td>604000.0</td>\n",
              "      <td>1960</td>\n",
              "      <td>5000</td>\n",
              "      <td>0</td>\n",
              "      <td>0</td>\n",
              "      <td>910</td>\n",
              "      <td>0</td>\n",
              "      <td>5000</td>\n",
              "    </tr>\n",
              "  </tbody>\n",
              "</table>\n",
              "</div>"
            ],
            "text/plain": [
              "      price  sqft_living  sqft_lot  ...  sqft_basement  yr_renovated  sqft_lot15\n",
              "0  221900.0         1180      5650  ...              0             0        5650\n",
              "1  538000.0         2570      7242  ...            400             1        7639\n",
              "2  180000.0          770     10000  ...              0             0        8062\n",
              "3  604000.0         1960      5000  ...            910             0        5000\n",
              "\n",
              "[4 rows x 8 columns]"
            ]
          },
          "metadata": {},
          "execution_count": 38
        }
      ]
    },
    {
      "cell_type": "markdown",
      "metadata": {
        "id": "EI5ylrR0Xy5v"
      },
      "source": [
        "1. **Multiple Linear Regression** {Baseline Model}"
      ]
    },
    {
      "cell_type": "markdown",
      "metadata": {
        "id": "8adkOTLZX_fq"
      },
      "source": [
        "Multiple linear regression models the relationship between two or more features and a target by fitting a linear equation to observed data."
      ]
    },
    {
      "cell_type": "code",
      "metadata": {
        "colab": {
          "base_uri": "https://localhost:8080/"
        },
        "id": "4DscYwoB1Fvc",
        "outputId": "e391de46-6184-46fe-9029-97c5ff229942"
      },
      "source": [
        "#Creating the Variables:\n",
        "X = Model.drop('price', axis=1)\n",
        "y = Model['price']\n",
        "\n",
        "#Splitting the dataset:\n",
        "X_train, X_test, y_train, y_test = train_test_split(X, y, test_size=0.2, random_state= 0)\n",
        "print(X_train.shape, X_test.shape, y_train.shape, y_test.shape)\n"
      ],
      "execution_count": null,
      "outputs": [
        {
          "output_type": "stream",
          "name": "stdout",
          "text": [
            "(17285, 7) (4322, 7) (17285,) (4322,)\n"
          ]
        }
      ]
    },
    {
      "cell_type": "code",
      "metadata": {
        "id": "xYWeMBCbYxRh"
      },
      "source": [
        "#Performing feature scaling:\n",
        "sc = StandardScaler()\n",
        "X_train = sc.fit_transform(X_train)\n",
        "X_test = sc.transform(X_test)\n",
        "\n",
        "#Model Selection:\n",
        "model = LinearRegression()\n",
        "\n",
        "#Fitting the model:\n",
        "model.fit(X_train,y_train )\n",
        "\n",
        "#Applying the trained model to make a prediction:\n",
        "y_pred = model.predict(X_test)"
      ],
      "execution_count": null,
      "outputs": []
    },
    {
      "cell_type": "code",
      "metadata": {
        "colab": {
          "base_uri": "https://localhost:8080/"
        },
        "id": "tbf9vzDKwkIV",
        "outputId": "d603e836-0ccf-4d65-9b0b-5b420c75f63f"
      },
      "source": [
        "#Viewing the Predictions:\n",
        "y_pred"
      ],
      "execution_count": null,
      "outputs": [
        {
          "output_type": "execute_result",
          "data": {
            "text/plain": [
              "array([279924.77349581, 585614.47567336, 395513.78246971, ...,\n",
              "       475631.73832755, 367074.01144422, 849046.11501928])"
            ]
          },
          "metadata": {},
          "execution_count": 41
        }
      ]
    },
    {
      "cell_type": "code",
      "metadata": {
        "colab": {
          "base_uri": "https://localhost:8080/"
        },
        "id": "sVfOGozZJi4-",
        "outputId": "bc6a144a-a79e-41ac-b37d-430374fa3b4a"
      },
      "source": [
        "#Viewing the actual values:\n",
        "y_test"
      ],
      "execution_count": null,
      "outputs": [
        {
          "output_type": "execute_result",
          "data": {
            "text/plain": [
              "9791      216500.0\n",
              "10281     451000.0\n",
              "19860     293467.0\n",
              "20060     379950.0\n",
              "21204    1060000.0\n",
              "           ...    \n",
              "17764     583500.0\n",
              "13213     675000.0\n",
              "8108      395000.0\n",
              "19728     489000.0\n",
              "16125     800000.0\n",
              "Name: price, Length: 4322, dtype: float64"
            ]
          },
          "metadata": {},
          "execution_count": 42
        }
      ]
    },
    {
      "cell_type": "markdown",
      "metadata": {
        "id": "28B3ZfIQYS29"
      },
      "source": [
        "Performance Evaluation"
      ]
    },
    {
      "cell_type": "code",
      "metadata": {
        "colab": {
          "base_uri": "https://localhost:8080/"
        },
        "id": "98YoI0Y0ANg3",
        "outputId": "0824fb6b-aa09-4ad5-877a-8849213fb9c4"
      },
      "source": [
        "#Checking the coefficients:\n",
        "Ref_Coef = model.coef_\n",
        "Lin_Summ = pd.DataFrame(data =X.columns, columns =['Features'])\n",
        "Lin_Summ['Coefficients'] = np.round(model.coef_, 5)\n",
        "print(Lin_Summ)\n",
        "\n",
        "#Checking for the MSE and Accuracy:\n",
        "Lin = metrics.r2_score(y_test, y_pred)\n",
        "print('Intercept: ', model.intercept_)\n",
        "print('Mean squared error (MSE): %.5f' % mean_squared_error(y_test, y_pred ))\n",
        "print('Mean Absolute Error (MAE):', metrics.mean_absolute_error(y_test, y_pred))  \n",
        "print('Root Mean Squared Error (RMSE) :', np.sqrt(metrics.mean_squared_error(y_test, y_pred)))\n",
        "print('Accuracy', (model.score(X_test, y_test )* 100).round(2))\n"
      ],
      "execution_count": null,
      "outputs": [
        {
          "output_type": "stream",
          "name": "stdout",
          "text": [
            "        Features  Coefficients\n",
            "0    sqft_living  241815.35959\n",
            "1       sqft_lot    1011.02781\n",
            "2     waterfront   63613.57099\n",
            "3           view   48616.81581\n",
            "4  sqft_basement   -6943.88777\n",
            "5   yr_renovated   23551.53024\n",
            "6     sqft_lot15  -18722.14454\n",
            "Intercept:  539627.6988140006\n",
            "Mean squared error (MSE): 60074661794.77185\n",
            "Mean Absolute Error (MAE): 163961.35447201607\n",
            "Root Mean Squared Error (RMSE) : 245101.32964709075\n",
            "Accuracy 55.3\n"
          ]
        }
      ]
    },
    {
      "cell_type": "markdown",
      "metadata": {
        "id": "5b5QRTcqZPMQ"
      },
      "source": [
        "**Findings and Recommendations**:\n",
        "\n",
        " - The sign of the Coefficient tells  whether there is a positive or negative correlation between the independent and the dependent variable. \n",
        " \n",
        " A positive coefficient indicates that as the value of the independent variable increases, the mean of the dependent variable also tends to increase. A negative coefficient suggests that as the independent variable increases, the dependent variable tends to decrease.\n",
        " \n",
        " From the Coefficients above: Sqft_basement and Sqft_lot15 have negative coefficients suggesting an inverse relation\n",
        "\n",
        " - The high MSE value of 60,074,661,794 Suggests that the regression model is not a good fit since this metric evaluates how close estimates are to the actual value. The lower the value, the closer the estimate is to the actual figure\n",
        "\n",
        " - To discourage complexity in the model and improve accuracy, regularization is encouraged"
      ]
    },
    {
      "cell_type": "markdown",
      "metadata": {
        "id": "_Z-n5t2sm5p7"
      },
      "source": [
        "**Residual plot**\n"
      ]
    },
    {
      "cell_type": "code",
      "metadata": {
        "colab": {
          "base_uri": "https://localhost:8080/"
        },
        "id": "uappAOooiamc",
        "outputId": "394efcc4-a717-4cf2-fea6-a1114151f822"
      },
      "source": [
        "#To find the residual:\n",
        "residuals = y_test-y_pred\n",
        "residuals\n",
        "\n",
        "#Describe the residual:\n",
        "pd.DataFrame(residuals).describe()\n",
        "residuals.mean()"
      ],
      "execution_count": null,
      "outputs": [
        {
          "output_type": "execute_result",
          "data": {
            "text/plain": [
              "4187.889071229548"
            ]
          },
          "metadata": {},
          "execution_count": 44
        }
      ]
    },
    {
      "cell_type": "code",
      "metadata": {
        "colab": {
          "base_uri": "https://localhost:8080/",
          "height": 306
        },
        "id": "BxU1imju57GF",
        "outputId": "9f20b2e8-2596-4c2a-cecb-79926450ed54"
      },
      "source": [
        "#Plotting the residual plot: \n",
        "plt.scatter(y_pred, residuals, color='black')\n",
        "plt.ylabel('residual')\n",
        "plt.xlabel('fitted values')\n",
        "plt.axhline(y= residuals.mean(), color='yellow', linewidth=1)\n",
        "plt.title('Residual Plot')\n",
        "plt.show()"
      ],
      "execution_count": null,
      "outputs": [
        {
          "output_type": "display_data",
          "data": {
            "image/png": "[encoded data removed]",
            "text/plain": [
              "<Figure size 432x288 with 1 Axes>"
            ]
          },
          "metadata": {}
        }
      ]
    },
    {
      "cell_type": "markdown",
      "metadata": {
        "id": "esInt98zq2td"
      },
      "source": [
        "Residuals are how much the predicted values differ from the actual values. It's calculated as actual values less the predicted values. \n",
        "\n",
        "From the Plot above: \n",
        "\n",
        "-  A clear pattern exists in the plot showing signs of non-linearity in the data.\n"
      ]
    },
    {
      "cell_type": "markdown",
      "metadata": {
        "id": "mmqPa7hQtruG"
      },
      "source": [
        "**Bartlett's Test (heteroskedasticity testing)**"
      ]
    },
    {
      "cell_type": "code",
      "metadata": {
        "colab": {
          "base_uri": "https://localhost:8080/"
        },
        "id": "SB3Z-lF7ndxn",
        "outputId": "6c55567c-8c7f-44c2-e100-d095ee8ddab2"
      },
      "source": [
        "#Using Barlett test to test if the variances are equal for all samples:\n",
        "test_result, p_value = sp.stats.bartlett(y_pred, residuals)\n",
        "\n",
        "degree_of_freedom = len(y_pred)-1\n",
        "probability = 1 - p_value\n",
        "\n",
        "critical_value = sp.stats.chi2.ppf(probability, degree_of_freedom)\n",
        "\n",
        "if (test_result > critical_value):\n",
        "  print('the variances are unequal, and the model should be reassessed')\n",
        "else:\n",
        "  print('the variances are homogeneous!')\n"
      ],
      "execution_count": null,
      "outputs": [
        {
          "output_type": "stream",
          "name": "stdout",
          "text": [
            "the variances are homogeneous!\n"
          ]
        }
      ]
    },
    {
      "cell_type": "markdown",
      "metadata": {
        "id": "IeRibQYPt9QQ"
      },
      "source": [
        "The test checks that the assumption of equal variances is true before running certain statistical tests. \n",
        "\n",
        "From the test, the variances are homogeneous hence equal and the model does not need futher assessment"
      ]
    },
    {
      "cell_type": "markdown",
      "metadata": {
        "id": "zZM5cgl21k_D"
      },
      "source": [
        "2. **Ridge Regression (L2 Regularization)**"
      ]
    },
    {
      "cell_type": "markdown",
      "metadata": {
        "id": "S_qKw_-5Qcq8"
      },
      "source": [
        "This regression penalises the model based on the sum of the squared coefficient values. The more the alpha increases, the more the  coefficients shrink towards Zero but never Zero preventing them from being removed from the model.\n",
        "\n"
      ]
    },
    {
      "cell_type": "code",
      "metadata": {
        "colab": {
          "base_uri": "https://localhost:8080/"
        },
        "id": "x3j0mUX2lWUj",
        "outputId": "97641b11-7546-4119-f517-f803f8285ebb"
      },
      "source": [
        "#Creating the Variables:\n",
        "X = Model.drop('price', axis=1)\n",
        "y = Model['price']\n",
        "\n",
        "#Splitting the dataset:\n",
        "X_train, X_test, y_train, y_test = train_test_split(X, y, test_size=0.2, random_state= 0)\n",
        "print(X_train.shape, X_test.shape, y_train.shape, y_test.shape)\n"
      ],
      "execution_count": null,
      "outputs": [
        {
          "output_type": "stream",
          "name": "stdout",
          "text": [
            "(17285, 7) (4322, 7) (17285,) (4322,)\n"
          ]
        }
      ]
    },
    {
      "cell_type": "code",
      "metadata": {
        "id": "hAYlxNFG2hDg"
      },
      "source": [
        "#Choosing optimal parameters:\n",
        "ridge = Ridge(normalize=True)\n",
        "\n",
        "param_grid = [{'alpha':[1000, 100, 10, 1, 0.1, 0.01, 0.001]}]\n",
        "               \n",
        "\n",
        "#Creating grid search using 5_fold cross validation:\n",
        "clf = GridSearchCV(ridge, param_grid = param_grid, cv=5, scoring = 'neg_mean_squared_error', n_jobs = 1, refit = True)\n",
        "\n",
        "#Fitting the grid search:\n",
        "best_clf = clf.fit(X_train, y_train)\n",
        "\n",
        "#Predicting values based on the new parameters:\n",
        "y_pred = best_clf.predict(X_test)"
      ],
      "execution_count": null,
      "outputs": []
    },
    {
      "cell_type": "code",
      "metadata": {
        "colab": {
          "base_uri": "https://localhost:8080/"
        },
        "id": "zv0j3hJN2oTW",
        "outputId": "16de0951-297b-42ae-a860-c79b5b80f0f4"
      },
      "source": [
        "#Checking the accuracy and the best hyperparameter:\n",
        "print('Best Alpha:', best_clf.best_estimator_.get_params()['alpha'])\n",
        "print('Mean squared error (MSE): %.5f' % mean_squared_error(y_test, y_pred ))"
      ],
      "execution_count": null,
      "outputs": [
        {
          "output_type": "stream",
          "name": "stdout",
          "text": [
            "Best Alpha: 0.001\n",
            "Mean squared error (MSE): 60075829033.04131\n"
          ]
        }
      ]
    },
    {
      "cell_type": "code",
      "metadata": {
        "colab": {
          "base_uri": "https://localhost:8080/"
        },
        "id": "yFF-MlyV2w5n",
        "outputId": "758ae983-1148-424d-d853-a8aa6e073ea5"
      },
      "source": [
        "#Model Selection using the Above parameters:\n",
        "ridge=Ridge(normalize=True,alpha=0.001)\n",
        "\n",
        "#Fitting the model:\n",
        "ridge.fit(X_train,y_train )"
      ],
      "execution_count": null,
      "outputs": [
        {
          "output_type": "execute_result",
          "data": {
            "text/plain": [
              "Ridge(alpha=0.001, normalize=True)"
            ]
          },
          "metadata": {},
          "execution_count": 50
        }
      ]
    },
    {
      "cell_type": "code",
      "metadata": {
        "colab": {
          "base_uri": "https://localhost:8080/"
        },
        "id": "PI1TU_jX234R",
        "outputId": "14430270-1b93-4ae0-f416-722bac6cb74a"
      },
      "source": [
        "#Checking the coefficients:\n",
        "Rid_Coef = model.coef_\n",
        "Rid_Summ = pd.DataFrame(data =X.columns, columns =['Features'])\n",
        "Rid_Summ['Coefficients'] = np.round(ridge.coef_, 5)\n",
        "print(Rid_Summ)\n",
        "\n",
        "#Checking for the MSE:\n",
        "Ridg = metrics.r2_score(y_test, y_pred)\n",
        "print('Intercept (Constant of the Model): ', ridge.intercept_)\n",
        "print('Mean squared error (MSE): %.5f' % mean_squared_error(y_test, y_pred ))\n",
        "print('Accuracy', ridge.score(X_test, y_test )* 100)"
      ],
      "execution_count": null,
      "outputs": [
        {
          "output_type": "stream",
          "name": "stdout",
          "text": [
            "        Features  Coefficients\n",
            "0    sqft_living     263.96010\n",
            "1       sqft_lot       0.02379\n",
            "2     waterfront  727512.18166\n",
            "3           view  163568.94054\n",
            "4  sqft_basement     -15.28471\n",
            "5   yr_renovated  115677.23545\n",
            "6     sqft_lot15      -0.65876\n",
            "Intercept (Constant of the Model):  -23538.838728714385\n",
            "Mean squared error (MSE): 60075829033.04131\n",
            "Accuracy 55.29983892431749\n"
          ]
        }
      ]
    },
    {
      "cell_type": "markdown",
      "metadata": {
        "id": "vkqJDtRGR5Nr"
      },
      "source": [
        " **Finding**:\n",
        " - Using the Linear model as the baseline, the Ridge MSE of 60,075,829,033 is higher. This suggests that the baseline is doing better than the ridge as the estimates are way further from the actual values. \n",
        "\n",
        " - Being that Ridge does not remove variables with low relationships from the model, the coefficient of Sqft_ lot was brought close to zero. "
      ]
    },
    {
      "cell_type": "markdown",
      "metadata": {
        "id": "VA0aRgpZVub0"
      },
      "source": [
        "**Residual plot**"
      ]
    },
    {
      "cell_type": "code",
      "metadata": {
        "colab": {
          "base_uri": "https://localhost:8080/"
        },
        "id": "QZ-7LydwPkv1",
        "outputId": "9fdc16be-7316-45e6-c4d8-1b9550e38845"
      },
      "source": [
        "#To find the residual:\n",
        "residuals = y_test-y_pred\n",
        "residuals\n",
        "\n",
        "#Describe the residual:\n",
        "pd.DataFrame(residuals).describe()\n",
        "residuals.mean()"
      ],
      "execution_count": null,
      "outputs": [
        {
          "output_type": "execute_result",
          "data": {
            "text/plain": [
              "4192.353751676441"
            ]
          },
          "metadata": {},
          "execution_count": 52
        }
      ]
    },
    {
      "cell_type": "code",
      "metadata": {
        "colab": {
          "base_uri": "https://localhost:8080/",
          "height": 306
        },
        "id": "anSBzSiqPqLL",
        "outputId": "10e81c29-f21e-445b-f75b-a24496a2c4ce"
      },
      "source": [
        "#Plotting the residual plot: \n",
        "plt.scatter(y_pred, residuals, color='black')\n",
        "plt.ylabel('residual')\n",
        "plt.xlabel('fitted values')\n",
        "plt.axhline(y= residuals.mean(), color='yellow', linewidth=1)\n",
        "plt.title('Residual Plot')\n",
        "plt.show()"
      ],
      "execution_count": null,
      "outputs": [
        {
          "output_type": "display_data",
          "data": {
            "image/png": "[encoded data removed]",
            "text/plain": [
              "<Figure size 432x288 with 1 Axes>"
            ]
          },
          "metadata": {}
        }
      ]
    },
    {
      "cell_type": "markdown",
      "metadata": {
        "id": "FV3RBy49V2Ox"
      },
      "source": [
        "**Bartlett's Test (heteroskedasticity testing)**"
      ]
    },
    {
      "cell_type": "code",
      "metadata": {
        "colab": {
          "base_uri": "https://localhost:8080/"
        },
        "id": "74q2xFGaPwY2",
        "outputId": "091dd191-e9c2-4b35-b708-b9c918cb6b4b"
      },
      "source": [
        "#Using Barlett test to test if the variances are equal for all samples:\n",
        "test_result, p_value = sp.stats.bartlett(y_pred, residuals)\n",
        "\n",
        "degree_of_freedom = len(y_pred)-1\n",
        "probability = 1 - p_value\n",
        "\n",
        "critical_value = sp.stats.chi2.ppf(probability, degree_of_freedom)\n",
        "\n",
        "if (test_result > critical_value):\n",
        "  print('the variances are unequal, and the model should be reassessed')\n",
        "else:\n",
        "  print('the variances are homogeneous!')\n"
      ],
      "execution_count": null,
      "outputs": [
        {
          "output_type": "stream",
          "name": "stdout",
          "text": [
            "the variances are homogeneous!\n"
          ]
        }
      ]
    },
    {
      "cell_type": "markdown",
      "metadata": {
        "id": "Rm6ueyE0kcdT"
      },
      "source": [
        "The Residual plot and heteroskedasticity test results are similar to the baseline model"
      ]
    },
    {
      "cell_type": "markdown",
      "metadata": {
        "id": "CAJAP3-VWzo_"
      },
      "source": [
        "3. **Lasso Regression (L1 Regularization)**"
      ]
    },
    {
      "cell_type": "markdown",
      "metadata": {
        "id": "7iU37COHWL0j"
      },
      "source": [
        "This regression penalises the model based on sum of absolute coefficient values. Unlike ridge, lasso allows some coefficients to be minimised to zero completely removing the predictor from the model."
      ]
    },
    {
      "cell_type": "code",
      "metadata": {
        "colab": {
          "base_uri": "https://localhost:8080/"
        },
        "id": "54OkIaeL230X",
        "outputId": "321407c0-a2f9-4075-e611-30aa429a1df7"
      },
      "source": [
        "#Creating the Variables:\n",
        "X = Model.drop('price', axis=1)\n",
        "y = Model['price']\n",
        "\n",
        "#Splitting the dataset:\n",
        "X_train, X_test, y_train, y_test = train_test_split(X, y, test_size=0.2, random_state= 0)\n",
        "print(X_train.shape, X_test.shape, y_train.shape, y_test.shape)\n"
      ],
      "execution_count": null,
      "outputs": [
        {
          "output_type": "stream",
          "name": "stdout",
          "text": [
            "(17285, 7) (4322, 7) (17285,) (4322,)\n"
          ]
        }
      ]
    },
    {
      "cell_type": "code",
      "metadata": {
        "id": "uYb8ldBjW-f3"
      },
      "source": [
        "#Choosing optimal parameters:\n",
        "lasso = Lasso(normalize=True)\n",
        "\n",
        "param_grid = [{'alpha':[10, 1, 0.1, 0.01, 0.001, 0.0001]}]\n",
        "               \n",
        "\n",
        "#Creating grid search using 5_fold cross validation:\n",
        "clf = GridSearchCV(ridge, param_grid = param_grid, cv=5, scoring = 'neg_mean_squared_error', n_jobs = 1, refit = True)\n",
        "\n",
        "#Fitting the grid search:\n",
        "best_clf = clf.fit(X_train, y_train)\n",
        "\n",
        "#Predicting values based on the new parameters:\n",
        "y_pred = best_clf.predict(X_test)"
      ],
      "execution_count": null,
      "outputs": []
    },
    {
      "cell_type": "code",
      "metadata": {
        "colab": {
          "base_uri": "https://localhost:8080/"
        },
        "id": "VTqdtEAyXGO5",
        "outputId": "7d7131ed-f56a-41be-c673-e70fbe081141"
      },
      "source": [
        "#Checking the accuracy and the best hyperparameter:\n",
        "print('Best Alpha:', best_clf.best_estimator_.get_params()['alpha'])\n",
        "print('Mean squared error (MSE): %.5f' % mean_squared_error(y_test, y_pred ))"
      ],
      "execution_count": null,
      "outputs": [
        {
          "output_type": "stream",
          "name": "stdout",
          "text": [
            "Best Alpha: 0.001\n",
            "Mean squared error (MSE): 60075829033.04131\n"
          ]
        }
      ]
    },
    {
      "cell_type": "code",
      "metadata": {
        "colab": {
          "base_uri": "https://localhost:8080/"
        },
        "id": "J2Eb6chPXKqB",
        "outputId": "efc22099-aae7-49e1-e0c1-57edde9fc313"
      },
      "source": [
        "#Model Selection using the Above parameters:\n",
        "lasso=Lasso(normalize=True,alpha=0.001)\n",
        "\n",
        "#Fitting the model:\n",
        "lasso.fit(X_train,y_train )"
      ],
      "execution_count": null,
      "outputs": [
        {
          "output_type": "execute_result",
          "data": {
            "text/plain": [
              "Lasso(alpha=0.001, normalize=True)"
            ]
          },
          "metadata": {},
          "execution_count": 58
        }
      ]
    },
    {
      "cell_type": "code",
      "metadata": {
        "colab": {
          "base_uri": "https://localhost:8080/"
        },
        "id": "Y_1-oQbFXOng",
        "outputId": "3a815eac-4084-4307-b847-fa162af1439e"
      },
      "source": [
        "#Checking the coefficients:\n",
        "Las_Coef =model.coef_\n",
        "Las_Summ = pd.DataFrame(data =X.columns, columns =['Features'])\n",
        "Las_Summ['Coefficients'] = np.round(lasso.coef_, 5)\n",
        "print(Las_Summ)\n",
        "\n",
        "#Checking for the MSE:\n",
        "Las = metrics.r2_score(y_test, y_pred)\n",
        "print('Intercept: ', lasso.intercept_)\n",
        "print('Mean squared error (MSE): %.5f' % mean_squared_error(y_test, y_pred ))\n",
        "print('Accuracy', lasso.score(X_test, y_test )* 100)"
      ],
      "execution_count": null,
      "outputs": [
        {
          "output_type": "stream",
          "name": "stdout",
          "text": [
            "        Features  Coefficients\n",
            "0    sqft_living     264.30174\n",
            "1       sqft_lot       0.02389\n",
            "2     waterfront  728006.55628\n",
            "3           view  163559.39149\n",
            "4  sqft_basement     -15.61201\n",
            "5   yr_renovated  115746.30173\n",
            "6     sqft_lot15      -0.66149\n",
            "Intercept:  -24125.420600572834\n",
            "Mean squared error (MSE): 60075829033.04131\n",
            "Accuracy 55.30070809662801\n"
          ]
        }
      ]
    },
    {
      "cell_type": "markdown",
      "metadata": {
        "id": "oN4qTL_Rcnep"
      },
      "source": [
        "**Finding**:\n",
        " - Comparing the lasso MSE of 60,075,829,033 , the baseline model still performs better. \n",
        " - No variable has been completely set to 0. Sqft_lot is set to a 0.02 from 1011 in the baseline model. This suggests that the feature may not be good for the algorithm."
      ]
    },
    {
      "cell_type": "markdown",
      "metadata": {
        "id": "SgaaIJA_Y7SJ"
      },
      "source": [
        "**Residual plot**"
      ]
    },
    {
      "cell_type": "code",
      "metadata": {
        "colab": {
          "base_uri": "https://localhost:8080/"
        },
        "id": "bhip0RGMYsl-",
        "outputId": "88aee171-991c-41de-8a07-32dd90240f74"
      },
      "source": [
        "#To find the residual:\n",
        "residuals = y_test-y_pred\n",
        "residuals\n",
        "\n",
        "#Describe the residual:\n",
        "pd.DataFrame(residuals).describe()\n",
        "residuals.mean()"
      ],
      "execution_count": null,
      "outputs": [
        {
          "output_type": "execute_result",
          "data": {
            "text/plain": [
              "4192.353751676441"
            ]
          },
          "metadata": {},
          "execution_count": 60
        }
      ]
    },
    {
      "cell_type": "code",
      "metadata": {
        "colab": {
          "base_uri": "https://localhost:8080/",
          "height": 306
        },
        "id": "xBDjQmGsYwot",
        "outputId": "d08fede8-5977-4c3b-9965-11cc33fb4e65"
      },
      "source": [
        "#Plotting the residual plot: \n",
        "plt.scatter(y_pred, residuals, color='black')\n",
        "plt.ylabel('residual')\n",
        "plt.xlabel('fitted values')\n",
        "plt.axhline(y= residuals.mean(), color='yellow', linewidth=1)\n",
        "plt.title('Residual Plot')\n",
        "plt.show()"
      ],
      "execution_count": null,
      "outputs": [
        {
          "output_type": "display_data",
          "data": {
            "image/png": "[encoded data removed]",
            "text/plain": [
              "<Figure size 432x288 with 1 Axes>"
            ]
          },
          "metadata": {}
        }
      ]
    },
    {
      "cell_type": "markdown",
      "metadata": {
        "id": "6FQIcKTfZBD0"
      },
      "source": [
        "**Bartlett's Test (heteroskedasticity testing)**"
      ]
    },
    {
      "cell_type": "code",
      "metadata": {
        "colab": {
          "base_uri": "https://localhost:8080/"
        },
        "id": "NYAPAwARY1kJ",
        "outputId": "9dda8345-eef5-45fb-d715-f9868b8f791d"
      },
      "source": [
        "#Using Barlett test to test if the variances are equal for all samples:\n",
        "test_result, p_value = sp.stats.bartlett(y_pred, residuals)\n",
        "\n",
        "degree_of_freedom = len(y_pred)-1\n",
        "probability = 1 - p_value\n",
        "\n",
        "critical_value = sp.stats.chi2.ppf(probability, degree_of_freedom)\n",
        "\n",
        "if (test_result > critical_value):\n",
        "  print('the variances are unequal, and the model should be reassessed')\n",
        "else:\n",
        "  print('the variances are homogeneous!')\n"
      ],
      "execution_count": null,
      "outputs": [
        {
          "output_type": "stream",
          "name": "stdout",
          "text": [
            "the variances are homogeneous!\n"
          ]
        }
      ]
    },
    {
      "cell_type": "markdown",
      "metadata": {
        "id": "wYmXXGyMndhJ"
      },
      "source": [
        "The Residual plot and Bartletts test is similar to the ridge model"
      ]
    },
    {
      "cell_type": "markdown",
      "metadata": {
        "id": "7IDjfZ6dYI90"
      },
      "source": [
        "4. **Elastic Net Regression**"
      ]
    },
    {
      "cell_type": "markdown",
      "metadata": {
        "id": "GOSjQk89ZZDw"
      },
      "source": [
        "This regression includes both the ridge and lasso regularizers during training. This allows a balance of both penalites hence leading to better performance compared to a model with one penalty"
      ]
    },
    {
      "cell_type": "code",
      "metadata": {
        "colab": {
          "base_uri": "https://localhost:8080/"
        },
        "id": "wtXa6DapYwHn",
        "outputId": "b3035b01-1b23-4417-ad5c-85cf38b5ffd7"
      },
      "source": [
        "#Creating the Variables:\n",
        "X = Model.drop('price', axis=1)\n",
        "y = Model['price']\n",
        "\n",
        "#Splitting the dataset:\n",
        "X_train, X_test, y_train, y_test = train_test_split(X, y, test_size=0.2, random_state= 0)\n",
        "print(X_train.shape, X_test.shape, y_train.shape, y_test.shape)\n"
      ],
      "execution_count": null,
      "outputs": [
        {
          "output_type": "stream",
          "name": "stdout",
          "text": [
            "(17285, 7) (4322, 7) (17285,) (4322,)\n"
          ]
        }
      ]
    },
    {
      "cell_type": "code",
      "metadata": {
        "id": "6VG_aKxMYOPE"
      },
      "source": [
        "#Choosing optimal parameters:\n",
        "enet = ElasticNet(normalize=True)\n",
        "\n",
        "param_grid = [{'alpha':[ 0.001, 0.01, 1, 10, 15, 30],\n",
        "               'l1_ratio':[0, 0.2, 0.4, 0.6, 0.8, 1.0]\n",
        "               }\n",
        "              ]\n",
        "\n",
        "#Creating grid search using 5_fold cross validation:\n",
        "clf = GridSearchCV(enet, param_grid = param_grid, cv=5, scoring = 'neg_mean_squared_error', n_jobs = 1, refit = True)\n",
        "\n",
        "#Fitting the grid search:\n",
        "best_clf = clf.fit(X_train, y_train)\n",
        "\n",
        "#Predicting values based on the new parameters:\n",
        "y_pred = best_clf.predict(X_test)"
      ],
      "execution_count": null,
      "outputs": []
    },
    {
      "cell_type": "code",
      "metadata": {
        "colab": {
          "base_uri": "https://localhost:8080/"
        },
        "id": "IY6Fy8jSYYEG",
        "outputId": "445c4e97-71bf-4f96-b21e-9466b3dea7fa"
      },
      "source": [
        "#Checking the accuracy and the best hyperparameter:\n",
        "print('Best Alpha:', best_clf.best_estimator_.get_params()['alpha'])\n",
        "print('Best L1_ratio:', best_clf.best_estimator_.get_params()['l1_ratio'])\n",
        "print('Mean squared error (MSE): %.5f' % mean_squared_error(y_test, y_pred ))"
      ],
      "execution_count": null,
      "outputs": [
        {
          "output_type": "stream",
          "name": "stdout",
          "text": [
            "Best Alpha: 1\n",
            "Best L1_ratio: 1.0\n",
            "Mean squared error (MSE): 60073999913.22037\n"
          ]
        }
      ]
    },
    {
      "cell_type": "code",
      "metadata": {
        "colab": {
          "base_uri": "https://localhost:8080/"
        },
        "id": "49rtXQ7LYklu",
        "outputId": "17e428c8-febb-4dc5-9e9d-83f0b68c814c"
      },
      "source": [
        "#Model Selection using the Above parameters:\n",
        "elastic=ElasticNet(normalize=True,alpha=1,l1_ratio=1)\n",
        "\n",
        "#Fitting the model:\n",
        "elastic.fit(X_train,y_train )"
      ],
      "execution_count": null,
      "outputs": [
        {
          "output_type": "execute_result",
          "data": {
            "text/plain": [
              "ElasticNet(alpha=1, l1_ratio=1, normalize=True)"
            ]
          },
          "metadata": {},
          "execution_count": 66
        }
      ]
    },
    {
      "cell_type": "code",
      "metadata": {
        "colab": {
          "base_uri": "https://localhost:8080/"
        },
        "id": "oeIDsXM-Yq6L",
        "outputId": "654d61cd-36a4-44a5-80ff-45faf619b4fc"
      },
      "source": [
        "#Checking the coeffiencts:\n",
        "Elas_Coef =model.coef_\n",
        "Elas_Summ = pd.DataFrame(data =X.columns, columns =['Features'])\n",
        "Elas_Summ['Coefficients'] = np.round(elastic.coef_, 5)\n",
        "print(Elas_Summ)\n",
        "\n",
        "#Checking for the MSE:\n",
        "Elas = metrics.r2_score(y_test, y_pred)\n",
        "print('Intercept: ', elastic.intercept_)\n",
        "print('Mean squared error (MSE): %.5f' % mean_squared_error(y_test, y_pred ))\n",
        "print('Accuracy', elastic.score(X_test, y_test )* 100)"
      ],
      "execution_count": null,
      "outputs": [
        {
          "output_type": "stream",
          "name": "stdout",
          "text": [
            "        Features  Coefficients\n",
            "0    sqft_living     264.06894\n",
            "1       sqft_lot       0.01260\n",
            "2     waterfront  726893.77236\n",
            "3           view  163176.91309\n",
            "4  sqft_basement     -14.99734\n",
            "5   yr_renovated  115152.96759\n",
            "6     sqft_lot15      -0.64279\n",
            "Intercept:  -23819.41933087469\n",
            "Mean squared error (MSE): 60073999913.22037\n",
            "Accuracy 55.301199903465644\n"
          ]
        }
      ]
    },
    {
      "cell_type": "markdown",
      "metadata": {
        "id": "py11Hy0_crmG"
      },
      "source": [
        "**Finding**:\n",
        " - The Elastic net MSE of 60,073,999,913 is lower than the baseline model.This suggests that the elastic net model is doing better than the baseline.\n",
        "\n"
      ]
    },
    {
      "cell_type": "markdown",
      "metadata": {
        "id": "CvnFbRCwcM8W"
      },
      "source": [
        "**Residual plot**"
      ]
    },
    {
      "cell_type": "code",
      "metadata": {
        "colab": {
          "base_uri": "https://localhost:8080/"
        },
        "id": "IsW3-NKKb_7J",
        "outputId": "d832f473-404d-4ff7-ac58-05c43ff72ff2"
      },
      "source": [
        "#To find the residual:\n",
        "residuals = y_test-y_pred\n",
        "residuals\n",
        "\n",
        "#Describe the residual:\n",
        "pd.DataFrame(residuals).describe()\n",
        "residuals.mean()"
      ],
      "execution_count": null,
      "outputs": [
        {
          "output_type": "execute_result",
          "data": {
            "text/plain": [
              "4196.507168399823"
            ]
          },
          "metadata": {},
          "execution_count": 68
        }
      ]
    },
    {
      "cell_type": "code",
      "metadata": {
        "colab": {
          "base_uri": "https://localhost:8080/",
          "height": 306
        },
        "id": "ucKoiobPcEGV",
        "outputId": "61026403-6d65-4080-faa4-f514d7022f35"
      },
      "source": [
        "#Plotting the residual plot: \n",
        "plt.scatter(y_pred, residuals, color='black')\n",
        "plt.ylabel('residual')\n",
        "plt.xlabel('fitted values')\n",
        "plt.axhline(y= residuals.mean(), color='yellow', linewidth=1)\n",
        "plt.title('Residual Plot')\n",
        "plt.show()"
      ],
      "execution_count": null,
      "outputs": [
        {
          "output_type": "display_data",
          "data": {
            "image/png": "[encoded data removed]",
            "text/plain": [
              "<Figure size 432x288 with 1 Axes>"
            ]
          },
          "metadata": {}
        }
      ]
    },
    {
      "cell_type": "markdown",
      "metadata": {
        "id": "xu3ftaKtcS8n"
      },
      "source": [
        "**Bartlett's Test (heteroskedasticity testing)**"
      ]
    },
    {
      "cell_type": "code",
      "metadata": {
        "colab": {
          "base_uri": "https://localhost:8080/"
        },
        "id": "qH55l9AWcH2e",
        "outputId": "d7ea8cd8-89d4-4c32-d2a2-04cc564685d3"
      },
      "source": [
        "#Using Barlett test to test if the variances are equal for all samples:\n",
        "test_result, p_value = sp.stats.bartlett(y_pred, residuals)\n",
        "\n",
        "degree_of_freedom = len(y_pred)-1\n",
        "probability = 1 - p_value\n",
        "\n",
        "critical_value = sp.stats.chi2.ppf(probability, degree_of_freedom)\n",
        "\n",
        "if (test_result > critical_value):\n",
        "  print('the variances are unequal, and the model should be reassessed')\n",
        "else:\n",
        "  print('the variances are homogeneous!')"
      ],
      "execution_count": null,
      "outputs": [
        {
          "output_type": "stream",
          "name": "stdout",
          "text": [
            "the variances are homogeneous!\n"
          ]
        }
      ]
    },
    {
      "cell_type": "markdown",
      "metadata": {
        "id": "N79ik5rMalzm"
      },
      "source": [
        "5. **Quantile Regression**"
      ]
    },
    {
      "cell_type": "markdown",
      "metadata": {
        "id": "m8QUO0VCrFK7"
      },
      "source": [
        "Quantile regression is often used to model specific conditional quantiles of the response. Unlike the simple regression it does not assume a particular parametric distribution for the response, nor does it assume a constant variance for the response. It is therefore able to provide prediction intervals besides the mean predictions."
      ]
    },
    {
      "cell_type": "code",
      "metadata": {
        "id": "aTMmgAYFao-M",
        "colab": {
          "base_uri": "https://localhost:8080/"
        },
        "outputId": "25a9388a-8b18-470d-9e98-0ba39b60a8c9"
      },
      "source": [
        "#Creating the Variables:\n",
        "X = Model.drop('price', axis=1)\n",
        "y = Model['price']\n",
        "\n",
        "#Splitting the dataset:\n",
        "X_train, X_test, y_train, y_test = train_test_split(X, y, test_size=0.2, random_state= 0)\n",
        "print(X_train.shape, X_test.shape, y_train.shape, y_test.shape)\n"
      ],
      "execution_count": null,
      "outputs": [
        {
          "output_type": "stream",
          "name": "stdout",
          "text": [
            "(17285, 7) (4322, 7) (17285,) (4322,)\n"
          ]
        }
      ]
    },
    {
      "cell_type": "code",
      "metadata": {
        "colab": {
          "base_uri": "https://localhost:8080/"
        },
        "id": "mMN3CW1Mavwj",
        "outputId": "3a78e031-73e3-4ca0-b76f-34f4eb030561"
      },
      "source": [
        "#Finding the regression coefficients for the conditioned median, 0.5 quantile:\n",
        "mod = smf.quantreg('y ~ X', Model)\n",
        "res = mod.fit(q=0.5)\n",
        "res\n",
        "#printng out the summary of our model:\n",
        "print(res.summary())"
      ],
      "execution_count": null,
      "outputs": [
        {
          "output_type": "stream",
          "name": "stdout",
          "text": [
            "                         QuantReg Regression Results                          \n",
            "==============================================================================\n",
            "Dep. Variable:                      y   Pseudo R-squared:               0.2741\n",
            "Model:                       QuantReg   Bandwidth:                   3.089e+04\n",
            "Method:                 Least Squares   Sparsity:                    4.697e+05\n",
            "Date:                Tue, 30 Nov 2021   No. Observations:                21607\n",
            "Time:                        02:36:23   Df Residuals:                    21599\n",
            "                                        Df Model:                            7\n",
            "==============================================================================\n",
            "                 coef    std err          t      P>|t|      [0.025      0.975]\n",
            "------------------------------------------------------------------------------\n",
            "Intercept   3.843e+04   4034.915      9.524      0.000    3.05e+04    4.63e+04\n",
            "X[0]         224.1954      2.006    111.789      0.000     220.264     228.126\n",
            "X[1]          -0.0030      0.056     -0.054      0.957      -0.112       0.106\n",
            "X[2]        4.925e+05   1.92e+04     25.641      0.000    4.55e+05     5.3e+05\n",
            "X[3]        1.209e+05   5858.901     20.628      0.000    1.09e+05    1.32e+05\n",
            "X[4]         -14.1845      4.094     -3.464      0.001     -22.210      -6.159\n",
            "X[5]        7.377e+04   8011.151      9.208      0.000    5.81e+04    8.95e+04\n",
            "X[6]          -0.2961      0.085     -3.504      0.000      -0.462      -0.131\n",
            "==============================================================================\n",
            "\n",
            "The condition number is large, 6.09e+05. This might indicate that there are\n",
            "strong multicollinearity or other numerical problems.\n"
          ]
        }
      ]
    },
    {
      "cell_type": "markdown",
      "metadata": {
        "id": "OhArvshYtAuW"
      },
      "source": [
        "The table displays the coefficients, upper and lower confidence limits, and the standard error of the features.\n",
        "The main benefit of this regression is the ability to estimate any quantile or percentile value of the response value by setting the q to the desired value\n",
        "\n",
        "A predictor that has a low p-value is likely to be a meaningful addition to the model because changes in the predictor's value are related to changes in the response variable. From the summary, we should consider removing X[1] sqft_lot as it has a p value of 0.957"
      ]
    },
    {
      "cell_type": "code",
      "metadata": {
        "id": "u7_gEikGh21U"
      },
      "source": [
        "#Applying the trained model to make a prediction\n",
        "y_pred = res.predict()\n"
      ],
      "execution_count": null,
      "outputs": []
    },
    {
      "cell_type": "code",
      "metadata": {
        "colab": {
          "base_uri": "https://localhost:8080/"
        },
        "id": "ncOIFkS0fgwz",
        "outputId": "eaa67e8f-72a7-49f4-9562-de2b9c3e1331"
      },
      "source": [
        "#Checking for the MSE and Accuracy:\n",
        "Qua = metrics.r2_score(y, y_pred)\n",
        "print('Intercept: ', model.intercept_)\n",
        "print('Mean squared error (MSE): %.5f' % mean_squared_error(y, y_pred ))\n",
        "print('Mean Absolute Error (MAE):', metrics.mean_absolute_error(y, y_pred))  \n",
        "print('Root Mean Squared Error (RMSE) :', np.sqrt(metrics.mean_squared_error(y, y_pred)))\n",
        "print('Coefficient  of Determination (R^2): %.3f' % r2_score(y, y_pred ))\n"
      ],
      "execution_count": null,
      "outputs": [
        {
          "output_type": "stream",
          "name": "stdout",
          "text": [
            "Intercept:  -24125.726777125034\n",
            "Mean squared error (MSE): 63169605233.87752\n",
            "Mean Absolute Error (MAE): 161038.8431467977\n",
            "Root Mean Squared Error (RMSE) : 251335.64258552252\n",
            "Coefficient  of Determination (R^2): 0.532\n"
          ]
        }
      ]
    },
    {
      "cell_type": "markdown",
      "metadata": {
        "id": "YHEsUWc4uc49"
      },
      "source": [
        "The MSE value of 63,169,605,233  and R^2 score of the quantile regression shows its performing poorly compared to the other models"
      ]
    },
    {
      "cell_type": "markdown",
      "metadata": {
        "id": "elwLcEKBrAvf"
      },
      "source": [
        "**Residual plot**"
      ]
    },
    {
      "cell_type": "code",
      "metadata": {
        "colab": {
          "base_uri": "https://localhost:8080/"
        },
        "id": "3jTHW19-qiYW",
        "outputId": "3156b3cf-a314-46ae-a736-111563568d51"
      },
      "source": [
        "#To find the residual:\n",
        "residuals = y-y_pred\n",
        "residuals\n",
        "\n",
        "#Describe the residual:\n",
        "pd.DataFrame(residuals).describe()\n",
        "residuals.mean()"
      ],
      "execution_count": null,
      "outputs": [
        {
          "output_type": "execute_result",
          "data": {
            "text/plain": [
              "24749.858596126418"
            ]
          },
          "metadata": {},
          "execution_count": 140
        }
      ]
    },
    {
      "cell_type": "code",
      "metadata": {
        "colab": {
          "base_uri": "https://localhost:8080/",
          "height": 306
        },
        "id": "pLzJcb-pqrP-",
        "outputId": "aa787ef9-faf4-4ddd-e8c6-f4a812399e08"
      },
      "source": [
        "#Plotting the residual plot: \n",
        "plt.scatter(y_pred, residuals, color='black')\n",
        "plt.ylabel('residual')\n",
        "plt.xlabel('fitted values')\n",
        "plt.axhline(y= residuals.mean(), color='yellow', linewidth=1)\n",
        "plt.title('Residual Plot')\n",
        "plt.show()"
      ],
      "execution_count": null,
      "outputs": [
        {
          "output_type": "display_data",
          "data": {
            "image/png": "[encoded data removed]",
            "text/plain": [
              "<Figure size 432x288 with 1 Axes>"
            ]
          },
          "metadata": {}
        }
      ]
    },
    {
      "cell_type": "markdown",
      "metadata": {
        "id": "1hQTk4msq2ls"
      },
      "source": [
        "**Bartlett's Test (heteroskedasticity testing)**"
      ]
    },
    {
      "cell_type": "code",
      "metadata": {
        "colab": {
          "base_uri": "https://localhost:8080/"
        },
        "id": "1M3i68ROqxiY",
        "outputId": "83ea1fb7-7b50-4a75-f087-b76c5ab3f1e2"
      },
      "source": [
        "#Using Barlett test to test if the variances are equal for all samples:\n",
        "test_result, p_value = sp.stats.bartlett(y_pred, residuals)\n",
        "\n",
        "degree_of_freedom = len(y_pred)-1\n",
        "probability = 1 - p_value\n",
        "\n",
        "critical_value = sp.stats.chi2.ppf(probability, degree_of_freedom)\n",
        "\n",
        "if (test_result > critical_value):\n",
        "  print('the variances are unequal, and the model should be reassessed')\n",
        "else:\n",
        "  print('the variances are homogeneous!')"
      ],
      "execution_count": null,
      "outputs": [
        {
          "output_type": "stream",
          "name": "stdout",
          "text": [
            "the variances are homogeneous!\n"
          ]
        }
      ]
    },
    {
      "cell_type": "markdown",
      "metadata": {
        "id": "tbGDMJfxt7HG"
      },
      "source": [
        "The Residual plot and Bartletts test are similar across all models"
      ]
    },
    {
      "cell_type": "markdown",
      "metadata": {
        "id": "CaAQM6NA-PuO"
      },
      "source": [
        "# **Performance Analysis**"
      ]
    },
    {
      "cell_type": "code",
      "metadata": {
        "colab": {
          "base_uri": "https://localhost:8080/",
          "height": 206
        },
        "id": "qMx2o1Zl1sn6",
        "outputId": "c79d16d5-694d-43fe-c230-86f05794b853"
      },
      "source": [
        "#Model Comparison:\n",
        "Models =  pd.DataFrame({'Model': ['Multiple Linear Regression', 'Quantile Regression', ' Ridge Regression', \n",
        "                               'Lasso Regression', 'Elastic Net Regression'],\n",
        "                     'R-Squared Score': [Lin*100, Qua*100, Ridg*100, Las*100, Elas*100 ]})\n",
        "Models.sort_values(by = 'R-Squared Score', ascending = False)"
      ],
      "execution_count": null,
      "outputs": [
        {
          "output_type": "execute_result",
          "data": {
            "text/html": [
              "<div>\n",
              "<style scoped>\n",
              "    .dataframe tbody tr th:only-of-type {\n",
              "        vertical-align: middle;\n",
              "    }\n",
              "\n",
              "    .dataframe tbody tr th {\n",
              "        vertical-align: top;\n",
              "    }\n",
              "\n",
              "    .dataframe thead th {\n",
              "        text-align: right;\n",
              "    }\n",
              "</style>\n",
              "<table border=\"1\" class=\"dataframe\">\n",
              "  <thead>\n",
              "    <tr style=\"text-align: right;\">\n",
              "      <th></th>\n",
              "      <th>Model</th>\n",
              "      <th>R-Squared Score</th>\n",
              "    </tr>\n",
              "  </thead>\n",
              "  <tbody>\n",
              "    <tr>\n",
              "      <th>4</th>\n",
              "      <td>Elastic Net Regression</td>\n",
              "      <td>55.301200</td>\n",
              "    </tr>\n",
              "    <tr>\n",
              "      <th>0</th>\n",
              "      <td>Multiple Linear Regression</td>\n",
              "      <td>55.300707</td>\n",
              "    </tr>\n",
              "    <tr>\n",
              "      <th>2</th>\n",
              "      <td>Ridge Regression</td>\n",
              "      <td>55.299839</td>\n",
              "    </tr>\n",
              "    <tr>\n",
              "      <th>3</th>\n",
              "      <td>Lasso Regression</td>\n",
              "      <td>55.299839</td>\n",
              "    </tr>\n",
              "    <tr>\n",
              "      <th>1</th>\n",
              "      <td>Quantile Regression</td>\n",
              "      <td>53.154105</td>\n",
              "    </tr>\n",
              "  </tbody>\n",
              "</table>\n",
              "</div>"
            ],
            "text/plain": [
              "                        Model  R-Squared Score\n",
              "4      Elastic Net Regression        55.301200\n",
              "0  Multiple Linear Regression        55.300707\n",
              "2            Ridge Regression        55.299839\n",
              "3            Lasso Regression        55.299839\n",
              "1         Quantile Regression        53.154105"
            ]
          },
          "metadata": {},
          "execution_count": 152
        }
      ]
    },
    {
      "cell_type": "markdown",
      "metadata": {
        "id": "7iDs19SUC6Kz"
      },
      "source": [
        ""
      ]
    },
    {
      "cell_type": "markdown",
      "metadata": {
        "id": "USgnkNGWw7e1"
      },
      "source": [
        "**Findings**:\n",
        " \n",
        "  - Elastic net regression has a better R^2 score compared to the other models. In as much as the difference between the elastic net and the multiple linear regression is minimal, the fact that elastic net forces the learning algorithm to build a less complex model makes it highly preferrable. \n",
        "\n",
        "  This regression also acts as a middle ground between ridge and lasso\n",
        "  as parameters are set to control the mix ratio.\n",
        "\n",
        "- The quantile regression on the other hand is handy when:\n",
        "   -  Estimating the median or any quantile\n",
        "   -  Key assumptions of linear regression are not satisfied\n",
        "   -  Outliers are present in the data\n",
        "   -  Residuals are not normal.\n",
        " \n",
        "- Comparing the coefficient value of Sqft_lot across all the models;\n",
        "\n",
        "  Linear regression - 1011.03\n",
        "\n",
        "  Ridge - 0.02\n",
        "\n",
        "  Lasso - 0.02\n",
        "\n",
        "  Elastic net - 0.01\n",
        "\n",
        "  Quantile - 0.00 with a Pvalue of 0.957\n",
        "\n",
        " From how the value was minimised across the models suggest that the feature was not good for the algorithm\n",
        "\n",
        "- The negative coefficient values of sqft_basement and sqft_lot15 suggests that as the price of the house increase, the figure of the 2 variables decreases . The higher the price of the house is, the lower the square footage of the lots and the basements will be.\n"
      ]
    },
    {
      "cell_type": "markdown",
      "metadata": {
        "id": "S2cBEoKI4DHD"
      },
      "source": [
        "**Conclusions**"
      ]
    },
    {
      "cell_type": "markdown",
      "metadata": {
        "id": "_Dh1asP14VIL"
      },
      "source": [
        "\n",
        " - The pattern and outliers in the residual plots signifies that we did not completely capture the predictive information of the data in the model.\n",
        " \n",
        "- The high correlation among the features in the data also suggest that Regression may not have been the best algorithim for the data or the models need further improvements.\n",
        "\n",
        "- The various performance metrics and  overall accuracy score of 55% show that the approaches used did not yield a good predictor model of price hence the metrics for success not achieved.\n",
        "\n",
        "**Recommendations**:\n",
        " - The model can be improved by better handling feature selection or increasing the number of inputs.\n",
        " - Exploring other classifiers such as Random Forest or XGBoost\n",
        " "
      ]
    }
  ]
}